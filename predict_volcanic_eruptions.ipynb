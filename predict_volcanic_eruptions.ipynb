{
  "nbformat": 4,
  "nbformat_minor": 0,
  "metadata": {
    "colab": {
      "name": "predict-volcanic-eruptions.ipynb",
      "provenance": [],
      "collapsed_sections": [],
      "include_colab_link": true
    },
    "kernelspec": {
      "name": "python3",
      "display_name": "Python 3"
    }
  },
  "cells": [
    {
      "cell_type": "markdown",
      "metadata": {
        "id": "view-in-github",
        "colab_type": "text"
      },
      "source": [
        "<a href=\"https://colab.research.google.com/github/abishekabi/Volcanic-Eruption-Prediction/blob/main/predict_volcanic_eruptions.ipynb\" target=\"_parent\"><img src=\"https://colab.research.google.com/assets/colab-badge.svg\" alt=\"Open In Colab\"/></a>"
      ]
    },
    {
      "cell_type": "code",
      "metadata": {
        "id": "qvvpmOx0nrQU",
        "outputId": "3dbef124-2d3d-4e2b-a683-b19d7d6ece0c",
        "colab": {
          "base_uri": "https://localhost:8080/",
          "height": 34
        }
      },
      "source": [
        "from google.colab import drive\n",
        "\n",
        "drive.mount('/content/gdrive')\n",
        "root_path = 'gdrive/My Drive/Colab Notebooks/predict-volcanic-eruptions'"
      ],
      "execution_count": 71,
      "outputs": [
        {
          "output_type": "stream",
          "text": [
            "Drive already mounted at /content/gdrive; to attempt to forcibly remount, call drive.mount(\"/content/gdrive\", force_remount=True).\n"
          ],
          "name": "stdout"
        }
      ]
    },
    {
      "cell_type": "code",
      "metadata": {
        "id": "CskWoxVcn7ed",
        "outputId": "f31a5fa4-7358-4176-c489-510ace9aad25",
        "colab": {
          "base_uri": "https://localhost:8080/",
          "height": 52
        }
      },
      "source": [
        "%cd 'gdrive/My Drive/Colab Notebooks/predict-volcanic-eruptions'"
      ],
      "execution_count": 72,
      "outputs": [
        {
          "output_type": "stream",
          "text": [
            "[Errno 2] No such file or directory: 'gdrive/My Drive/Colab Notebooks/predict-volcanic-eruptions'\n",
            "/content/gdrive/My Drive/Colab Notebooks/predict-volcanic-eruptions\n"
          ],
          "name": "stdout"
        }
      ]
    },
    {
      "cell_type": "code",
      "metadata": {
        "id": "FlTPh0xGuXBR"
      },
      "source": [
        "# !wget \"https://storage.googleapis.com/kaggle-competitions-data/kaggle-v2/19059/1581061/bundle/archive.zip?GoogleAccessId=web-data@kaggle-161607.iam.gserviceaccount.com&Expires=1603216878&Signature=Xcz3Ni8%2F7bb7rIyQlyeyfbeASoi78143MpaVMe3kyZXi3WKfxcW7kp%2F44CQYzgoE2FfwzGR343oh5QVkHTt9xTGjHufJZRxbiJ0allxJiMFJrdZaZLZP8UwcQGl4k7ZlyF%2Bc7lAcoYNI14LjW4GEUSTOYvWyIrJqWGsBPwYCcLaGLaHP4lKxF0W7M%2FIOlyIMASugpiRIVsuCkR8fNWT3k4vyRgSldLTlfI46fkNvOFIsOl8kU%2BeRVd8yuhBrA8EmY8QRR0%2FGl9wSCfyjQe8Or4nSWs5V5svpRrzbtl5gTeMcIi8emEAktsbg8lK3%2F%2BzpIMu4map2I1aXj1wAqMPnYA%3D%3D&response-content-disposition=attachment%3B+filename%3Dpredict-volcanic-eruptions-ingv-oe.zip\"\n",
        "# !unzip data.zip\n",
        "# from google.colab import files\n",
        "# files.upload() \n",
        "# !pip install -q kaggle\n",
        "# !mkdir -p ~/.kaggle\n",
        "# !cp kaggle.json ~/.kaggle/\n",
        "# !ls ~/.kaggle\n",
        "# !chmod 600 /root/.kaggle/kaggle.json  # set permission\n",
        "#!kaggle competitions download -c predict-volcanic-eruptions-ingv-oe "
      ],
      "execution_count": 73,
      "outputs": []
    },
    {
      "cell_type": "code",
      "metadata": {
        "id": "r7udp1gviq-n",
        "outputId": "0bdea493-ceaa-4636-8b0e-3e89e7d5f321",
        "colab": {
          "base_uri": "https://localhost:8080/",
          "height": 139
        }
      },
      "source": [
        "!ls -lh "
      ],
      "execution_count": 74,
      "outputs": [
        {
          "output_type": "stream",
          "text": [
            "total 9.5G\n",
            "-rw------- 1 root root 9.5G Oct 17 18:06 data.zip\n",
            "-rw------- 1 root root  59K Oct 27 23:50 predict-volcanic-eruptions.ipynb\n",
            "-rw------- 1 root root  56K Oct 17 18:08 sample_submission.csv\n",
            "drwx------ 2 root root 4.0K Oct 17 18:06 test\n",
            "drwx------ 2 root root 4.0K Oct 19 15:53 train\n",
            "-rw------- 1 root root  84K Oct 19 16:30 train.csv\n"
          ],
          "name": "stdout"
        }
      ]
    },
    {
      "cell_type": "code",
      "metadata": {
        "id": "zwCVTcTU8iRo"
      },
      "source": [
        "import gc\n",
        "import glob\n",
        "from itertools import chain\n",
        "\n",
        "import matplotlib.pyplot as plt\n",
        "import numpy as np\n",
        "import pandas as pd\n",
        "import seaborn as sns\n",
        "from sklearn.linear_model import LinearRegression"
      ],
      "execution_count": 75,
      "outputs": []
    },
    {
      "cell_type": "code",
      "metadata": {
        "id": "VqVA3QdcsO9P",
        "outputId": "823d88d7-7de9-477b-f72f-6c3e4d14e2db",
        "colab": {
          "base_uri": "https://localhost:8080/",
          "height": 206
        }
      },
      "source": [
        " df=pd.read_csv('train.csv')\n",
        "df.head()"
      ],
      "execution_count": 76,
      "outputs": [
        {
          "output_type": "execute_result",
          "data": {
            "text/html": [
              "<div>\n",
              "<style scoped>\n",
              "    .dataframe tbody tr th:only-of-type {\n",
              "        vertical-align: middle;\n",
              "    }\n",
              "\n",
              "    .dataframe tbody tr th {\n",
              "        vertical-align: top;\n",
              "    }\n",
              "\n",
              "    .dataframe thead th {\n",
              "        text-align: right;\n",
              "    }\n",
              "</style>\n",
              "<table border=\"1\" class=\"dataframe\">\n",
              "  <thead>\n",
              "    <tr style=\"text-align: right;\">\n",
              "      <th></th>\n",
              "      <th>segment_id</th>\n",
              "      <th>time_to_eruption</th>\n",
              "    </tr>\n",
              "  </thead>\n",
              "  <tbody>\n",
              "    <tr>\n",
              "      <th>0</th>\n",
              "      <td>1136037770</td>\n",
              "      <td>12262005</td>\n",
              "    </tr>\n",
              "    <tr>\n",
              "      <th>1</th>\n",
              "      <td>1969647810</td>\n",
              "      <td>32739612</td>\n",
              "    </tr>\n",
              "    <tr>\n",
              "      <th>2</th>\n",
              "      <td>1895879680</td>\n",
              "      <td>14965999</td>\n",
              "    </tr>\n",
              "    <tr>\n",
              "      <th>3</th>\n",
              "      <td>2068207140</td>\n",
              "      <td>26469720</td>\n",
              "    </tr>\n",
              "    <tr>\n",
              "      <th>4</th>\n",
              "      <td>192955606</td>\n",
              "      <td>31072429</td>\n",
              "    </tr>\n",
              "  </tbody>\n",
              "</table>\n",
              "</div>"
            ],
            "text/plain": [
              "   segment_id  time_to_eruption\n",
              "0  1136037770          12262005\n",
              "1  1969647810          32739612\n",
              "2  1895879680          14965999\n",
              "3  2068207140          26469720\n",
              "4   192955606          31072429"
            ]
          },
          "metadata": {
            "tags": []
          },
          "execution_count": 76
        }
      ]
    },
    {
      "cell_type": "code",
      "metadata": {
        "id": "mXEACismt6FN",
        "outputId": "d48823b4-1300-45ed-bdcf-2ee2cf60b654",
        "colab": {
          "base_uri": "https://localhost:8080/",
          "height": 206
        }
      },
      "source": [
        "df=pd.read_csv('train/1136037770.csv')\n",
        "df.head()"
      ],
      "execution_count": 77,
      "outputs": [
        {
          "output_type": "execute_result",
          "data": {
            "text/html": [
              "<div>\n",
              "<style scoped>\n",
              "    .dataframe tbody tr th:only-of-type {\n",
              "        vertical-align: middle;\n",
              "    }\n",
              "\n",
              "    .dataframe tbody tr th {\n",
              "        vertical-align: top;\n",
              "    }\n",
              "\n",
              "    .dataframe thead th {\n",
              "        text-align: right;\n",
              "    }\n",
              "</style>\n",
              "<table border=\"1\" class=\"dataframe\">\n",
              "  <thead>\n",
              "    <tr style=\"text-align: right;\">\n",
              "      <th></th>\n",
              "      <th>sensor_1</th>\n",
              "      <th>sensor_2</th>\n",
              "      <th>sensor_3</th>\n",
              "      <th>sensor_4</th>\n",
              "      <th>sensor_5</th>\n",
              "      <th>sensor_6</th>\n",
              "      <th>sensor_7</th>\n",
              "      <th>sensor_8</th>\n",
              "      <th>sensor_9</th>\n",
              "      <th>sensor_10</th>\n",
              "    </tr>\n",
              "  </thead>\n",
              "  <tbody>\n",
              "    <tr>\n",
              "      <th>0</th>\n",
              "      <td>220.0</td>\n",
              "      <td>339.0</td>\n",
              "      <td>-336.0</td>\n",
              "      <td>364.0</td>\n",
              "      <td>NaN</td>\n",
              "      <td>492.0</td>\n",
              "      <td>-796.0</td>\n",
              "      <td>-423.0</td>\n",
              "      <td>-582.0</td>\n",
              "      <td>-40.0</td>\n",
              "    </tr>\n",
              "    <tr>\n",
              "      <th>1</th>\n",
              "      <td>178.0</td>\n",
              "      <td>221.0</td>\n",
              "      <td>-317.0</td>\n",
              "      <td>366.0</td>\n",
              "      <td>NaN</td>\n",
              "      <td>525.0</td>\n",
              "      <td>-754.0</td>\n",
              "      <td>-415.0</td>\n",
              "      <td>-932.0</td>\n",
              "      <td>-305.0</td>\n",
              "    </tr>\n",
              "    <tr>\n",
              "      <th>2</th>\n",
              "      <td>151.0</td>\n",
              "      <td>42.0</td>\n",
              "      <td>-280.0</td>\n",
              "      <td>250.0</td>\n",
              "      <td>NaN</td>\n",
              "      <td>463.0</td>\n",
              "      <td>-772.0</td>\n",
              "      <td>-229.0</td>\n",
              "      <td>-257.0</td>\n",
              "      <td>-59.0</td>\n",
              "    </tr>\n",
              "    <tr>\n",
              "      <th>3</th>\n",
              "      <td>162.0</td>\n",
              "      <td>-123.0</td>\n",
              "      <td>-243.0</td>\n",
              "      <td>288.0</td>\n",
              "      <td>NaN</td>\n",
              "      <td>303.0</td>\n",
              "      <td>-899.0</td>\n",
              "      <td>212.0</td>\n",
              "      <td>-295.0</td>\n",
              "      <td>38.0</td>\n",
              "    </tr>\n",
              "    <tr>\n",
              "      <th>4</th>\n",
              "      <td>158.0</td>\n",
              "      <td>-287.0</td>\n",
              "      <td>-300.0</td>\n",
              "      <td>372.0</td>\n",
              "      <td>NaN</td>\n",
              "      <td>169.0</td>\n",
              "      <td>-769.0</td>\n",
              "      <td>755.0</td>\n",
              "      <td>169.0</td>\n",
              "      <td>-239.0</td>\n",
              "    </tr>\n",
              "  </tbody>\n",
              "</table>\n",
              "</div>"
            ],
            "text/plain": [
              "   sensor_1  sensor_2  sensor_3  ...  sensor_8  sensor_9  sensor_10\n",
              "0     220.0     339.0    -336.0  ...    -423.0    -582.0      -40.0\n",
              "1     178.0     221.0    -317.0  ...    -415.0    -932.0     -305.0\n",
              "2     151.0      42.0    -280.0  ...    -229.0    -257.0      -59.0\n",
              "3     162.0    -123.0    -243.0  ...     212.0    -295.0       38.0\n",
              "4     158.0    -287.0    -300.0  ...     755.0     169.0     -239.0\n",
              "\n",
              "[5 rows x 10 columns]"
            ]
          },
          "metadata": {
            "tags": []
          },
          "execution_count": 77
        }
      ]
    },
    {
      "cell_type": "code",
      "metadata": {
        "id": "D751U8TVoDkd",
        "outputId": "adfa31e2-3eeb-44a1-caf7-83d77eb3b2b6",
        "colab": {
          "base_uri": "https://localhost:8080/",
          "height": 206
        }
      },
      "source": [
        "df=pd.read_csv('sample_submission.csv')\n",
        "df.head()"
      ],
      "execution_count": 78,
      "outputs": [
        {
          "output_type": "execute_result",
          "data": {
            "text/html": [
              "<div>\n",
              "<style scoped>\n",
              "    .dataframe tbody tr th:only-of-type {\n",
              "        vertical-align: middle;\n",
              "    }\n",
              "\n",
              "    .dataframe tbody tr th {\n",
              "        vertical-align: top;\n",
              "    }\n",
              "\n",
              "    .dataframe thead th {\n",
              "        text-align: right;\n",
              "    }\n",
              "</style>\n",
              "<table border=\"1\" class=\"dataframe\">\n",
              "  <thead>\n",
              "    <tr style=\"text-align: right;\">\n",
              "      <th></th>\n",
              "      <th>segment_id</th>\n",
              "      <th>time_to_eruption</th>\n",
              "    </tr>\n",
              "  </thead>\n",
              "  <tbody>\n",
              "    <tr>\n",
              "      <th>0</th>\n",
              "      <td>1000213997</td>\n",
              "      <td>0</td>\n",
              "    </tr>\n",
              "    <tr>\n",
              "      <th>1</th>\n",
              "      <td>100023368</td>\n",
              "      <td>0</td>\n",
              "    </tr>\n",
              "    <tr>\n",
              "      <th>2</th>\n",
              "      <td>1000488999</td>\n",
              "      <td>0</td>\n",
              "    </tr>\n",
              "    <tr>\n",
              "      <th>3</th>\n",
              "      <td>1001028887</td>\n",
              "      <td>0</td>\n",
              "    </tr>\n",
              "    <tr>\n",
              "      <th>4</th>\n",
              "      <td>1001857862</td>\n",
              "      <td>0</td>\n",
              "    </tr>\n",
              "  </tbody>\n",
              "</table>\n",
              "</div>"
            ],
            "text/plain": [
              "   segment_id  time_to_eruption\n",
              "0  1000213997                 0\n",
              "1   100023368                 0\n",
              "2  1000488999                 0\n",
              "3  1001028887                 0\n",
              "4  1001857862                 0"
            ]
          },
          "metadata": {
            "tags": []
          },
          "execution_count": 78
        }
      ]
    },
    {
      "cell_type": "code",
      "metadata": {
        "id": "eh9T-qLKmlWm",
        "outputId": "b93de7fe-ec38-4e13-d60a-9f0544289922",
        "colab": {
          "base_uri": "https://localhost:8080/",
          "height": 206
        }
      },
      "source": [
        "df = pd.read_csv('test/1000213997.csv')\n",
        "df.head()"
      ],
      "execution_count": 79,
      "outputs": [
        {
          "output_type": "execute_result",
          "data": {
            "text/html": [
              "<div>\n",
              "<style scoped>\n",
              "    .dataframe tbody tr th:only-of-type {\n",
              "        vertical-align: middle;\n",
              "    }\n",
              "\n",
              "    .dataframe tbody tr th {\n",
              "        vertical-align: top;\n",
              "    }\n",
              "\n",
              "    .dataframe thead th {\n",
              "        text-align: right;\n",
              "    }\n",
              "</style>\n",
              "<table border=\"1\" class=\"dataframe\">\n",
              "  <thead>\n",
              "    <tr style=\"text-align: right;\">\n",
              "      <th></th>\n",
              "      <th>sensor_1</th>\n",
              "      <th>sensor_2</th>\n",
              "      <th>sensor_3</th>\n",
              "      <th>sensor_4</th>\n",
              "      <th>sensor_5</th>\n",
              "      <th>sensor_6</th>\n",
              "      <th>sensor_7</th>\n",
              "      <th>sensor_8</th>\n",
              "      <th>sensor_9</th>\n",
              "      <th>sensor_10</th>\n",
              "    </tr>\n",
              "  </thead>\n",
              "  <tbody>\n",
              "    <tr>\n",
              "      <th>0</th>\n",
              "      <td>180.0</td>\n",
              "      <td>NaN</td>\n",
              "      <td>295.0</td>\n",
              "      <td>-221.0</td>\n",
              "      <td>-81.0</td>\n",
              "      <td>379.0</td>\n",
              "      <td>240.0</td>\n",
              "      <td>-288.0</td>\n",
              "      <td>152.0</td>\n",
              "      <td>0.0</td>\n",
              "    </tr>\n",
              "    <tr>\n",
              "      <th>1</th>\n",
              "      <td>200.0</td>\n",
              "      <td>NaN</td>\n",
              "      <td>199.0</td>\n",
              "      <td>-99.0</td>\n",
              "      <td>32.0</td>\n",
              "      <td>-226.0</td>\n",
              "      <td>241.0</td>\n",
              "      <td>-114.0</td>\n",
              "      <td>36.0</td>\n",
              "      <td>0.0</td>\n",
              "    </tr>\n",
              "    <tr>\n",
              "      <th>2</th>\n",
              "      <td>193.0</td>\n",
              "      <td>NaN</td>\n",
              "      <td>113.0</td>\n",
              "      <td>17.0</td>\n",
              "      <td>164.0</td>\n",
              "      <td>52.0</td>\n",
              "      <td>294.0</td>\n",
              "      <td>27.0</td>\n",
              "      <td>-21.0</td>\n",
              "      <td>0.0</td>\n",
              "    </tr>\n",
              "    <tr>\n",
              "      <th>3</th>\n",
              "      <td>188.0</td>\n",
              "      <td>NaN</td>\n",
              "      <td>26.0</td>\n",
              "      <td>125.0</td>\n",
              "      <td>274.0</td>\n",
              "      <td>-278.0</td>\n",
              "      <td>324.0</td>\n",
              "      <td>338.0</td>\n",
              "      <td>-22.0</td>\n",
              "      <td>0.0</td>\n",
              "    </tr>\n",
              "    <tr>\n",
              "      <th>4</th>\n",
              "      <td>177.0</td>\n",
              "      <td>NaN</td>\n",
              "      <td>-48.0</td>\n",
              "      <td>183.0</td>\n",
              "      <td>355.0</td>\n",
              "      <td>-363.0</td>\n",
              "      <td>356.0</td>\n",
              "      <td>339.0</td>\n",
              "      <td>-32.0</td>\n",
              "      <td>0.0</td>\n",
              "    </tr>\n",
              "  </tbody>\n",
              "</table>\n",
              "</div>"
            ],
            "text/plain": [
              "   sensor_1  sensor_2  sensor_3  ...  sensor_8  sensor_9  sensor_10\n",
              "0     180.0       NaN     295.0  ...    -288.0     152.0        0.0\n",
              "1     200.0       NaN     199.0  ...    -114.0      36.0        0.0\n",
              "2     193.0       NaN     113.0  ...      27.0     -21.0        0.0\n",
              "3     188.0       NaN      26.0  ...     338.0     -22.0        0.0\n",
              "4     177.0       NaN     -48.0  ...     339.0     -32.0        0.0\n",
              "\n",
              "[5 rows x 10 columns]"
            ]
          },
          "metadata": {
            "tags": []
          },
          "execution_count": 79
        }
      ]
    },
    {
      "cell_type": "code",
      "metadata": {
        "id": "qTxSMUKupfvM",
        "outputId": "8fbd8e98-a6ac-4a93-b3b8-7e2d93030c93",
        "colab": {
          "base_uri": "https://localhost:8080/",
          "height": 52
        }
      },
      "source": [
        "!ls"
      ],
      "execution_count": 80,
      "outputs": [
        {
          "output_type": "stream",
          "text": [
            "data.zip\t\t\t  sample_submission.csv  train\n",
            "predict-volcanic-eruptions.ipynb  test\t\t\t train.csv\n"
          ],
          "name": "stdout"
        }
      ]
    },
    {
      "cell_type": "markdown",
      "metadata": {
        "id": "DjIckxH6vzeD"
      },
      "source": [
        "# Data"
      ]
    },
    {
      "cell_type": "code",
      "metadata": {
        "id": "K8z7kpHOpjiu"
      },
      "source": [
        ""
      ],
      "execution_count": 80,
      "outputs": []
    },
    {
      "cell_type": "code",
      "metadata": {
        "id": "L1WuRhdiv1kr"
      },
      "source": [
        "train = pd.read_csv(\"train.csv\")\n",
        "sample_submission = pd.read_csv(\"sample_submission.csv\")\n"
      ],
      "execution_count": 81,
      "outputs": []
    },
    {
      "cell_type": "code",
      "metadata": {
        "id": "f9pvfhl5v_X1"
      },
      "source": [
        "train_segment_csvs = glob.glob(\"train/*\")\n",
        "test_segment_csvs = glob.glob(\"test/*\")"
      ],
      "execution_count": 82,
      "outputs": []
    },
    {
      "cell_type": "code",
      "metadata": {
        "id": "huu3pZ38wJQz",
        "outputId": "502ec813-6a49-40ba-a6ec-4e1d3588aaa7",
        "colab": {
          "base_uri": "https://localhost:8080/",
          "height": 104
        }
      },
      "source": [
        "train_segment_csvs[0:5]"
      ],
      "execution_count": 83,
      "outputs": [
        {
          "output_type": "execute_result",
          "data": {
            "text/plain": [
              "['train/579307667.csv',\n",
              " 'train/579908624.csv',\n",
              " 'train/579683001.csv',\n",
              " 'train/580262567.csv',\n",
              " 'train/581069262.csv']"
            ]
          },
          "metadata": {
            "tags": []
          },
          "execution_count": 83
        }
      ]
    },
    {
      "cell_type": "code",
      "metadata": {
        "id": "OWrsCzHu-JKJ",
        "outputId": "5584ef80-a9c7-4222-d697-623215f80795",
        "colab": {
          "base_uri": "https://localhost:8080/",
          "height": 104
        }
      },
      "source": [
        "test_segment_csvs[0:5]"
      ],
      "execution_count": 84,
      "outputs": [
        {
          "output_type": "execute_result",
          "data": {
            "text/plain": [
              "['test/58542575.csv',\n",
              " 'test/585632599.csv',\n",
              " 'test/585794453.csv',\n",
              " 'test/585631329.csv',\n",
              " 'test/587942731.csv']"
            ]
          },
          "metadata": {
            "tags": []
          },
          "execution_count": 84
        }
      ]
    },
    {
      "cell_type": "code",
      "metadata": {
        "id": "EvzMfieAwNZk",
        "outputId": "8d6f27df-12f1-4ab2-a961-b7d0be7f0337",
        "colab": {
          "base_uri": "https://localhost:8080/",
          "height": 69
        }
      },
      "source": [
        "print(\"Number of files under train/ is:\", len(train_segment_csvs))\n",
        "print(\"Number of files under test/ is:\", len(test_segment_csvs))\n",
        "\n",
        "duplicated_segment_id = [segment_id for segment_id in [ test_segment_id.split(\"/\")[-1] for test_segment_id in test_segment_csvs]\n",
        "                         if (segment_id in [ train_segment_id.split(\"/\")[-1] for train_segment_id in train_segment_csvs])]\n",
        "\n",
        "print(\"Duplicates Segment ids both in train and test are:\", len(duplicated_segment_id))"
      ],
      "execution_count": 85,
      "outputs": [
        {
          "output_type": "stream",
          "text": [
            "Number of files under train/ is: 4431\n",
            "Number of files under test/ is: 4520\n",
            "Duplicates Segment ids both in train and test are: 0\n"
          ],
          "name": "stdout"
        }
      ]
    },
    {
      "cell_type": "code",
      "metadata": {
        "id": "xEgsKB9vBcK8",
        "outputId": "fe10e1b9-15a9-44f1-ecbe-d46f4b54f127",
        "colab": {
          "base_uri": "https://localhost:8080/",
          "height": 173
        }
      },
      "source": [
        "train['time_to_eruption'].describe()"
      ],
      "execution_count": 86,
      "outputs": [
        {
          "output_type": "execute_result",
          "data": {
            "text/plain": [
              "count    4.431000e+03\n",
              "mean     2.284891e+07\n",
              "std      1.348439e+07\n",
              "min      6.250000e+03\n",
              "25%      1.127016e+07\n",
              "50%      2.246559e+07\n",
              "75%      3.434356e+07\n",
              "max      4.904609e+07\n",
              "Name: time_to_eruption, dtype: float64"
            ]
          },
          "metadata": {
            "tags": []
          },
          "execution_count": 86
        }
      ]
    },
    {
      "cell_type": "markdown",
      "metadata": {
        "id": "17E1M77fwe64"
      },
      "source": [
        "## Load Data"
      ]
    },
    {
      "cell_type": "code",
      "metadata": {
        "id": "xUL5OODRKbFz"
      },
      "source": [
        "column_names = [\"sensor_1\", \t\"sensor_2\", \t\"sensor_3\", \t\"sensor_4\", \t\"sensor_5\", \t\"sensor_6\", \t\"sensor_7\", \t\"sensor_8\", \t\"sensor_9\", \t\"sensor_10\"]\n",
        "column_stats = ['count', 'mean', 'std', 'min', '25%', '50%', '75%', 'max']\n",
        "columns = [ i+\"_\"+j for i in column_names for j in column_stats]\n",
        "X = pd.DataFrame(columns=columns)\n",
        "y = pd.DataFrame(columns=['time_to_eruption'])\n",
        "# display(X.columns)\n",
        "# train_csv = pd.read_csv(train_segment_csvs[0])\n",
        "for i, train_segment_csv in train[:10].iterrows():\n",
        "#for train_segment_csv in train_segment_csvs[:10]:\n",
        "  # train_csv = pd.read_csv(train_segment_csv)\n",
        "  train_csv = pd.read_csv(\"train/\"+ str(train_segment_csv.segment_id) + \".csv\")\n",
        "  y.loc[len(X), :] = train_segment_csv.time_to_eruption\n",
        "  row = []\n",
        "  for feature in train_csv.columns:\n",
        "    row.extend(train_csv[feature].describe().values)\n",
        "  X.loc[len(X), :] = row\n"
      ],
      "execution_count": 87,
      "outputs": []
    },
    {
      "cell_type": "code",
      "metadata": {
        "id": "o2fHPsKydjal",
        "outputId": "9ece5f45-4482-4cea-a381-8d03f460b28e",
        "colab": {
          "base_uri": "https://localhost:8080/",
          "height": 226
        }
      },
      "source": [
        "display(X.head())"
      ],
      "execution_count": 88,
      "outputs": [
        {
          "output_type": "display_data",
          "data": {
            "text/html": [
              "<div>\n",
              "<style scoped>\n",
              "    .dataframe tbody tr th:only-of-type {\n",
              "        vertical-align: middle;\n",
              "    }\n",
              "\n",
              "    .dataframe tbody tr th {\n",
              "        vertical-align: top;\n",
              "    }\n",
              "\n",
              "    .dataframe thead th {\n",
              "        text-align: right;\n",
              "    }\n",
              "</style>\n",
              "<table border=\"1\" class=\"dataframe\">\n",
              "  <thead>\n",
              "    <tr style=\"text-align: right;\">\n",
              "      <th></th>\n",
              "      <th>sensor_1_count</th>\n",
              "      <th>sensor_1_mean</th>\n",
              "      <th>sensor_1_std</th>\n",
              "      <th>sensor_1_min</th>\n",
              "      <th>sensor_1_25%</th>\n",
              "      <th>sensor_1_50%</th>\n",
              "      <th>sensor_1_75%</th>\n",
              "      <th>sensor_1_max</th>\n",
              "      <th>sensor_2_count</th>\n",
              "      <th>sensor_2_mean</th>\n",
              "      <th>sensor_2_std</th>\n",
              "      <th>sensor_2_min</th>\n",
              "      <th>sensor_2_25%</th>\n",
              "      <th>sensor_2_50%</th>\n",
              "      <th>sensor_2_75%</th>\n",
              "      <th>sensor_2_max</th>\n",
              "      <th>sensor_3_count</th>\n",
              "      <th>sensor_3_mean</th>\n",
              "      <th>sensor_3_std</th>\n",
              "      <th>sensor_3_min</th>\n",
              "      <th>sensor_3_25%</th>\n",
              "      <th>sensor_3_50%</th>\n",
              "      <th>sensor_3_75%</th>\n",
              "      <th>sensor_3_max</th>\n",
              "      <th>sensor_4_count</th>\n",
              "      <th>sensor_4_mean</th>\n",
              "      <th>sensor_4_std</th>\n",
              "      <th>sensor_4_min</th>\n",
              "      <th>sensor_4_25%</th>\n",
              "      <th>sensor_4_50%</th>\n",
              "      <th>sensor_4_75%</th>\n",
              "      <th>sensor_4_max</th>\n",
              "      <th>sensor_5_count</th>\n",
              "      <th>sensor_5_mean</th>\n",
              "      <th>sensor_5_std</th>\n",
              "      <th>sensor_5_min</th>\n",
              "      <th>sensor_5_25%</th>\n",
              "      <th>sensor_5_50%</th>\n",
              "      <th>sensor_5_75%</th>\n",
              "      <th>sensor_5_max</th>\n",
              "      <th>sensor_6_count</th>\n",
              "      <th>sensor_6_mean</th>\n",
              "      <th>sensor_6_std</th>\n",
              "      <th>sensor_6_min</th>\n",
              "      <th>sensor_6_25%</th>\n",
              "      <th>sensor_6_50%</th>\n",
              "      <th>sensor_6_75%</th>\n",
              "      <th>sensor_6_max</th>\n",
              "      <th>sensor_7_count</th>\n",
              "      <th>sensor_7_mean</th>\n",
              "      <th>sensor_7_std</th>\n",
              "      <th>sensor_7_min</th>\n",
              "      <th>sensor_7_25%</th>\n",
              "      <th>sensor_7_50%</th>\n",
              "      <th>sensor_7_75%</th>\n",
              "      <th>sensor_7_max</th>\n",
              "      <th>sensor_8_count</th>\n",
              "      <th>sensor_8_mean</th>\n",
              "      <th>sensor_8_std</th>\n",
              "      <th>sensor_8_min</th>\n",
              "      <th>sensor_8_25%</th>\n",
              "      <th>sensor_8_50%</th>\n",
              "      <th>sensor_8_75%</th>\n",
              "      <th>sensor_8_max</th>\n",
              "      <th>sensor_9_count</th>\n",
              "      <th>sensor_9_mean</th>\n",
              "      <th>sensor_9_std</th>\n",
              "      <th>sensor_9_min</th>\n",
              "      <th>sensor_9_25%</th>\n",
              "      <th>sensor_9_50%</th>\n",
              "      <th>sensor_9_75%</th>\n",
              "      <th>sensor_9_max</th>\n",
              "      <th>sensor_10_count</th>\n",
              "      <th>sensor_10_mean</th>\n",
              "      <th>sensor_10_std</th>\n",
              "      <th>sensor_10_min</th>\n",
              "      <th>sensor_10_25%</th>\n",
              "      <th>sensor_10_50%</th>\n",
              "      <th>sensor_10_75%</th>\n",
              "      <th>sensor_10_max</th>\n",
              "    </tr>\n",
              "  </thead>\n",
              "  <tbody>\n",
              "    <tr>\n",
              "      <th>0</th>\n",
              "      <td>60001</td>\n",
              "      <td>-1.61032</td>\n",
              "      <td>303.096</td>\n",
              "      <td>-1421</td>\n",
              "      <td>-199</td>\n",
              "      <td>0</td>\n",
              "      <td>199</td>\n",
              "      <td>1353</td>\n",
              "      <td>60001</td>\n",
              "      <td>4.61382</td>\n",
              "      <td>678.331</td>\n",
              "      <td>-5199</td>\n",
              "      <td>-391</td>\n",
              "      <td>0</td>\n",
              "      <td>403</td>\n",
              "      <td>5572</td>\n",
              "      <td>60001</td>\n",
              "      <td>3.55972</td>\n",
              "      <td>290.873</td>\n",
              "      <td>-1453</td>\n",
              "      <td>-184</td>\n",
              "      <td>0</td>\n",
              "      <td>187</td>\n",
              "      <td>1413</td>\n",
              "      <td>60001</td>\n",
              "      <td>2.01998</td>\n",
              "      <td>384.141</td>\n",
              "      <td>-1960</td>\n",
              "      <td>-254</td>\n",
              "      <td>0</td>\n",
              "      <td>258</td>\n",
              "      <td>1699</td>\n",
              "      <td>0</td>\n",
              "      <td>NaN</td>\n",
              "      <td>NaN</td>\n",
              "      <td>NaN</td>\n",
              "      <td>NaN</td>\n",
              "      <td>NaN</td>\n",
              "      <td>NaN</td>\n",
              "      <td>NaN</td>\n",
              "      <td>60001</td>\n",
              "      <td>-9.71885</td>\n",
              "      <td>696.936</td>\n",
              "      <td>-2776</td>\n",
              "      <td>-481</td>\n",
              "      <td>0</td>\n",
              "      <td>475</td>\n",
              "      <td>2432</td>\n",
              "      <td>60001</td>\n",
              "      <td>7.06003</td>\n",
              "      <td>521.11</td>\n",
              "      <td>-2338</td>\n",
              "      <td>-344</td>\n",
              "      <td>0</td>\n",
              "      <td>352</td>\n",
              "      <td>2969</td>\n",
              "      <td>60001</td>\n",
              "      <td>1.26836</td>\n",
              "      <td>620.95</td>\n",
              "      <td>-2878</td>\n",
              "      <td>-423</td>\n",
              "      <td>0</td>\n",
              "      <td>426</td>\n",
              "      <td>2544</td>\n",
              "      <td>60001</td>\n",
              "      <td>1.46504</td>\n",
              "      <td>372.387</td>\n",
              "      <td>-1747</td>\n",
              "      <td>-242</td>\n",
              "      <td>0</td>\n",
              "      <td>245</td>\n",
              "      <td>2021</td>\n",
              "      <td>60001</td>\n",
              "      <td>2.59944</td>\n",
              "      <td>596.866</td>\n",
              "      <td>-3527</td>\n",
              "      <td>-406</td>\n",
              "      <td>0</td>\n",
              "      <td>410</td>\n",
              "      <td>2187</td>\n",
              "    </tr>\n",
              "    <tr>\n",
              "      <th>1</th>\n",
              "      <td>60001</td>\n",
              "      <td>1.42613</td>\n",
              "      <td>438.361</td>\n",
              "      <td>-2005</td>\n",
              "      <td>-265</td>\n",
              "      <td>0</td>\n",
              "      <td>270</td>\n",
              "      <td>2197</td>\n",
              "      <td>60001</td>\n",
              "      <td>2.48444</td>\n",
              "      <td>661.163</td>\n",
              "      <td>-4267</td>\n",
              "      <td>-381</td>\n",
              "      <td>0</td>\n",
              "      <td>381</td>\n",
              "      <td>5111</td>\n",
              "      <td>60001</td>\n",
              "      <td>-2.79427</td>\n",
              "      <td>362.2</td>\n",
              "      <td>-2094</td>\n",
              "      <td>-224</td>\n",
              "      <td>0</td>\n",
              "      <td>221</td>\n",
              "      <td>1723</td>\n",
              "      <td>60001</td>\n",
              "      <td>-1.70057</td>\n",
              "      <td>369.483</td>\n",
              "      <td>-2166</td>\n",
              "      <td>-229</td>\n",
              "      <td>0</td>\n",
              "      <td>229</td>\n",
              "      <td>1923</td>\n",
              "      <td>60001</td>\n",
              "      <td>0.732104</td>\n",
              "      <td>274.668</td>\n",
              "      <td>-2090</td>\n",
              "      <td>-153</td>\n",
              "      <td>0</td>\n",
              "      <td>154</td>\n",
              "      <td>1764</td>\n",
              "      <td>60001</td>\n",
              "      <td>-8.97507</td>\n",
              "      <td>360.132</td>\n",
              "      <td>-1684</td>\n",
              "      <td>-227</td>\n",
              "      <td>0</td>\n",
              "      <td>223</td>\n",
              "      <td>1888</td>\n",
              "      <td>60001</td>\n",
              "      <td>5.87022</td>\n",
              "      <td>475.776</td>\n",
              "      <td>-3549</td>\n",
              "      <td>-275</td>\n",
              "      <td>0</td>\n",
              "      <td>292</td>\n",
              "      <td>2442</td>\n",
              "      <td>60001</td>\n",
              "      <td>-1.08683</td>\n",
              "      <td>364.99</td>\n",
              "      <td>-1716</td>\n",
              "      <td>-236</td>\n",
              "      <td>0</td>\n",
              "      <td>242</td>\n",
              "      <td>1476</td>\n",
              "      <td>59263</td>\n",
              "      <td>3.17923</td>\n",
              "      <td>407.418</td>\n",
              "      <td>-2615</td>\n",
              "      <td>-246</td>\n",
              "      <td>0</td>\n",
              "      <td>255</td>\n",
              "      <td>2189</td>\n",
              "      <td>60001</td>\n",
              "      <td>19.8955</td>\n",
              "      <td>932.7</td>\n",
              "      <td>-4591</td>\n",
              "      <td>-547</td>\n",
              "      <td>0</td>\n",
              "      <td>565</td>\n",
              "      <td>5319</td>\n",
              "    </tr>\n",
              "    <tr>\n",
              "      <th>2</th>\n",
              "      <td>60001</td>\n",
              "      <td>2.50459</td>\n",
              "      <td>241.575</td>\n",
              "      <td>-1115</td>\n",
              "      <td>-157</td>\n",
              "      <td>0</td>\n",
              "      <td>157</td>\n",
              "      <td>1148</td>\n",
              "      <td>60001</td>\n",
              "      <td>5.44971</td>\n",
              "      <td>831.469</td>\n",
              "      <td>-6147</td>\n",
              "      <td>-455</td>\n",
              "      <td>0</td>\n",
              "      <td>467</td>\n",
              "      <td>7587</td>\n",
              "      <td>60001</td>\n",
              "      <td>-1.58854</td>\n",
              "      <td>217.987</td>\n",
              "      <td>-1207</td>\n",
              "      <td>-136</td>\n",
              "      <td>0</td>\n",
              "      <td>137</td>\n",
              "      <td>1159</td>\n",
              "      <td>60001</td>\n",
              "      <td>-1.15083</td>\n",
              "      <td>293.571</td>\n",
              "      <td>-1816</td>\n",
              "      <td>-188</td>\n",
              "      <td>0</td>\n",
              "      <td>185</td>\n",
              "      <td>1583</td>\n",
              "      <td>0</td>\n",
              "      <td>NaN</td>\n",
              "      <td>NaN</td>\n",
              "      <td>NaN</td>\n",
              "      <td>NaN</td>\n",
              "      <td>NaN</td>\n",
              "      <td>NaN</td>\n",
              "      <td>NaN</td>\n",
              "      <td>60001</td>\n",
              "      <td>-13.3284</td>\n",
              "      <td>468.816</td>\n",
              "      <td>-1812</td>\n",
              "      <td>-329</td>\n",
              "      <td>0</td>\n",
              "      <td>308</td>\n",
              "      <td>1564</td>\n",
              "      <td>60001</td>\n",
              "      <td>-1.95763</td>\n",
              "      <td>356.338</td>\n",
              "      <td>-1481</td>\n",
              "      <td>-232</td>\n",
              "      <td>0</td>\n",
              "      <td>229</td>\n",
              "      <td>1601</td>\n",
              "      <td>60001</td>\n",
              "      <td>-4.11161</td>\n",
              "      <td>350.322</td>\n",
              "      <td>-1293</td>\n",
              "      <td>-238</td>\n",
              "      <td>0</td>\n",
              "      <td>238</td>\n",
              "      <td>1202</td>\n",
              "      <td>60001</td>\n",
              "      <td>-1.83334</td>\n",
              "      <td>261.36</td>\n",
              "      <td>-1542</td>\n",
              "      <td>-161</td>\n",
              "      <td>0</td>\n",
              "      <td>159</td>\n",
              "      <td>1778</td>\n",
              "      <td>60001</td>\n",
              "      <td>0.968101</td>\n",
              "      <td>500.545</td>\n",
              "      <td>-2798</td>\n",
              "      <td>-323</td>\n",
              "      <td>0</td>\n",
              "      <td>321</td>\n",
              "      <td>2522</td>\n",
              "    </tr>\n",
              "    <tr>\n",
              "      <th>3</th>\n",
              "      <td>60001</td>\n",
              "      <td>2.1658</td>\n",
              "      <td>221.968</td>\n",
              "      <td>-1025</td>\n",
              "      <td>-137</td>\n",
              "      <td>0</td>\n",
              "      <td>140</td>\n",
              "      <td>1254</td>\n",
              "      <td>60001</td>\n",
              "      <td>-0.373377</td>\n",
              "      <td>425.19</td>\n",
              "      <td>-2828</td>\n",
              "      <td>-253</td>\n",
              "      <td>0</td>\n",
              "      <td>252</td>\n",
              "      <td>2453</td>\n",
              "      <td>60001</td>\n",
              "      <td>-2.69899</td>\n",
              "      <td>194.087</td>\n",
              "      <td>-847</td>\n",
              "      <td>-127</td>\n",
              "      <td>0</td>\n",
              "      <td>123</td>\n",
              "      <td>1345</td>\n",
              "      <td>60001</td>\n",
              "      <td>-1.31686</td>\n",
              "      <td>239.593</td>\n",
              "      <td>-1102</td>\n",
              "      <td>-157</td>\n",
              "      <td>0</td>\n",
              "      <td>152</td>\n",
              "      <td>1055</td>\n",
              "      <td>60001</td>\n",
              "      <td>0.308795</td>\n",
              "      <td>167.917</td>\n",
              "      <td>-1693</td>\n",
              "      <td>-98</td>\n",
              "      <td>0</td>\n",
              "      <td>98</td>\n",
              "      <td>1166</td>\n",
              "      <td>60001</td>\n",
              "      <td>-0.836886</td>\n",
              "      <td>311.503</td>\n",
              "      <td>-1840</td>\n",
              "      <td>-204</td>\n",
              "      <td>0</td>\n",
              "      <td>202</td>\n",
              "      <td>2025</td>\n",
              "      <td>60001</td>\n",
              "      <td>-0.843136</td>\n",
              "      <td>292.563</td>\n",
              "      <td>-1533</td>\n",
              "      <td>-185</td>\n",
              "      <td>0</td>\n",
              "      <td>185</td>\n",
              "      <td>1576</td>\n",
              "      <td>60001</td>\n",
              "      <td>-0.175314</td>\n",
              "      <td>321.893</td>\n",
              "      <td>-1457</td>\n",
              "      <td>-214</td>\n",
              "      <td>0</td>\n",
              "      <td>214</td>\n",
              "      <td>1542</td>\n",
              "      <td>57477</td>\n",
              "      <td>-3.51092</td>\n",
              "      <td>237.985</td>\n",
              "      <td>-1574</td>\n",
              "      <td>-154</td>\n",
              "      <td>0</td>\n",
              "      <td>150</td>\n",
              "      <td>1340</td>\n",
              "      <td>60001</td>\n",
              "      <td>8.38144</td>\n",
              "      <td>523.45</td>\n",
              "      <td>-2911</td>\n",
              "      <td>-323</td>\n",
              "      <td>0</td>\n",
              "      <td>326</td>\n",
              "      <td>3614</td>\n",
              "    </tr>\n",
              "    <tr>\n",
              "      <th>4</th>\n",
              "      <td>60001</td>\n",
              "      <td>0.0738154</td>\n",
              "      <td>261.696</td>\n",
              "      <td>-1190</td>\n",
              "      <td>-171</td>\n",
              "      <td>0</td>\n",
              "      <td>170</td>\n",
              "      <td>1114</td>\n",
              "      <td>0</td>\n",
              "      <td>NaN</td>\n",
              "      <td>NaN</td>\n",
              "      <td>NaN</td>\n",
              "      <td>NaN</td>\n",
              "      <td>NaN</td>\n",
              "      <td>NaN</td>\n",
              "      <td>NaN</td>\n",
              "      <td>60001</td>\n",
              "      <td>1.99888</td>\n",
              "      <td>227.924</td>\n",
              "      <td>-1184</td>\n",
              "      <td>-149</td>\n",
              "      <td>0</td>\n",
              "      <td>152</td>\n",
              "      <td>1176</td>\n",
              "      <td>60001</td>\n",
              "      <td>0.245079</td>\n",
              "      <td>262.59</td>\n",
              "      <td>-1308</td>\n",
              "      <td>-174</td>\n",
              "      <td>0</td>\n",
              "      <td>171</td>\n",
              "      <td>1290</td>\n",
              "      <td>60001</td>\n",
              "      <td>-0.441376</td>\n",
              "      <td>190.745</td>\n",
              "      <td>-1052</td>\n",
              "      <td>-118</td>\n",
              "      <td>0</td>\n",
              "      <td>117</td>\n",
              "      <td>1060</td>\n",
              "      <td>60001</td>\n",
              "      <td>2.20565</td>\n",
              "      <td>445.919</td>\n",
              "      <td>-1715</td>\n",
              "      <td>-302</td>\n",
              "      <td>0</td>\n",
              "      <td>312</td>\n",
              "      <td>1700</td>\n",
              "      <td>60001</td>\n",
              "      <td>-4.78435</td>\n",
              "      <td>312.576</td>\n",
              "      <td>-1103</td>\n",
              "      <td>-224</td>\n",
              "      <td>0</td>\n",
              "      <td>213</td>\n",
              "      <td>1036</td>\n",
              "      <td>60001</td>\n",
              "      <td>-1.73032</td>\n",
              "      <td>412.606</td>\n",
              "      <td>-1618</td>\n",
              "      <td>-284</td>\n",
              "      <td>0</td>\n",
              "      <td>282</td>\n",
              "      <td>1439</td>\n",
              "      <td>60001</td>\n",
              "      <td>1.62291</td>\n",
              "      <td>325.089</td>\n",
              "      <td>-7252</td>\n",
              "      <td>-166</td>\n",
              "      <td>0</td>\n",
              "      <td>168</td>\n",
              "      <td>7725</td>\n",
              "      <td>60001</td>\n",
              "      <td>-3.74047</td>\n",
              "      <td>562.748</td>\n",
              "      <td>-2611</td>\n",
              "      <td>-362</td>\n",
              "      <td>0</td>\n",
              "      <td>361</td>\n",
              "      <td>3274</td>\n",
              "    </tr>\n",
              "  </tbody>\n",
              "</table>\n",
              "</div>"
            ],
            "text/plain": [
              "  sensor_1_count sensor_1_mean  ... sensor_10_75% sensor_10_max\n",
              "0          60001      -1.61032  ...           410          2187\n",
              "1          60001       1.42613  ...           565          5319\n",
              "2          60001       2.50459  ...           321          2522\n",
              "3          60001        2.1658  ...           326          3614\n",
              "4          60001     0.0738154  ...           361          3274\n",
              "\n",
              "[5 rows x 80 columns]"
            ]
          },
          "metadata": {
            "tags": []
          }
        }
      ]
    },
    {
      "cell_type": "code",
      "metadata": {
        "id": "vfubj3VovxIU",
        "outputId": "cc556eba-99b4-4f6a-efb8-976c1f1fe4a1",
        "colab": {
          "base_uri": "https://localhost:8080/",
          "height": 363
        }
      },
      "source": [
        "y"
      ],
      "execution_count": 89,
      "outputs": [
        {
          "output_type": "execute_result",
          "data": {
            "text/html": [
              "<div>\n",
              "<style scoped>\n",
              "    .dataframe tbody tr th:only-of-type {\n",
              "        vertical-align: middle;\n",
              "    }\n",
              "\n",
              "    .dataframe tbody tr th {\n",
              "        vertical-align: top;\n",
              "    }\n",
              "\n",
              "    .dataframe thead th {\n",
              "        text-align: right;\n",
              "    }\n",
              "</style>\n",
              "<table border=\"1\" class=\"dataframe\">\n",
              "  <thead>\n",
              "    <tr style=\"text-align: right;\">\n",
              "      <th></th>\n",
              "      <th>time_to_eruption</th>\n",
              "    </tr>\n",
              "  </thead>\n",
              "  <tbody>\n",
              "    <tr>\n",
              "      <th>0</th>\n",
              "      <td>12262005</td>\n",
              "    </tr>\n",
              "    <tr>\n",
              "      <th>1</th>\n",
              "      <td>32739612</td>\n",
              "    </tr>\n",
              "    <tr>\n",
              "      <th>2</th>\n",
              "      <td>14965999</td>\n",
              "    </tr>\n",
              "    <tr>\n",
              "      <th>3</th>\n",
              "      <td>26469720</td>\n",
              "    </tr>\n",
              "    <tr>\n",
              "      <th>4</th>\n",
              "      <td>31072429</td>\n",
              "    </tr>\n",
              "    <tr>\n",
              "      <th>5</th>\n",
              "      <td>22264866</td>\n",
              "    </tr>\n",
              "    <tr>\n",
              "      <th>6</th>\n",
              "      <td>34952168</td>\n",
              "    </tr>\n",
              "    <tr>\n",
              "      <th>7</th>\n",
              "      <td>9504818</td>\n",
              "    </tr>\n",
              "    <tr>\n",
              "      <th>8</th>\n",
              "      <td>11719563</td>\n",
              "    </tr>\n",
              "    <tr>\n",
              "      <th>9</th>\n",
              "      <td>11629084</td>\n",
              "    </tr>\n",
              "  </tbody>\n",
              "</table>\n",
              "</div>"
            ],
            "text/plain": [
              "  time_to_eruption\n",
              "0         12262005\n",
              "1         32739612\n",
              "2         14965999\n",
              "3         26469720\n",
              "4         31072429\n",
              "5         22264866\n",
              "6         34952168\n",
              "7          9504818\n",
              "8         11719563\n",
              "9         11629084"
            ]
          },
          "metadata": {
            "tags": []
          },
          "execution_count": 89
        }
      ]
    },
    {
      "cell_type": "code",
      "metadata": {
        "id": "z4H7mHH4diAR"
      },
      "source": [
        ""
      ],
      "execution_count": 89,
      "outputs": []
    },
    {
      "cell_type": "markdown",
      "metadata": {
        "id": "OzxZoOS7YpHs"
      },
      "source": [
        "### Cleanup NaN"
      ]
    },
    {
      "cell_type": "code",
      "metadata": {
        "id": "8SIQzS96YxAR"
      },
      "source": [
        "# Try Different Methods like kNN\n",
        "X = X.fillna(0)"
      ],
      "execution_count": 90,
      "outputs": []
    },
    {
      "cell_type": "markdown",
      "metadata": {
        "id": "XGMCjfGSavf4"
      },
      "source": [
        "## Split Data to train & test"
      ]
    },
    {
      "cell_type": "code",
      "metadata": {
        "id": "g2VtsWj6auZH"
      },
      "source": [
        "from sklearn.model_selection import train_test_split\n",
        "X_train, X_test, y_train, y_test = train_test_split(X, y, test_size=0.33)"
      ],
      "execution_count": 91,
      "outputs": []
    },
    {
      "cell_type": "markdown",
      "metadata": {
        "id": "EU-FFTfMXWT7"
      },
      "source": [
        "## Train "
      ]
    },
    {
      "cell_type": "code",
      "metadata": {
        "id": "BloNzR8kXeb9"
      },
      "source": [
        "reg = LinearRegression().fit(X_train, y_train)\n",
        "#reg.score(X, y)"
      ],
      "execution_count": 92,
      "outputs": []
    },
    {
      "cell_type": "markdown",
      "metadata": {
        "id": "QM5nuJbTZ6OT"
      },
      "source": [
        "#Test"
      ]
    },
    {
      "cell_type": "code",
      "metadata": {
        "id": "g7U8snOAcXTt"
      },
      "source": [
        "from sklearn.metrics import mean_squared_error, r2_score"
      ],
      "execution_count": 93,
      "outputs": []
    },
    {
      "cell_type": "code",
      "metadata": {
        "id": "iwGSd03jaCdw"
      },
      "source": [
        "y_pred = reg.predict(X_test)"
      ],
      "execution_count": 94,
      "outputs": []
    },
    {
      "cell_type": "code",
      "metadata": {
        "id": "gXix11o5cGsm",
        "outputId": "bacfa55c-4dcc-49e7-cb89-c2050f869221",
        "colab": {
          "base_uri": "https://localhost:8080/",
          "height": 416
        }
      },
      "source": [
        "# The coefficients\n",
        "print('Coefficients: \\n', reg.coef_)\n",
        "# The mean squared error\n",
        "print('Mean squared error: %.2f'\n",
        "      % mean_squared_error(y_test, y_pred))\n",
        "# The coefficient of determination: 1 is perfect prediction\n",
        "print('Coefficient of determination: %.2f'\n",
        "      % r2_score(y_test, y_pred))"
      ],
      "execution_count": 95,
      "outputs": [
        {
          "output_type": "stream",
          "text": [
            "Coefficients: \n",
            " [[ 2.24531505e-12  2.30706842e+00 -6.07105740e+01 -2.35173029e+01\n",
            "   7.64452774e+01  0.00000000e+00 -7.37874817e+01  2.35043008e+02\n",
            "   3.29498848e+01  2.37461378e+00 -1.64527242e+02  2.65703706e+03\n",
            "   1.34629759e+02  0.00000000e+00 -1.36267912e+02 -1.57228551e+02\n",
            "   0.00000000e+00 -3.83576331e+00 -2.01795017e+02 -1.05512225e+01\n",
            "   1.53617516e+02  0.00000000e+00 -1.68364289e+02 -1.23093582e+02\n",
            "   0.00000000e+00  3.91245080e+00 -1.63762273e+02  2.01725362e+02\n",
            "   1.29657714e+02  0.00000000e+00 -1.23106357e+02 -4.04718969e+02\n",
            "  -5.21334185e+01 -3.08059482e-01  8.87241668e+01 -6.15138330e+02\n",
            "  -3.20490528e+01  0.00000000e+00  2.90344619e+01  5.46278569e+02\n",
            "   0.00000000e+00 -1.31645720e+01 -1.95461223e+02  2.11260726e+03\n",
            "   1.15638497e+02  0.00000000e+00 -1.26697120e+02 -1.91572533e+03\n",
            "   0.00000000e+00  7.01227000e+00  1.87328162e+02 -1.11212411e+03\n",
            "  -9.41275299e+01  0.00000000e+00  1.16752488e+02 -1.29509831e+03\n",
            "   0.00000000e+00 -3.39206787e+00 -6.91420945e+01  1.03582267e+03\n",
            "   6.17561534e+01  0.00000000e+00 -5.21224654e+01 -8.12567169e+02\n",
            "   2.35593193e+01  1.13603636e+00 -2.81353186e+02 -5.71553531e+02\n",
            "   2.32818151e+02  0.00000000e+00 -2.26011779e+02 -5.34342000e+02\n",
            "   0.00000000e+00  2.06131448e+01  2.22552760e+02 -1.82540873e+03\n",
            "  -5.37832131e+01  0.00000000e+00  6.06654447e+01  3.33482818e+03]]\n",
            "Mean squared error: 170942706677537.84\n",
            "Coefficient of determination: -0.91\n"
          ],
          "name": "stdout"
        }
      ]
    },
    {
      "cell_type": "code",
      "metadata": {
        "id": "paMd_Gh4bXpN",
        "outputId": "847c0b41-b778-444c-9cd8-df9779d14eb7",
        "colab": {
          "base_uri": "https://localhost:8080/",
          "height": 156
        }
      },
      "source": [
        "print(y_pred, y_test)"
      ],
      "execution_count": 96,
      "outputs": [
        {
          "output_type": "stream",
          "text": [
            "[[15012650.1187871 ]\n",
            " [10566931.80950937]\n",
            " [20379540.1135169 ]\n",
            " [ 9147234.74663575]]   time_to_eruption\n",
            "9         11629084\n",
            "0         12262005\n",
            "5         22264866\n",
            "6         34952168\n"
          ],
          "name": "stdout"
        }
      ]
    },
    {
      "cell_type": "code",
      "metadata": {
        "id": "3xp8rssKb1Jh",
        "outputId": "91c78422-6604-451a-ac1b-adcbbba4d6ad",
        "colab": {
          "base_uri": "https://localhost:8080/",
          "height": 34
        }
      },
      "source": [
        "print(X_train.shape, y_train.shape)"
      ],
      "execution_count": 97,
      "outputs": [
        {
          "output_type": "stream",
          "text": [
            "(6, 80) (6, 1)\n"
          ],
          "name": "stdout"
        }
      ]
    },
    {
      "cell_type": "code",
      "metadata": {
        "id": "Flo7ig_5XfI8"
      },
      "source": [
        "# # Plot outputs\n",
        "# plt.scatter(X_train, y_train,  color='black')\n",
        "# plt.plot(X_test, y_pred, color='blue', linewidth=3)\n",
        "\n",
        "# plt.xticks(())\n",
        "# plt.yticks(())\n",
        "\n",
        "# plt.show()"
      ],
      "execution_count": 98,
      "outputs": []
    },
    {
      "cell_type": "code",
      "metadata": {
        "id": "FawKoCIZc0lr"
      },
      "source": [
        ""
      ],
      "execution_count": 98,
      "outputs": []
    },
    {
      "cell_type": "code",
      "metadata": {
        "id": "IJ0sPckHVMWQ"
      },
      "source": [
        "# train_csv = pd.read_csv(train_segment_csvs[0])\n",
        "# display(train_csv.sensor_1.describe())\n",
        "# for i, row in train[:2].iterrows():\n",
        "#   print(\"Segment ID: %d \\t Time to Eruption: %d\" %(row.segment_id, row.time_to_eruption) )\n",
        "#   sensor_data = pd.read_csv(\"train/\"+ str(row.segment_id) + \".csv\")\n",
        "#   #sensor_data = sensor_data.fillna(0)\n",
        "#   #sensor_data = sensor_data.dropna(axis=1)\n",
        "#   print(sensor_data.isna().sum())\n",
        "#   with pd.option_context('display.max_rows', None, 'display.max_columns', None):\n",
        "#     print(sensor_data.describe())\n",
        "#   print(sensor_data.info())\n",
        "#   print(\"--\"*30)\n",
        "# sensor_data.describe().unstack()\n",
        "# def calculate_stats(sensor_row):\n",
        "#   X = pd.DataFrame()\n",
        "#   for row in sensor_row:\n",
        "#     out = sensor_row[row].describe().values\n",
        "#     print(out) \n",
        "          \n",
        "# # display(train_csv.sensor_1.describe().values)\n",
        "# #   print(sensor_row.describe())\n",
        "#   #X = pd.DataFrame()\n",
        "#   # sensor_row.mean()\n",
        "#   # input_data.sum()\n",
        "#   # X.loc[ts, f'{sensor_id}_mean']      = signal.mean()\n",
        "#   # X.loc[ts, f'{sensor_id}_std']       = signal.std()\n",
        "#   # X.loc[ts, f'{sensor_id}_var']       = signal.var() \n",
        "#   # X.loc[ts, f'{sensor_id}_max']       = signal.max()\n",
        "#   # X.loc[ts, f'{sensor_id}_min']       = signal.min()\n",
        "\n",
        "# # def basic_statistics(, sensor_id, s):\n",
        "# #     \"\"\"Computes basic statistics for the training feature set.\n",
        "    \n",
        "# #     Args:\n",
        "# #         t_X (pandas.DataFrame): The feature set being built.\n",
        "# #         x (pandas.Series): The signal values.\n",
        "# #         s (int): The integer number of the segment.\n",
        "# #         postfix (str): The postfix string value.\n",
        "# #     Return:\n",
        "# #         t_X (pandas.DataFrame): The feature set being built.\n",
        "# #     \"\"\"\n",
        "# #     X = pd.DataFrame()\n",
        "# #     X.loc[sensor_num, f'{sensor_id}_mean']      = signal.mean()\n",
        "# #     X.loc[sensor_num, f'{sensor_id}_std']       = signal.std()\n",
        "# #     X.loc[sensor_num, f'{sensor_id}_var']       = signal.var() \n",
        "# #     X.loc[sensor_num, f'{sensor_id}_max']       = signal.max()\n",
        "# #     X.loc[sensor_num, f'{sensor_id}_min']       = signal.min()\n",
        "\n",
        "# #     X.loc[s, f'{sensor}_sum{postfix}']       = x.sum()\n",
        "# #     t_X.loc[s, f'{sensor}_mean{postfix}']      = x.mean()\n",
        "# #     t_X.loc[s, f'{sensor}_std{postfix}']       = x.std()\n",
        "# #     t_X.loc[s, f'{sensor}_var{postfix}']       = x.var() \n",
        "# #     t_X.loc[s, f'{sensor}_max{postfix}']       = x.max()\n",
        "# #     t_X.loc[s, f'{sensor}_min{postfix}']       = x.min()\n",
        "# #     t_X.loc[s, f'{sensor}_median{postfix}']    = x.median()\n",
        "# #     t_X.loc[s, f'{sensor}_skew{postfix}']      = x.skew()\n",
        "# #     t_X.loc[s, f'{sensor}_mad{postfix}']       = x.mad()\n",
        "# #     t_X.loc[s, f'{sensor}_kurtosis{postfix}']  = x.kurtosis()\n",
        "\n",
        "# #     return t_X\n",
        "# for i, row in train[:1].iterrows():\n",
        "#   print(\"Segment ID: %d \\t Time to Eruption: %d\" %(row.segment_id, row.time_to_eruption) )\n",
        "#   sensor_data = pd.read_csv(\"train/\"+ str(row.segment_id) + \".csv\")\n",
        "#   print(calculate_stats(sensor_data))\n",
        "#   #sensor_data = sensor_data.fillna(0)\n",
        "#   #sensor_data = sensor_data.dropna(axis=1)\n",
        "#   # print(sensor_data.isna().sum())\n",
        "#   # with pd.option_context('display.max_rows', None, 'display.max_columns', None):\n",
        "#   #   print(sensor_data.describe())\n",
        "#   # print(sensor_data.info())\n",
        "#   print(\"--\"*30)\n",
        "# train\n",
        "# # train_379022420 = pd.read_csv(\"train/379022420.csv\")\n",
        "# # train_1002275321 = pd.read_csv(\"train/1002275321.csv\")\n",
        "# train.head()\n",
        "# train.info()\n",
        "\n",
        "# train_final = pd.DataFrame(columns={'segment_id', 'time_to_eruption', 'sensor_1', 'sensor_2', 'sensor_3',\n",
        "#        'sensor_4', 'sensor_5', 'sensor_6', 'sensor_7', 'sensor_8', 'sensor_9',\n",
        "#        'sensor_10'})\n",
        "# for i, row in train[0:20].iterrows():\n",
        "#   sensor_data = pd.read_csv(\"train/\"+ str(row.segment_id) + \".csv\")\n",
        "#   sensor_data['segment_id'] = row.segment_id\n",
        "#   train1 = train.merge(sensor_data, on='segment_id')\n",
        "#   # train_1_describe = pd.DataFrame(train1.describe()).reset_index()\n",
        "#   # train_1_describe['segment_id'] = row.segment_id\n",
        "#   train_final = pd.concat([train_final, train1], axis=0)\n",
        "# train_final = train_final.reset_index(drop=True)\n",
        "# train_final.groupby(['segment_id', 'time_to_eruption']).mean()\n",
        "# train_final.isna().sum()"
      ],
      "execution_count": 99,
      "outputs": []
    },
    {
      "cell_type": "code",
      "metadata": {
        "id": "Faa_8jbIO6hi",
        "outputId": "9f417a4d-540c-4f9d-db92-69ea655d1d15",
        "colab": {
          "base_uri": "https://localhost:8080/",
          "height": 34
        }
      },
      "source": [
        "for train_segment_csv in train_segment_csvs[0:1]:\n",
        "  train_csv = pd.read_csv(train_segment_csv)\n",
        "  display(train_csv.sensor_1.describe().keys())"
      ],
      "execution_count": 100,
      "outputs": [
        {
          "output_type": "display_data",
          "data": {
            "text/plain": [
              "Index(['count', 'mean', 'std', 'min', '25%', '50%', '75%', 'max'], dtype='object')"
            ]
          },
          "metadata": {
            "tags": []
          }
        }
      ]
    },
    {
      "cell_type": "code",
      "metadata": {
        "id": "JlUSCpgxpnsa"
      },
      "source": [
        ""
      ],
      "execution_count": 100,
      "outputs": []
    },
    {
      "cell_type": "code",
      "metadata": {
        "id": "YlP6vzQ9_CqN"
      },
      "source": [
        ""
      ],
      "execution_count": 100,
      "outputs": []
    },
    {
      "cell_type": "code",
      "metadata": {
        "id": "UScfIeu1_Lql"
      },
      "source": [
        ""
      ],
      "execution_count": 100,
      "outputs": []
    }
  ]
}