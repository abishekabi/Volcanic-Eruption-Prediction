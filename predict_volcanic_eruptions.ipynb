{
  "nbformat": 4,
  "nbformat_minor": 0,
  "metadata": {
    "colab": {
      "name": "predict-volcanic-eruptions.ipynb",
      "provenance": [],
      "collapsed_sections": [],
      "include_colab_link": true
    },
    "kernelspec": {
      "name": "python3",
      "display_name": "Python 3"
    }
  },
  "cells": [
    {
      "cell_type": "markdown",
      "metadata": {
        "id": "view-in-github",
        "colab_type": "text"
      },
      "source": [
        "<a href=\"https://colab.research.google.com/github/abishekabi/Volcanic-Eruption-Prediction/blob/main/predict_volcanic_eruptions.ipynb\" target=\"_parent\"><img src=\"https://colab.research.google.com/assets/colab-badge.svg\" alt=\"Open In Colab\"/></a>"
      ]
    },
    {
      "cell_type": "code",
      "metadata": {
        "id": "qvvpmOx0nrQU",
        "outputId": "b747f12d-6e35-4910-ee9a-ae93a9dd83e8",
        "colab": {
          "base_uri": "https://localhost:8080/",
          "height": 34
        }
      },
      "source": [
        "from google.colab import drive\n",
        "\n",
        "drive.mount('/content/gdrive')\n",
        "root_path = 'gdrive/My Drive/Colab Notebooks/predict-volcanic-eruptions'"
      ],
      "execution_count": 1,
      "outputs": [
        {
          "output_type": "stream",
          "text": [
            "Drive already mounted at /content/gdrive; to attempt to forcibly remount, call drive.mount(\"/content/gdrive\", force_remount=True).\n"
          ],
          "name": "stdout"
        }
      ]
    },
    {
      "cell_type": "code",
      "metadata": {
        "id": "CskWoxVcn7ed",
        "outputId": "723b3101-8ada-4ed2-84e9-091b69c74d42",
        "colab": {
          "base_uri": "https://localhost:8080/",
          "height": 34
        }
      },
      "source": [
        "%cd 'gdrive/My Drive/Colab Notebooks/predict-volcanic-eruptions'"
      ],
      "execution_count": 2,
      "outputs": [
        {
          "output_type": "stream",
          "text": [
            "/content/gdrive/My Drive/Colab Notebooks/predict-volcanic-eruptions\n"
          ],
          "name": "stdout"
        }
      ]
    },
    {
      "cell_type": "code",
      "metadata": {
        "id": "FlTPh0xGuXBR"
      },
      "source": [
        "# !wget \"https://storage.googleapis.com/kaggle-competitions-data/kaggle-v2/19059/1581061/bundle/archive.zip?GoogleAccessId=web-data@kaggle-161607.iam.gserviceaccount.com&Expires=1603216878&Signature=Xcz3Ni8%2F7bb7rIyQlyeyfbeASoi78143MpaVMe3kyZXi3WKfxcW7kp%2F44CQYzgoE2FfwzGR343oh5QVkHTt9xTGjHufJZRxbiJ0allxJiMFJrdZaZLZP8UwcQGl4k7ZlyF%2Bc7lAcoYNI14LjW4GEUSTOYvWyIrJqWGsBPwYCcLaGLaHP4lKxF0W7M%2FIOlyIMASugpiRIVsuCkR8fNWT3k4vyRgSldLTlfI46fkNvOFIsOl8kU%2BeRVd8yuhBrA8EmY8QRR0%2FGl9wSCfyjQe8Or4nSWs5V5svpRrzbtl5gTeMcIi8emEAktsbg8lK3%2F%2BzpIMu4map2I1aXj1wAqMPnYA%3D%3D&response-content-disposition=attachment%3B+filename%3Dpredict-volcanic-eruptions-ingv-oe.zip\"\n",
        "# !unzip data.zip\n",
        "# from google.colab import files\n",
        "# files.upload() \n",
        "# !pip install -q kaggle\n",
        "# !mkdir -p ~/.kaggle\n",
        "# !cp kaggle.json ~/.kaggle/\n",
        "# !ls ~/.kaggle\n",
        "# !chmod 600 /root/.kaggle/kaggle.json  # set permission\n",
        "#!kaggle competitions download -c predict-volcanic-eruptions-ingv-oe "
      ],
      "execution_count": 3,
      "outputs": []
    },
    {
      "cell_type": "code",
      "metadata": {
        "id": "r7udp1gviq-n",
        "outputId": "06cd329b-51c7-459e-a0d7-2543a2b0b34c",
        "colab": {
          "base_uri": "https://localhost:8080/",
          "height": 139
        }
      },
      "source": [
        "!ls -lh "
      ],
      "execution_count": 4,
      "outputs": [
        {
          "output_type": "stream",
          "text": [
            "total 9.5G\n",
            "-rw------- 1 root root 9.5G Oct 17 18:06 data.zip\n",
            "-rw------- 1 root root 115K Oct 28 05:31 predict-volcanic-eruptions.ipynb\n",
            "-rw------- 1 root root  56K Oct 17 18:08 sample_submission.csv\n",
            "drwx------ 2 root root 4.0K Oct 17 18:06 test\n",
            "drwx------ 2 root root 4.0K Oct 19 15:53 train\n",
            "-rw------- 1 root root  84K Oct 19 16:30 train.csv\n"
          ],
          "name": "stdout"
        }
      ]
    },
    {
      "cell_type": "code",
      "metadata": {
        "id": "zwCVTcTU8iRo"
      },
      "source": [
        "import gc\n",
        "import glob\n",
        "from itertools import chain\n",
        "\n",
        "import matplotlib.pyplot as plt\n",
        "import numpy as np\n",
        "import pandas as pd\n",
        "import seaborn as sns\n",
        "from sklearn.linear_model import LinearRegression"
      ],
      "execution_count": 5,
      "outputs": []
    },
    {
      "cell_type": "markdown",
      "metadata": {
        "id": "DLTSM4ABcj0L"
      },
      "source": [
        "**Time to Eruption is in centiseconds [ 1/100 second ]**"
      ]
    },
    {
      "cell_type": "code",
      "metadata": {
        "id": "VqVA3QdcsO9P",
        "outputId": "7d17cfb8-14f2-4009-ffbe-9c6d732d900e",
        "colab": {
          "base_uri": "https://localhost:8080/",
          "height": 206
        }
      },
      "source": [
        "df=pd.read_csv('train.csv')\n",
        "df.head()"
      ],
      "execution_count": 6,
      "outputs": [
        {
          "output_type": "execute_result",
          "data": {
            "text/html": [
              "<div>\n",
              "<style scoped>\n",
              "    .dataframe tbody tr th:only-of-type {\n",
              "        vertical-align: middle;\n",
              "    }\n",
              "\n",
              "    .dataframe tbody tr th {\n",
              "        vertical-align: top;\n",
              "    }\n",
              "\n",
              "    .dataframe thead th {\n",
              "        text-align: right;\n",
              "    }\n",
              "</style>\n",
              "<table border=\"1\" class=\"dataframe\">\n",
              "  <thead>\n",
              "    <tr style=\"text-align: right;\">\n",
              "      <th></th>\n",
              "      <th>segment_id</th>\n",
              "      <th>time_to_eruption</th>\n",
              "    </tr>\n",
              "  </thead>\n",
              "  <tbody>\n",
              "    <tr>\n",
              "      <th>0</th>\n",
              "      <td>1136037770</td>\n",
              "      <td>12262005</td>\n",
              "    </tr>\n",
              "    <tr>\n",
              "      <th>1</th>\n",
              "      <td>1969647810</td>\n",
              "      <td>32739612</td>\n",
              "    </tr>\n",
              "    <tr>\n",
              "      <th>2</th>\n",
              "      <td>1895879680</td>\n",
              "      <td>14965999</td>\n",
              "    </tr>\n",
              "    <tr>\n",
              "      <th>3</th>\n",
              "      <td>2068207140</td>\n",
              "      <td>26469720</td>\n",
              "    </tr>\n",
              "    <tr>\n",
              "      <th>4</th>\n",
              "      <td>192955606</td>\n",
              "      <td>31072429</td>\n",
              "    </tr>\n",
              "  </tbody>\n",
              "</table>\n",
              "</div>"
            ],
            "text/plain": [
              "   segment_id  time_to_eruption\n",
              "0  1136037770          12262005\n",
              "1  1969647810          32739612\n",
              "2  1895879680          14965999\n",
              "3  2068207140          26469720\n",
              "4   192955606          31072429"
            ]
          },
          "metadata": {
            "tags": []
          },
          "execution_count": 6
        }
      ]
    },
    {
      "cell_type": "code",
      "metadata": {
        "id": "wjPRq7lFabm3",
        "outputId": "95bdcb50-ecf0-44ed-af7d-94d61bb5bc66",
        "colab": {
          "base_uri": "https://localhost:8080/",
          "height": 386
        }
      },
      "source": [
        "g = sns.displot(data=df.time_to_eruption/360000)\n",
        "g.set_xlabels(\"Distribution of time_to_eruption in Hours\")"
      ],
      "execution_count": 7,
      "outputs": [
        {
          "output_type": "execute_result",
          "data": {
            "text/plain": [
              "<seaborn.axisgrid.FacetGrid at 0x7fcbc82f0dd8>"
            ]
          },
          "metadata": {
            "tags": []
          },
          "execution_count": 7
        },
        {
          "output_type": "display_data",
          "data": {
            "image/png": "[encoded data removed]",
            "text/plain": [
              "<Figure size 360x360 with 1 Axes>"
            ]
          },
          "metadata": {
            "tags": [],
            "needs_background": "light"
          }
        }
      ]
    },
    {
      "cell_type": "code",
      "metadata": {
        "id": "mXEACismt6FN",
        "outputId": "78fba3a5-7038-45ae-a0ff-d6aa4b17a292",
        "colab": {
          "base_uri": "https://localhost:8080/",
          "height": 206
        }
      },
      "source": [
        "df=pd.read_csv('train/1136037770.csv')\n",
        "df.head()"
      ],
      "execution_count": 8,
      "outputs": [
        {
          "output_type": "execute_result",
          "data": {
            "text/html": [
              "<div>\n",
              "<style scoped>\n",
              "    .dataframe tbody tr th:only-of-type {\n",
              "        vertical-align: middle;\n",
              "    }\n",
              "\n",
              "    .dataframe tbody tr th {\n",
              "        vertical-align: top;\n",
              "    }\n",
              "\n",
              "    .dataframe thead th {\n",
              "        text-align: right;\n",
              "    }\n",
              "</style>\n",
              "<table border=\"1\" class=\"dataframe\">\n",
              "  <thead>\n",
              "    <tr style=\"text-align: right;\">\n",
              "      <th></th>\n",
              "      <th>sensor_1</th>\n",
              "      <th>sensor_2</th>\n",
              "      <th>sensor_3</th>\n",
              "      <th>sensor_4</th>\n",
              "      <th>sensor_5</th>\n",
              "      <th>sensor_6</th>\n",
              "      <th>sensor_7</th>\n",
              "      <th>sensor_8</th>\n",
              "      <th>sensor_9</th>\n",
              "      <th>sensor_10</th>\n",
              "    </tr>\n",
              "  </thead>\n",
              "  <tbody>\n",
              "    <tr>\n",
              "      <th>0</th>\n",
              "      <td>220.0</td>\n",
              "      <td>339.0</td>\n",
              "      <td>-336.0</td>\n",
              "      <td>364.0</td>\n",
              "      <td>NaN</td>\n",
              "      <td>492.0</td>\n",
              "      <td>-796.0</td>\n",
              "      <td>-423.0</td>\n",
              "      <td>-582.0</td>\n",
              "      <td>-40.0</td>\n",
              "    </tr>\n",
              "    <tr>\n",
              "      <th>1</th>\n",
              "      <td>178.0</td>\n",
              "      <td>221.0</td>\n",
              "      <td>-317.0</td>\n",
              "      <td>366.0</td>\n",
              "      <td>NaN</td>\n",
              "      <td>525.0</td>\n",
              "      <td>-754.0</td>\n",
              "      <td>-415.0</td>\n",
              "      <td>-932.0</td>\n",
              "      <td>-305.0</td>\n",
              "    </tr>\n",
              "    <tr>\n",
              "      <th>2</th>\n",
              "      <td>151.0</td>\n",
              "      <td>42.0</td>\n",
              "      <td>-280.0</td>\n",
              "      <td>250.0</td>\n",
              "      <td>NaN</td>\n",
              "      <td>463.0</td>\n",
              "      <td>-772.0</td>\n",
              "      <td>-229.0</td>\n",
              "      <td>-257.0</td>\n",
              "      <td>-59.0</td>\n",
              "    </tr>\n",
              "    <tr>\n",
              "      <th>3</th>\n",
              "      <td>162.0</td>\n",
              "      <td>-123.0</td>\n",
              "      <td>-243.0</td>\n",
              "      <td>288.0</td>\n",
              "      <td>NaN</td>\n",
              "      <td>303.0</td>\n",
              "      <td>-899.0</td>\n",
              "      <td>212.0</td>\n",
              "      <td>-295.0</td>\n",
              "      <td>38.0</td>\n",
              "    </tr>\n",
              "    <tr>\n",
              "      <th>4</th>\n",
              "      <td>158.0</td>\n",
              "      <td>-287.0</td>\n",
              "      <td>-300.0</td>\n",
              "      <td>372.0</td>\n",
              "      <td>NaN</td>\n",
              "      <td>169.0</td>\n",
              "      <td>-769.0</td>\n",
              "      <td>755.0</td>\n",
              "      <td>169.0</td>\n",
              "      <td>-239.0</td>\n",
              "    </tr>\n",
              "  </tbody>\n",
              "</table>\n",
              "</div>"
            ],
            "text/plain": [
              "   sensor_1  sensor_2  sensor_3  ...  sensor_8  sensor_9  sensor_10\n",
              "0     220.0     339.0    -336.0  ...    -423.0    -582.0      -40.0\n",
              "1     178.0     221.0    -317.0  ...    -415.0    -932.0     -305.0\n",
              "2     151.0      42.0    -280.0  ...    -229.0    -257.0      -59.0\n",
              "3     162.0    -123.0    -243.0  ...     212.0    -295.0       38.0\n",
              "4     158.0    -287.0    -300.0  ...     755.0     169.0     -239.0\n",
              "\n",
              "[5 rows x 10 columns]"
            ]
          },
          "metadata": {
            "tags": []
          },
          "execution_count": 8
        }
      ]
    },
    {
      "cell_type": "code",
      "metadata": {
        "id": "-q-7fO6LeFx9",
        "outputId": "be50a721-e091-4242-dd2b-b6ff93c5a9d5",
        "colab": {
          "base_uri": "https://localhost:8080/",
          "height": 321
        }
      },
      "source": [
        "g = sns.violinplot(data=df)\n",
        "g.figure.set_size_inches(15,5)"
      ],
      "execution_count": 9,
      "outputs": [
        {
          "output_type": "display_data",
          "data": {
            "image/png": "[encoded data removed]",
            "text/plain": [
              "<Figure size 1080x360 with 1 Axes>"
            ]
          },
          "metadata": {
            "tags": [],
            "needs_background": "light"
          }
        }
      ]
    },
    {
      "cell_type": "code",
      "metadata": {
        "id": "D751U8TVoDkd",
        "outputId": "368d0147-3cf4-48a9-fcfd-a3e3e3f9bb26",
        "colab": {
          "base_uri": "https://localhost:8080/",
          "height": 206
        }
      },
      "source": [
        "df=pd.read_csv('sample_submission.csv')\n",
        "df.head()"
      ],
      "execution_count": 10,
      "outputs": [
        {
          "output_type": "execute_result",
          "data": {
            "text/html": [
              "<div>\n",
              "<style scoped>\n",
              "    .dataframe tbody tr th:only-of-type {\n",
              "        vertical-align: middle;\n",
              "    }\n",
              "\n",
              "    .dataframe tbody tr th {\n",
              "        vertical-align: top;\n",
              "    }\n",
              "\n",
              "    .dataframe thead th {\n",
              "        text-align: right;\n",
              "    }\n",
              "</style>\n",
              "<table border=\"1\" class=\"dataframe\">\n",
              "  <thead>\n",
              "    <tr style=\"text-align: right;\">\n",
              "      <th></th>\n",
              "      <th>segment_id</th>\n",
              "      <th>time_to_eruption</th>\n",
              "    </tr>\n",
              "  </thead>\n",
              "  <tbody>\n",
              "    <tr>\n",
              "      <th>0</th>\n",
              "      <td>1000213997</td>\n",
              "      <td>0</td>\n",
              "    </tr>\n",
              "    <tr>\n",
              "      <th>1</th>\n",
              "      <td>100023368</td>\n",
              "      <td>0</td>\n",
              "    </tr>\n",
              "    <tr>\n",
              "      <th>2</th>\n",
              "      <td>1000488999</td>\n",
              "      <td>0</td>\n",
              "    </tr>\n",
              "    <tr>\n",
              "      <th>3</th>\n",
              "      <td>1001028887</td>\n",
              "      <td>0</td>\n",
              "    </tr>\n",
              "    <tr>\n",
              "      <th>4</th>\n",
              "      <td>1001857862</td>\n",
              "      <td>0</td>\n",
              "    </tr>\n",
              "  </tbody>\n",
              "</table>\n",
              "</div>"
            ],
            "text/plain": [
              "   segment_id  time_to_eruption\n",
              "0  1000213997                 0\n",
              "1   100023368                 0\n",
              "2  1000488999                 0\n",
              "3  1001028887                 0\n",
              "4  1001857862                 0"
            ]
          },
          "metadata": {
            "tags": []
          },
          "execution_count": 10
        }
      ]
    },
    {
      "cell_type": "code",
      "metadata": {
        "id": "eh9T-qLKmlWm",
        "outputId": "12cf74d8-457e-4718-c041-7c5a5112dbe3",
        "colab": {
          "base_uri": "https://localhost:8080/",
          "height": 206
        }
      },
      "source": [
        "df = pd.read_csv('test/1000213997.csv')\n",
        "df.head()"
      ],
      "execution_count": 11,
      "outputs": [
        {
          "output_type": "execute_result",
          "data": {
            "text/html": [
              "<div>\n",
              "<style scoped>\n",
              "    .dataframe tbody tr th:only-of-type {\n",
              "        vertical-align: middle;\n",
              "    }\n",
              "\n",
              "    .dataframe tbody tr th {\n",
              "        vertical-align: top;\n",
              "    }\n",
              "\n",
              "    .dataframe thead th {\n",
              "        text-align: right;\n",
              "    }\n",
              "</style>\n",
              "<table border=\"1\" class=\"dataframe\">\n",
              "  <thead>\n",
              "    <tr style=\"text-align: right;\">\n",
              "      <th></th>\n",
              "      <th>sensor_1</th>\n",
              "      <th>sensor_2</th>\n",
              "      <th>sensor_3</th>\n",
              "      <th>sensor_4</th>\n",
              "      <th>sensor_5</th>\n",
              "      <th>sensor_6</th>\n",
              "      <th>sensor_7</th>\n",
              "      <th>sensor_8</th>\n",
              "      <th>sensor_9</th>\n",
              "      <th>sensor_10</th>\n",
              "    </tr>\n",
              "  </thead>\n",
              "  <tbody>\n",
              "    <tr>\n",
              "      <th>0</th>\n",
              "      <td>180.0</td>\n",
              "      <td>NaN</td>\n",
              "      <td>295.0</td>\n",
              "      <td>-221.0</td>\n",
              "      <td>-81.0</td>\n",
              "      <td>379.0</td>\n",
              "      <td>240.0</td>\n",
              "      <td>-288.0</td>\n",
              "      <td>152.0</td>\n",
              "      <td>0.0</td>\n",
              "    </tr>\n",
              "    <tr>\n",
              "      <th>1</th>\n",
              "      <td>200.0</td>\n",
              "      <td>NaN</td>\n",
              "      <td>199.0</td>\n",
              "      <td>-99.0</td>\n",
              "      <td>32.0</td>\n",
              "      <td>-226.0</td>\n",
              "      <td>241.0</td>\n",
              "      <td>-114.0</td>\n",
              "      <td>36.0</td>\n",
              "      <td>0.0</td>\n",
              "    </tr>\n",
              "    <tr>\n",
              "      <th>2</th>\n",
              "      <td>193.0</td>\n",
              "      <td>NaN</td>\n",
              "      <td>113.0</td>\n",
              "      <td>17.0</td>\n",
              "      <td>164.0</td>\n",
              "      <td>52.0</td>\n",
              "      <td>294.0</td>\n",
              "      <td>27.0</td>\n",
              "      <td>-21.0</td>\n",
              "      <td>0.0</td>\n",
              "    </tr>\n",
              "    <tr>\n",
              "      <th>3</th>\n",
              "      <td>188.0</td>\n",
              "      <td>NaN</td>\n",
              "      <td>26.0</td>\n",
              "      <td>125.0</td>\n",
              "      <td>274.0</td>\n",
              "      <td>-278.0</td>\n",
              "      <td>324.0</td>\n",
              "      <td>338.0</td>\n",
              "      <td>-22.0</td>\n",
              "      <td>0.0</td>\n",
              "    </tr>\n",
              "    <tr>\n",
              "      <th>4</th>\n",
              "      <td>177.0</td>\n",
              "      <td>NaN</td>\n",
              "      <td>-48.0</td>\n",
              "      <td>183.0</td>\n",
              "      <td>355.0</td>\n",
              "      <td>-363.0</td>\n",
              "      <td>356.0</td>\n",
              "      <td>339.0</td>\n",
              "      <td>-32.0</td>\n",
              "      <td>0.0</td>\n",
              "    </tr>\n",
              "  </tbody>\n",
              "</table>\n",
              "</div>"
            ],
            "text/plain": [
              "   sensor_1  sensor_2  sensor_3  ...  sensor_8  sensor_9  sensor_10\n",
              "0     180.0       NaN     295.0  ...    -288.0     152.0        0.0\n",
              "1     200.0       NaN     199.0  ...    -114.0      36.0        0.0\n",
              "2     193.0       NaN     113.0  ...      27.0     -21.0        0.0\n",
              "3     188.0       NaN      26.0  ...     338.0     -22.0        0.0\n",
              "4     177.0       NaN     -48.0  ...     339.0     -32.0        0.0\n",
              "\n",
              "[5 rows x 10 columns]"
            ]
          },
          "metadata": {
            "tags": []
          },
          "execution_count": 11
        }
      ]
    },
    {
      "cell_type": "code",
      "metadata": {
        "id": "Zcw9v09th5lE",
        "outputId": "4f1cbd28-7a57-4df0-9060-a9439a672729",
        "colab": {
          "base_uri": "https://localhost:8080/",
          "height": 321
        }
      },
      "source": [
        "g = sns.violinplot(data=df)\n",
        "g.figure.set_size_inches(15,5)"
      ],
      "execution_count": 12,
      "outputs": [
        {
          "output_type": "display_data",
          "data": {
            "image/png": "[encoded data removed]",
            "text/plain": [
              "<Figure size 1080x360 with 1 Axes>"
            ]
          },
          "metadata": {
            "tags": [],
            "needs_background": "light"
          }
        }
      ]
    },
    {
      "cell_type": "code",
      "metadata": {
        "id": "qTxSMUKupfvM",
        "outputId": "ae34831b-1aa1-4a3c-e226-741e995d9ada",
        "colab": {
          "base_uri": "https://localhost:8080/",
          "height": 52
        }
      },
      "source": [
        "!ls"
      ],
      "execution_count": 13,
      "outputs": [
        {
          "output_type": "stream",
          "text": [
            "data.zip\t\t\t  sample_submission.csv  train\n",
            "predict-volcanic-eruptions.ipynb  test\t\t\t train.csv\n"
          ],
          "name": "stdout"
        }
      ]
    },
    {
      "cell_type": "markdown",
      "metadata": {
        "id": "DjIckxH6vzeD"
      },
      "source": [
        "# Data"
      ]
    },
    {
      "cell_type": "code",
      "metadata": {
        "id": "K8z7kpHOpjiu"
      },
      "source": [
        ""
      ],
      "execution_count": 13,
      "outputs": []
    },
    {
      "cell_type": "code",
      "metadata": {
        "id": "L1WuRhdiv1kr"
      },
      "source": [
        "train = pd.read_csv(\"train.csv\")\n",
        "sample_submission = pd.read_csv(\"sample_submission.csv\")\n"
      ],
      "execution_count": 14,
      "outputs": []
    },
    {
      "cell_type": "code",
      "metadata": {
        "id": "f9pvfhl5v_X1"
      },
      "source": [
        "train_segment_csvs = glob.glob(\"train/*\")\n",
        "test_segment_csvs = glob.glob(\"test/*\")"
      ],
      "execution_count": 15,
      "outputs": []
    },
    {
      "cell_type": "code",
      "metadata": {
        "id": "huu3pZ38wJQz",
        "outputId": "c9a7c3c2-2f2a-4be9-d789-4de594e7c936",
        "colab": {
          "base_uri": "https://localhost:8080/",
          "height": 104
        }
      },
      "source": [
        "train_segment_csvs[0:5]"
      ],
      "execution_count": 16,
      "outputs": [
        {
          "output_type": "execute_result",
          "data": {
            "text/plain": [
              "['train/579307667.csv',\n",
              " 'train/579908624.csv',\n",
              " 'train/579683001.csv',\n",
              " 'train/580262567.csv',\n",
              " 'train/581069262.csv']"
            ]
          },
          "metadata": {
            "tags": []
          },
          "execution_count": 16
        }
      ]
    },
    {
      "cell_type": "code",
      "metadata": {
        "id": "OWrsCzHu-JKJ",
        "outputId": "81cd18f2-69e3-4965-d377-2a4fc293c273",
        "colab": {
          "base_uri": "https://localhost:8080/",
          "height": 104
        }
      },
      "source": [
        "test_segment_csvs[0:5]"
      ],
      "execution_count": 17,
      "outputs": [
        {
          "output_type": "execute_result",
          "data": {
            "text/plain": [
              "['test/58542575.csv',\n",
              " 'test/585632599.csv',\n",
              " 'test/585794453.csv',\n",
              " 'test/585631329.csv',\n",
              " 'test/587942731.csv']"
            ]
          },
          "metadata": {
            "tags": []
          },
          "execution_count": 17
        }
      ]
    },
    {
      "cell_type": "code",
      "metadata": {
        "id": "EvzMfieAwNZk",
        "outputId": "18a828db-c160-43fd-ef99-e235ba5084ce",
        "colab": {
          "base_uri": "https://localhost:8080/",
          "height": 69
        }
      },
      "source": [
        "print(\"Number of files under train/ is:\", len(train_segment_csvs))\n",
        "print(\"Number of files under test/ is:\", len(test_segment_csvs))\n",
        "\n",
        "duplicated_segment_id = [segment_id for segment_id in [ test_segment_id.split(\"/\")[-1] for test_segment_id in test_segment_csvs]\n",
        "                         if (segment_id in [ train_segment_id.split(\"/\")[-1] for train_segment_id in train_segment_csvs])]\n",
        "\n",
        "print(\"Duplicates Segment ids both in train and test are:\", len(duplicated_segment_id))"
      ],
      "execution_count": 18,
      "outputs": [
        {
          "output_type": "stream",
          "text": [
            "Number of files under train/ is: 4431\n",
            "Number of files under test/ is: 4520\n",
            "Duplicates Segment ids both in train and test are: 0\n"
          ],
          "name": "stdout"
        }
      ]
    },
    {
      "cell_type": "code",
      "metadata": {
        "id": "xEgsKB9vBcK8",
        "outputId": "1cd5334f-00f8-489b-8d06-fdd5c677b993",
        "colab": {
          "base_uri": "https://localhost:8080/",
          "height": 173
        }
      },
      "source": [
        "train['time_to_eruption'].describe()"
      ],
      "execution_count": 19,
      "outputs": [
        {
          "output_type": "execute_result",
          "data": {
            "text/plain": [
              "count    4.431000e+03\n",
              "mean     2.284891e+07\n",
              "std      1.348439e+07\n",
              "min      6.250000e+03\n",
              "25%      1.127016e+07\n",
              "50%      2.246559e+07\n",
              "75%      3.434356e+07\n",
              "max      4.904609e+07\n",
              "Name: time_to_eruption, dtype: float64"
            ]
          },
          "metadata": {
            "tags": []
          },
          "execution_count": 19
        }
      ]
    },
    {
      "cell_type": "code",
      "metadata": {
        "id": "C5NjxyMWm-_x"
      },
      "source": [
        "# train['time_to_eruption'].describe()[1:]\n",
        "# train['time_to_eruption'].describe()[1:].values"
      ],
      "execution_count": 20,
      "outputs": []
    },
    {
      "cell_type": "markdown",
      "metadata": {
        "id": "17E1M77fwe64"
      },
      "source": [
        "## Load Data"
      ]
    },
    {
      "cell_type": "code",
      "metadata": {
        "id": "xUL5OODRKbFz"
      },
      "source": [
        "column_names = [\"sensor_1\", \t\"sensor_2\", \t\"sensor_3\", \t\"sensor_4\", \t\"sensor_5\", \t\"sensor_6\", \t\"sensor_7\", \t\"sensor_8\", \t\"sensor_9\", \t\"sensor_10\"]\n",
        "column_stats = ['mean', 'std', 'min', '25%', '50%', '75%', 'max']\n",
        "# Apart from describe stats [ extra ]--Follow order\n",
        "column_stats.extend(['sum', 'var', 'median', 'skew', 'mad', 'kurtosis'])\n",
        "\n",
        "columns = [ i+\"_\"+j for i in column_names for j in column_stats]\n",
        "X = pd.DataFrame(columns=columns)\n",
        "y = pd.DataFrame(columns=['time_to_eruption'])\n",
        "# display(X.columns)\n",
        "# train_csv = pd.read_csv(train_segment_csvs[0])\n",
        "for i, train_segment_csv in train[:10].iterrows():\n",
        "#for train_segment_csv in train_segment_csvs[:10]:\n",
        "  # train_csv = pd.read_csv(train_segment_csv)\n",
        "  train_csv = pd.read_csv(\"train/\"+ str(train_segment_csv.segment_id) + \".csv\")\n",
        "  y.loc[len(X), :] = train_segment_csv.time_to_eruption\n",
        "  row = []\n",
        "  for feature in train_csv.columns:\n",
        "    # Offset by 1 column to ignore count in describe--Follow order\n",
        "    row.extend(train_csv[feature].describe()[1:].values)\n",
        "    # Extra stats--Follow order\n",
        "    row.extend([train_csv[feature].sum(), train_csv[feature].var(), \\\n",
        "                train_csv[feature].median(), train_csv[feature].skew(), \\\n",
        "                train_csv[feature].mad(), train_csv[feature].kurtosis()] )\n",
        "  X.loc[len(X), :] = row\n"
      ],
      "execution_count": 21,
      "outputs": []
    },
    {
      "cell_type": "code",
      "metadata": {
        "id": "o2fHPsKydjal",
        "outputId": "171b1cfb-7473-4366-cedc-ce83175fefad",
        "colab": {
          "base_uri": "https://localhost:8080/",
          "height": 256
        }
      },
      "source": [
        "display(X.head())"
      ],
      "execution_count": 22,
      "outputs": [
        {
          "output_type": "display_data",
          "data": {
            "text/html": [
              "<div>\n",
              "<style scoped>\n",
              "    .dataframe tbody tr th:only-of-type {\n",
              "        vertical-align: middle;\n",
              "    }\n",
              "\n",
              "    .dataframe tbody tr th {\n",
              "        vertical-align: top;\n",
              "    }\n",
              "\n",
              "    .dataframe thead th {\n",
              "        text-align: right;\n",
              "    }\n",
              "</style>\n",
              "<table border=\"1\" class=\"dataframe\">\n",
              "  <thead>\n",
              "    <tr style=\"text-align: right;\">\n",
              "      <th></th>\n",
              "      <th>sensor_1_mean</th>\n",
              "      <th>sensor_1_std</th>\n",
              "      <th>sensor_1_min</th>\n",
              "      <th>sensor_1_25%</th>\n",
              "      <th>sensor_1_50%</th>\n",
              "      <th>sensor_1_75%</th>\n",
              "      <th>sensor_1_max</th>\n",
              "      <th>sensor_1_sum</th>\n",
              "      <th>sensor_1_var</th>\n",
              "      <th>sensor_1_median</th>\n",
              "      <th>sensor_1_skew</th>\n",
              "      <th>sensor_1_mad</th>\n",
              "      <th>sensor_1_kurtosis</th>\n",
              "      <th>sensor_2_mean</th>\n",
              "      <th>sensor_2_std</th>\n",
              "      <th>sensor_2_min</th>\n",
              "      <th>sensor_2_25%</th>\n",
              "      <th>sensor_2_50%</th>\n",
              "      <th>sensor_2_75%</th>\n",
              "      <th>sensor_2_max</th>\n",
              "      <th>sensor_2_sum</th>\n",
              "      <th>sensor_2_var</th>\n",
              "      <th>sensor_2_median</th>\n",
              "      <th>sensor_2_skew</th>\n",
              "      <th>sensor_2_mad</th>\n",
              "      <th>sensor_2_kurtosis</th>\n",
              "      <th>sensor_3_mean</th>\n",
              "      <th>sensor_3_std</th>\n",
              "      <th>sensor_3_min</th>\n",
              "      <th>sensor_3_25%</th>\n",
              "      <th>sensor_3_50%</th>\n",
              "      <th>sensor_3_75%</th>\n",
              "      <th>sensor_3_max</th>\n",
              "      <th>sensor_3_sum</th>\n",
              "      <th>sensor_3_var</th>\n",
              "      <th>sensor_3_median</th>\n",
              "      <th>sensor_3_skew</th>\n",
              "      <th>sensor_3_mad</th>\n",
              "      <th>sensor_3_kurtosis</th>\n",
              "      <th>sensor_4_mean</th>\n",
              "      <th>...</th>\n",
              "      <th>sensor_7_kurtosis</th>\n",
              "      <th>sensor_8_mean</th>\n",
              "      <th>sensor_8_std</th>\n",
              "      <th>sensor_8_min</th>\n",
              "      <th>sensor_8_25%</th>\n",
              "      <th>sensor_8_50%</th>\n",
              "      <th>sensor_8_75%</th>\n",
              "      <th>sensor_8_max</th>\n",
              "      <th>sensor_8_sum</th>\n",
              "      <th>sensor_8_var</th>\n",
              "      <th>sensor_8_median</th>\n",
              "      <th>sensor_8_skew</th>\n",
              "      <th>sensor_8_mad</th>\n",
              "      <th>sensor_8_kurtosis</th>\n",
              "      <th>sensor_9_mean</th>\n",
              "      <th>sensor_9_std</th>\n",
              "      <th>sensor_9_min</th>\n",
              "      <th>sensor_9_25%</th>\n",
              "      <th>sensor_9_50%</th>\n",
              "      <th>sensor_9_75%</th>\n",
              "      <th>sensor_9_max</th>\n",
              "      <th>sensor_9_sum</th>\n",
              "      <th>sensor_9_var</th>\n",
              "      <th>sensor_9_median</th>\n",
              "      <th>sensor_9_skew</th>\n",
              "      <th>sensor_9_mad</th>\n",
              "      <th>sensor_9_kurtosis</th>\n",
              "      <th>sensor_10_mean</th>\n",
              "      <th>sensor_10_std</th>\n",
              "      <th>sensor_10_min</th>\n",
              "      <th>sensor_10_25%</th>\n",
              "      <th>sensor_10_50%</th>\n",
              "      <th>sensor_10_75%</th>\n",
              "      <th>sensor_10_max</th>\n",
              "      <th>sensor_10_sum</th>\n",
              "      <th>sensor_10_var</th>\n",
              "      <th>sensor_10_median</th>\n",
              "      <th>sensor_10_skew</th>\n",
              "      <th>sensor_10_mad</th>\n",
              "      <th>sensor_10_kurtosis</th>\n",
              "    </tr>\n",
              "  </thead>\n",
              "  <tbody>\n",
              "    <tr>\n",
              "      <th>0</th>\n",
              "      <td>-1.61032</td>\n",
              "      <td>303.096</td>\n",
              "      <td>-1421</td>\n",
              "      <td>-199</td>\n",
              "      <td>0</td>\n",
              "      <td>199</td>\n",
              "      <td>1353</td>\n",
              "      <td>-96621</td>\n",
              "      <td>91867.2</td>\n",
              "      <td>0</td>\n",
              "      <td>-0.0574943</td>\n",
              "      <td>238.836</td>\n",
              "      <td>0.247736</td>\n",
              "      <td>4.61382</td>\n",
              "      <td>678.331</td>\n",
              "      <td>-5199</td>\n",
              "      <td>-391</td>\n",
              "      <td>0</td>\n",
              "      <td>403</td>\n",
              "      <td>5572</td>\n",
              "      <td>276834</td>\n",
              "      <td>460133</td>\n",
              "      <td>0</td>\n",
              "      <td>-0.00312127</td>\n",
              "      <td>508.512</td>\n",
              "      <td>2.51287</td>\n",
              "      <td>3.55972</td>\n",
              "      <td>290.873</td>\n",
              "      <td>-1453</td>\n",
              "      <td>-184</td>\n",
              "      <td>0</td>\n",
              "      <td>187</td>\n",
              "      <td>1413</td>\n",
              "      <td>213587</td>\n",
              "      <td>84606.8</td>\n",
              "      <td>0</td>\n",
              "      <td>0.071352</td>\n",
              "      <td>226.776</td>\n",
              "      <td>0.590296</td>\n",
              "      <td>2.01998</td>\n",
              "      <td>...</td>\n",
              "      <td>0.194853</td>\n",
              "      <td>1.26836</td>\n",
              "      <td>620.95</td>\n",
              "      <td>-2878</td>\n",
              "      <td>-423</td>\n",
              "      <td>0</td>\n",
              "      <td>426</td>\n",
              "      <td>2544</td>\n",
              "      <td>76103</td>\n",
              "      <td>385579</td>\n",
              "      <td>0</td>\n",
              "      <td>-0.00726325</td>\n",
              "      <td>497.884</td>\n",
              "      <td>-0.0607656</td>\n",
              "      <td>1.46504</td>\n",
              "      <td>372.387</td>\n",
              "      <td>-1747</td>\n",
              "      <td>-242</td>\n",
              "      <td>0</td>\n",
              "      <td>245</td>\n",
              "      <td>2021</td>\n",
              "      <td>87904</td>\n",
              "      <td>138672</td>\n",
              "      <td>0</td>\n",
              "      <td>0.0142488</td>\n",
              "      <td>293.588</td>\n",
              "      <td>0.285442</td>\n",
              "      <td>2.59944</td>\n",
              "      <td>596.866</td>\n",
              "      <td>-3527</td>\n",
              "      <td>-406</td>\n",
              "      <td>0</td>\n",
              "      <td>410</td>\n",
              "      <td>2187</td>\n",
              "      <td>155969</td>\n",
              "      <td>356249</td>\n",
              "      <td>0</td>\n",
              "      <td>-0.0484425</td>\n",
              "      <td>477.586</td>\n",
              "      <td>0.102101</td>\n",
              "    </tr>\n",
              "    <tr>\n",
              "      <th>1</th>\n",
              "      <td>1.42613</td>\n",
              "      <td>438.361</td>\n",
              "      <td>-2005</td>\n",
              "      <td>-265</td>\n",
              "      <td>0</td>\n",
              "      <td>270</td>\n",
              "      <td>2197</td>\n",
              "      <td>85569</td>\n",
              "      <td>192160</td>\n",
              "      <td>0</td>\n",
              "      <td>-0.00118865</td>\n",
              "      <td>334.894</td>\n",
              "      <td>1.17762</td>\n",
              "      <td>2.48444</td>\n",
              "      <td>661.163</td>\n",
              "      <td>-4267</td>\n",
              "      <td>-381</td>\n",
              "      <td>0</td>\n",
              "      <td>381</td>\n",
              "      <td>5111</td>\n",
              "      <td>149069</td>\n",
              "      <td>437137</td>\n",
              "      <td>0</td>\n",
              "      <td>0.0330188</td>\n",
              "      <td>494.523</td>\n",
              "      <td>2.02871</td>\n",
              "      <td>-2.79427</td>\n",
              "      <td>362.2</td>\n",
              "      <td>-2094</td>\n",
              "      <td>-224</td>\n",
              "      <td>0</td>\n",
              "      <td>221</td>\n",
              "      <td>1723</td>\n",
              "      <td>-167659</td>\n",
              "      <td>131189</td>\n",
              "      <td>0</td>\n",
              "      <td>-0.103437</td>\n",
              "      <td>277.263</td>\n",
              "      <td>1.27012</td>\n",
              "      <td>-1.70057</td>\n",
              "      <td>...</td>\n",
              "      <td>3.04902</td>\n",
              "      <td>-1.08683</td>\n",
              "      <td>364.99</td>\n",
              "      <td>-1716</td>\n",
              "      <td>-236</td>\n",
              "      <td>0</td>\n",
              "      <td>242</td>\n",
              "      <td>1476</td>\n",
              "      <td>-65211</td>\n",
              "      <td>133218</td>\n",
              "      <td>0</td>\n",
              "      <td>-0.151708</td>\n",
              "      <td>286.782</td>\n",
              "      <td>0.478144</td>\n",
              "      <td>3.17923</td>\n",
              "      <td>407.418</td>\n",
              "      <td>-2615</td>\n",
              "      <td>-246</td>\n",
              "      <td>0</td>\n",
              "      <td>255</td>\n",
              "      <td>2189</td>\n",
              "      <td>188411</td>\n",
              "      <td>165990</td>\n",
              "      <td>0</td>\n",
              "      <td>-0.0427687</td>\n",
              "      <td>312.015</td>\n",
              "      <td>1.33697</td>\n",
              "      <td>19.8955</td>\n",
              "      <td>932.7</td>\n",
              "      <td>-4591</td>\n",
              "      <td>-547</td>\n",
              "      <td>0</td>\n",
              "      <td>565</td>\n",
              "      <td>5319</td>\n",
              "      <td>1.19375e+06</td>\n",
              "      <td>869929</td>\n",
              "      <td>0</td>\n",
              "      <td>0.20252</td>\n",
              "      <td>707.193</td>\n",
              "      <td>1.60799</td>\n",
              "    </tr>\n",
              "    <tr>\n",
              "      <th>2</th>\n",
              "      <td>2.50459</td>\n",
              "      <td>241.575</td>\n",
              "      <td>-1115</td>\n",
              "      <td>-157</td>\n",
              "      <td>0</td>\n",
              "      <td>157</td>\n",
              "      <td>1148</td>\n",
              "      <td>150278</td>\n",
              "      <td>58358.7</td>\n",
              "      <td>0</td>\n",
              "      <td>0.0716324</td>\n",
              "      <td>189.199</td>\n",
              "      <td>0.567813</td>\n",
              "      <td>5.44971</td>\n",
              "      <td>831.469</td>\n",
              "      <td>-6147</td>\n",
              "      <td>-455</td>\n",
              "      <td>0</td>\n",
              "      <td>467</td>\n",
              "      <td>7587</td>\n",
              "      <td>326988</td>\n",
              "      <td>691341</td>\n",
              "      <td>0</td>\n",
              "      <td>0.14301</td>\n",
              "      <td>602.617</td>\n",
              "      <td>4.84009</td>\n",
              "      <td>-1.58854</td>\n",
              "      <td>217.987</td>\n",
              "      <td>-1207</td>\n",
              "      <td>-136</td>\n",
              "      <td>0</td>\n",
              "      <td>137</td>\n",
              "      <td>1159</td>\n",
              "      <td>-95314</td>\n",
              "      <td>47518.4</td>\n",
              "      <td>0</td>\n",
              "      <td>-0.112455</td>\n",
              "      <td>168.381</td>\n",
              "      <td>1.03366</td>\n",
              "      <td>-1.15083</td>\n",
              "      <td>...</td>\n",
              "      <td>0.371039</td>\n",
              "      <td>-4.11161</td>\n",
              "      <td>350.322</td>\n",
              "      <td>-1293</td>\n",
              "      <td>-238</td>\n",
              "      <td>0</td>\n",
              "      <td>238</td>\n",
              "      <td>1202</td>\n",
              "      <td>-246701</td>\n",
              "      <td>122726</td>\n",
              "      <td>0</td>\n",
              "      <td>-0.0999654</td>\n",
              "      <td>280.625</td>\n",
              "      <td>-0.106176</td>\n",
              "      <td>-1.83334</td>\n",
              "      <td>261.36</td>\n",
              "      <td>-1542</td>\n",
              "      <td>-161</td>\n",
              "      <td>0</td>\n",
              "      <td>159</td>\n",
              "      <td>1778</td>\n",
              "      <td>-110002</td>\n",
              "      <td>68309.2</td>\n",
              "      <td>0</td>\n",
              "      <td>-0.0490751</td>\n",
              "      <td>200.263</td>\n",
              "      <td>1.18124</td>\n",
              "      <td>0.968101</td>\n",
              "      <td>500.545</td>\n",
              "      <td>-2798</td>\n",
              "      <td>-323</td>\n",
              "      <td>0</td>\n",
              "      <td>321</td>\n",
              "      <td>2522</td>\n",
              "      <td>58087</td>\n",
              "      <td>250545</td>\n",
              "      <td>0</td>\n",
              "      <td>0.0071924</td>\n",
              "      <td>391.106</td>\n",
              "      <td>0.615849</td>\n",
              "    </tr>\n",
              "    <tr>\n",
              "      <th>3</th>\n",
              "      <td>2.1658</td>\n",
              "      <td>221.968</td>\n",
              "      <td>-1025</td>\n",
              "      <td>-137</td>\n",
              "      <td>0</td>\n",
              "      <td>140</td>\n",
              "      <td>1254</td>\n",
              "      <td>129950</td>\n",
              "      <td>49269.7</td>\n",
              "      <td>0</td>\n",
              "      <td>0.123639</td>\n",
              "      <td>171.286</td>\n",
              "      <td>1.07966</td>\n",
              "      <td>-0.373377</td>\n",
              "      <td>425.19</td>\n",
              "      <td>-2828</td>\n",
              "      <td>-253</td>\n",
              "      <td>0</td>\n",
              "      <td>252</td>\n",
              "      <td>2453</td>\n",
              "      <td>-22403</td>\n",
              "      <td>180786</td>\n",
              "      <td>0</td>\n",
              "      <td>-0.0134155</td>\n",
              "      <td>321.053</td>\n",
              "      <td>1.77673</td>\n",
              "      <td>-2.69899</td>\n",
              "      <td>194.087</td>\n",
              "      <td>-847</td>\n",
              "      <td>-127</td>\n",
              "      <td>0</td>\n",
              "      <td>123</td>\n",
              "      <td>1345</td>\n",
              "      <td>-161942</td>\n",
              "      <td>37669.8</td>\n",
              "      <td>0</td>\n",
              "      <td>0.0112599</td>\n",
              "      <td>151.967</td>\n",
              "      <td>0.667343</td>\n",
              "      <td>-1.31686</td>\n",
              "      <td>...</td>\n",
              "      <td>0.954526</td>\n",
              "      <td>-0.175314</td>\n",
              "      <td>321.893</td>\n",
              "      <td>-1457</td>\n",
              "      <td>-214</td>\n",
              "      <td>0</td>\n",
              "      <td>214</td>\n",
              "      <td>1542</td>\n",
              "      <td>-10519</td>\n",
              "      <td>103615</td>\n",
              "      <td>0</td>\n",
              "      <td>0.00960452</td>\n",
              "      <td>255.043</td>\n",
              "      <td>0.193626</td>\n",
              "      <td>-3.51092</td>\n",
              "      <td>237.985</td>\n",
              "      <td>-1574</td>\n",
              "      <td>-154</td>\n",
              "      <td>0</td>\n",
              "      <td>150</td>\n",
              "      <td>1340</td>\n",
              "      <td>-201797</td>\n",
              "      <td>56636.9</td>\n",
              "      <td>0</td>\n",
              "      <td>-0.0826214</td>\n",
              "      <td>185.815</td>\n",
              "      <td>0.658955</td>\n",
              "      <td>8.38144</td>\n",
              "      <td>523.45</td>\n",
              "      <td>-2911</td>\n",
              "      <td>-323</td>\n",
              "      <td>0</td>\n",
              "      <td>326</td>\n",
              "      <td>3614</td>\n",
              "      <td>502895</td>\n",
              "      <td>274000</td>\n",
              "      <td>0</td>\n",
              "      <td>0.229183</td>\n",
              "      <td>402.646</td>\n",
              "      <td>1.40932</td>\n",
              "    </tr>\n",
              "    <tr>\n",
              "      <th>4</th>\n",
              "      <td>0.0738154</td>\n",
              "      <td>261.696</td>\n",
              "      <td>-1190</td>\n",
              "      <td>-171</td>\n",
              "      <td>0</td>\n",
              "      <td>170</td>\n",
              "      <td>1114</td>\n",
              "      <td>4429</td>\n",
              "      <td>68484.8</td>\n",
              "      <td>0</td>\n",
              "      <td>0.00659414</td>\n",
              "      <td>205.913</td>\n",
              "      <td>0.274037</td>\n",
              "      <td>NaN</td>\n",
              "      <td>NaN</td>\n",
              "      <td>NaN</td>\n",
              "      <td>NaN</td>\n",
              "      <td>NaN</td>\n",
              "      <td>NaN</td>\n",
              "      <td>NaN</td>\n",
              "      <td>0</td>\n",
              "      <td>NaN</td>\n",
              "      <td>NaN</td>\n",
              "      <td>NaN</td>\n",
              "      <td>NaN</td>\n",
              "      <td>NaN</td>\n",
              "      <td>1.99888</td>\n",
              "      <td>227.924</td>\n",
              "      <td>-1184</td>\n",
              "      <td>-149</td>\n",
              "      <td>0</td>\n",
              "      <td>152</td>\n",
              "      <td>1176</td>\n",
              "      <td>119935</td>\n",
              "      <td>51949.2</td>\n",
              "      <td>0</td>\n",
              "      <td>0.0596713</td>\n",
              "      <td>180.252</td>\n",
              "      <td>0.288693</td>\n",
              "      <td>0.245079</td>\n",
              "      <td>...</td>\n",
              "      <td>-0.201405</td>\n",
              "      <td>-1.73032</td>\n",
              "      <td>412.606</td>\n",
              "      <td>-1618</td>\n",
              "      <td>-284</td>\n",
              "      <td>0</td>\n",
              "      <td>282</td>\n",
              "      <td>1439</td>\n",
              "      <td>-103821</td>\n",
              "      <td>170244</td>\n",
              "      <td>0</td>\n",
              "      <td>-0.0323234</td>\n",
              "      <td>330.788</td>\n",
              "      <td>-0.0765472</td>\n",
              "      <td>1.62291</td>\n",
              "      <td>325.089</td>\n",
              "      <td>-7252</td>\n",
              "      <td>-166</td>\n",
              "      <td>0</td>\n",
              "      <td>168</td>\n",
              "      <td>7725</td>\n",
              "      <td>97376</td>\n",
              "      <td>105683</td>\n",
              "      <td>0</td>\n",
              "      <td>-0.143465</td>\n",
              "      <td>214.755</td>\n",
              "      <td>61.5902</td>\n",
              "      <td>-3.74047</td>\n",
              "      <td>562.748</td>\n",
              "      <td>-2611</td>\n",
              "      <td>-362</td>\n",
              "      <td>0</td>\n",
              "      <td>361</td>\n",
              "      <td>3274</td>\n",
              "      <td>-224432</td>\n",
              "      <td>316686</td>\n",
              "      <td>0</td>\n",
              "      <td>-0.0141603</td>\n",
              "      <td>440.6</td>\n",
              "      <td>0.483804</td>\n",
              "    </tr>\n",
              "  </tbody>\n",
              "</table>\n",
              "<p>5 rows × 130 columns</p>\n",
              "</div>"
            ],
            "text/plain": [
              "  sensor_1_mean sensor_1_std  ... sensor_10_mad sensor_10_kurtosis\n",
              "0      -1.61032      303.096  ...       477.586           0.102101\n",
              "1       1.42613      438.361  ...       707.193            1.60799\n",
              "2       2.50459      241.575  ...       391.106           0.615849\n",
              "3        2.1658      221.968  ...       402.646            1.40932\n",
              "4     0.0738154      261.696  ...         440.6           0.483804\n",
              "\n",
              "[5 rows x 130 columns]"
            ]
          },
          "metadata": {
            "tags": []
          }
        }
      ]
    },
    {
      "cell_type": "code",
      "metadata": {
        "id": "vfubj3VovxIU",
        "outputId": "8a664340-6d12-40c5-bede-1889dfe0bf29",
        "colab": {
          "base_uri": "https://localhost:8080/",
          "height": 363
        }
      },
      "source": [
        "y"
      ],
      "execution_count": 23,
      "outputs": [
        {
          "output_type": "execute_result",
          "data": {
            "text/html": [
              "<div>\n",
              "<style scoped>\n",
              "    .dataframe tbody tr th:only-of-type {\n",
              "        vertical-align: middle;\n",
              "    }\n",
              "\n",
              "    .dataframe tbody tr th {\n",
              "        vertical-align: top;\n",
              "    }\n",
              "\n",
              "    .dataframe thead th {\n",
              "        text-align: right;\n",
              "    }\n",
              "</style>\n",
              "<table border=\"1\" class=\"dataframe\">\n",
              "  <thead>\n",
              "    <tr style=\"text-align: right;\">\n",
              "      <th></th>\n",
              "      <th>time_to_eruption</th>\n",
              "    </tr>\n",
              "  </thead>\n",
              "  <tbody>\n",
              "    <tr>\n",
              "      <th>0</th>\n",
              "      <td>12262005</td>\n",
              "    </tr>\n",
              "    <tr>\n",
              "      <th>1</th>\n",
              "      <td>32739612</td>\n",
              "    </tr>\n",
              "    <tr>\n",
              "      <th>2</th>\n",
              "      <td>14965999</td>\n",
              "    </tr>\n",
              "    <tr>\n",
              "      <th>3</th>\n",
              "      <td>26469720</td>\n",
              "    </tr>\n",
              "    <tr>\n",
              "      <th>4</th>\n",
              "      <td>31072429</td>\n",
              "    </tr>\n",
              "    <tr>\n",
              "      <th>5</th>\n",
              "      <td>22264866</td>\n",
              "    </tr>\n",
              "    <tr>\n",
              "      <th>6</th>\n",
              "      <td>34952168</td>\n",
              "    </tr>\n",
              "    <tr>\n",
              "      <th>7</th>\n",
              "      <td>9504818</td>\n",
              "    </tr>\n",
              "    <tr>\n",
              "      <th>8</th>\n",
              "      <td>11719563</td>\n",
              "    </tr>\n",
              "    <tr>\n",
              "      <th>9</th>\n",
              "      <td>11629084</td>\n",
              "    </tr>\n",
              "  </tbody>\n",
              "</table>\n",
              "</div>"
            ],
            "text/plain": [
              "  time_to_eruption\n",
              "0         12262005\n",
              "1         32739612\n",
              "2         14965999\n",
              "3         26469720\n",
              "4         31072429\n",
              "5         22264866\n",
              "6         34952168\n",
              "7          9504818\n",
              "8         11719563\n",
              "9         11629084"
            ]
          },
          "metadata": {
            "tags": []
          },
          "execution_count": 23
        }
      ]
    },
    {
      "cell_type": "code",
      "metadata": {
        "id": "z4H7mHH4diAR"
      },
      "source": [
        ""
      ],
      "execution_count": 23,
      "outputs": []
    },
    {
      "cell_type": "markdown",
      "metadata": {
        "id": "OzxZoOS7YpHs"
      },
      "source": [
        "### Cleanup NaN"
      ]
    },
    {
      "cell_type": "code",
      "metadata": {
        "id": "8SIQzS96YxAR"
      },
      "source": [
        "# Try Different Methods like kNN\n",
        "X = X.fillna(0)"
      ],
      "execution_count": 24,
      "outputs": []
    },
    {
      "cell_type": "markdown",
      "metadata": {
        "id": "XGMCjfGSavf4"
      },
      "source": [
        "## Split Data to train & test"
      ]
    },
    {
      "cell_type": "code",
      "metadata": {
        "id": "g2VtsWj6auZH"
      },
      "source": [
        "from sklearn.model_selection import train_test_split\n",
        "X_train, X_test, y_train, y_test = train_test_split(X, y, test_size=0.33)"
      ],
      "execution_count": 25,
      "outputs": []
    },
    {
      "cell_type": "markdown",
      "metadata": {
        "id": "EU-FFTfMXWT7"
      },
      "source": [
        "## Train "
      ]
    },
    {
      "cell_type": "code",
      "metadata": {
        "id": "BloNzR8kXeb9"
      },
      "source": [
        "reg = LinearRegression().fit(X_train, y_train)\n",
        "#reg.score(X, y)"
      ],
      "execution_count": 26,
      "outputs": []
    },
    {
      "cell_type": "markdown",
      "metadata": {
        "id": "QM5nuJbTZ6OT"
      },
      "source": [
        "#Test"
      ]
    },
    {
      "cell_type": "code",
      "metadata": {
        "id": "g7U8snOAcXTt"
      },
      "source": [
        "from sklearn.metrics import mean_squared_error, r2_score"
      ],
      "execution_count": 27,
      "outputs": []
    },
    {
      "cell_type": "code",
      "metadata": {
        "id": "iwGSd03jaCdw"
      },
      "source": [
        "y_pred = reg.predict(X_test)"
      ],
      "execution_count": 28,
      "outputs": []
    },
    {
      "cell_type": "code",
      "metadata": {
        "id": "gXix11o5cGsm",
        "outputId": "7dbb957f-aeb1-405f-fcbc-bf0f6c7f5b3c",
        "colab": {
          "base_uri": "https://localhost:8080/",
          "height": 642
        }
      },
      "source": [
        "# The coefficients\n",
        "print('Coefficients: \\n', reg.coef_)\n",
        "# The mean squared error\n",
        "print('Mean squared error: %.2f'\n",
        "      % mean_squared_error(y_test, y_pred))\n",
        "# The coefficient of determination: 1 is perfect prediction\n",
        "print('Coefficient of determination: %.2f'\n",
        "      % r2_score(y_test, y_pred))"
      ],
      "execution_count": 29,
      "outputs": [
        {
          "output_type": "stream",
          "text": [
            "Coefficients: \n",
            " [[-3.88775920e-05  3.90372017e-03 -2.51538324e-02 -2.30070213e-03\n",
            "   0.00000000e+00  1.93931507e-03  5.11703825e-03 -2.33269440e+00\n",
            "  -2.23143109e+00  0.00000000e+00  8.56493464e-06  2.89891915e-03\n",
            "   1.39010714e-05 -1.30061264e-04 -4.81261705e-02  6.24241049e-01\n",
            "   2.64221104e-02  0.00000000e+00 -2.68053608e-02 -4.08388896e-01\n",
            "  -7.80380588e+00 -1.81391040e+01  0.00000000e+00  1.06871845e-05\n",
            "  -3.50928286e-02 -5.80241223e-04  3.83513651e-04  2.02356585e-03\n",
            "  -3.84272344e-02 -7.69854765e-04  0.00000000e+00  1.24627172e-03\n",
            "   6.35893200e-02  2.30112026e+01 -2.50567033e+00  0.00000000e+00\n",
            "   1.53055295e-05  1.37556142e-03  6.12590759e-05  6.79454056e-05\n",
            "   8.07796518e-03 -5.43388072e-02 -5.51005215e-03  0.00000000e+00\n",
            "   4.87778492e-03  5.08448944e-02  4.07679228e+00  1.83811274e-01\n",
            "   0.00000000e+00  4.41738464e-06  6.29022413e-03 -2.90883872e-05\n",
            "  -1.74356489e-04  3.78422371e-03  4.50881595e-03 -2.90467029e-03\n",
            "   0.00000000e+00  2.69234432e-03 -3.19304858e-02 -1.04615637e+01\n",
            "   7.45884929e-01  0.00000000e+00 -1.31884561e-05  3.39656676e-03\n",
            "  -9.98361083e-04  3.31559978e-06 -1.03425268e-02  1.46908199e-01\n",
            "   2.17808929e-03  0.00000000e+00 -2.38252115e-03 -1.71759480e-01\n",
            "   1.98939303e-01 -1.03503678e+01  0.00000000e+00 -6.28141861e-06\n",
            "  -5.70341156e-03 -3.41010714e-04 -3.60351605e-04  1.09020703e-02\n",
            "   2.64178179e-02 -7.13903818e-03  0.00000000e+00  8.14707877e-03\n",
            "   3.56621516e-02 -2.16214566e+01  1.35549663e+00  0.00000000e+00\n",
            "  -1.22863511e-05  8.75753283e-03 -3.55211964e-05 -4.36819597e-04\n",
            "   9.07049018e-03 -4.03471757e-02 -6.78688465e-03  0.00000000e+00\n",
            "   5.56631100e-03  2.21801419e-03 -2.62096126e+01 -5.44281343e+00\n",
            "   0.00000000e+00 -7.79886914e-06  7.10335392e-03  1.39723396e-05\n",
            "  -3.81186181e-05  1.29880731e-02 -7.76126571e-01 -2.30621466e-03\n",
            "   0.00000000e+00  2.61059783e-03  7.91766595e-01 -1.71510767e+00\n",
            "   3.15648003e+00  0.00000000e+00 -3.13175769e-05  5.08906416e-03\n",
            "   7.38293427e-03  2.71671166e-04  1.32426564e-02 -6.05298016e-02\n",
            "  -7.48864421e-03  0.00000000e+00  6.92243164e-03  1.80032596e-01\n",
            "   1.63005416e+01 -1.31913545e+00  0.00000000e+00  2.16097032e-05\n",
            "   9.83870752e-03 -8.77282015e-06]]\n",
            "Mean squared error: 125205396956997.94\n",
            "Coefficient of determination: -0.04\n"
          ],
          "name": "stdout"
        }
      ]
    },
    {
      "cell_type": "code",
      "metadata": {
        "id": "paMd_Gh4bXpN",
        "outputId": "f5f3c0d8-fda9-4220-fefc-c4e7c5f3dd0d",
        "colab": {
          "base_uri": "https://localhost:8080/",
          "height": 156
        }
      },
      "source": [
        "print(y_pred, y_test)"
      ],
      "execution_count": 30,
      "outputs": [
        {
          "output_type": "stream",
          "text": [
            "[[ 8849250.38643085]\n",
            " [ 5091649.44496022]\n",
            " [16851408.07973101]\n",
            " [22060538.79901684]]   time_to_eruption\n",
            "9         11629084\n",
            "0         12262005\n",
            "6         34952168\n",
            "1         32739612\n"
          ],
          "name": "stdout"
        }
      ]
    },
    {
      "cell_type": "code",
      "metadata": {
        "id": "3xp8rssKb1Jh",
        "outputId": "cd3580f0-3ba3-4738-dfdc-b0d6eed6a6d0",
        "colab": {
          "base_uri": "https://localhost:8080/",
          "height": 34
        }
      },
      "source": [
        "print(X_train.shape, y_train.shape)"
      ],
      "execution_count": 31,
      "outputs": [
        {
          "output_type": "stream",
          "text": [
            "(6, 130) (6, 1)\n"
          ],
          "name": "stdout"
        }
      ]
    },
    {
      "cell_type": "code",
      "metadata": {
        "id": "Flo7ig_5XfI8"
      },
      "source": [
        "# # Plot outputs\n",
        "# plt.scatter(X_train, y_train,  color='black')\n",
        "# plt.plot(X_test, y_pred, color='blue', linewidth=3)\n",
        "\n",
        "# plt.xticks(())\n",
        "# plt.yticks(())\n",
        "\n",
        "# plt.show()"
      ],
      "execution_count": 32,
      "outputs": []
    },
    {
      "cell_type": "code",
      "metadata": {
        "id": "FawKoCIZc0lr"
      },
      "source": [
        ""
      ],
      "execution_count": 32,
      "outputs": []
    },
    {
      "cell_type": "code",
      "metadata": {
        "id": "IJ0sPckHVMWQ"
      },
      "source": [
        "# train_csv = pd.read_csv(train_segment_csvs[0])\n",
        "# display(train_csv.sensor_1.describe())\n",
        "# for i, row in train[:2].iterrows():\n",
        "#   print(\"Segment ID: %d \\t Time to Eruption: %d\" %(row.segment_id, row.time_to_eruption) )\n",
        "#   sensor_data = pd.read_csv(\"train/\"+ str(row.segment_id) + \".csv\")\n",
        "#   #sensor_data = sensor_data.fillna(0)\n",
        "#   #sensor_data = sensor_data.dropna(axis=1)\n",
        "#   print(sensor_data.isna().sum())\n",
        "#   with pd.option_context('display.max_rows', None, 'display.max_columns', None):\n",
        "#     print(sensor_data.describe())\n",
        "#   print(sensor_data.info())\n",
        "#   print(\"--\"*30)\n",
        "# sensor_data.describe().unstack()\n",
        "# def calculate_stats(sensor_row):\n",
        "#   X = pd.DataFrame()\n",
        "#   for row in sensor_row:\n",
        "#     out = sensor_row[row].describe().values\n",
        "#     print(out) \n",
        "          \n",
        "# # display(train_csv.sensor_1.describe().values)\n",
        "# #   print(sensor_row.describe())\n",
        "#   #X = pd.DataFrame()\n",
        "#   # sensor_row.mean()\n",
        "#   # input_data.sum()\n",
        "#   # X.loc[ts, f'{sensor_id}_mean']      = signal.mean()\n",
        "#   # X.loc[ts, f'{sensor_id}_std']       = signal.std()\n",
        "#   # X.loc[ts, f'{sensor_id}_var']       = signal.var() \n",
        "#   # X.loc[ts, f'{sensor_id}_max']       = signal.max()\n",
        "#   # X.loc[ts, f'{sensor_id}_min']       = signal.min()\n",
        "\n",
        "# # def basic_statistics(, sensor_id, s):\n",
        "# #     \"\"\"Computes basic statistics for the training feature set.\n",
        "    \n",
        "# #     Args:\n",
        "# #         t_X (pandas.DataFrame): The feature set being built.\n",
        "# #         x (pandas.Series): The signal values.\n",
        "# #         s (int): The integer number of the segment.\n",
        "# #         postfix (str): The postfix string value.\n",
        "# #     Return:\n",
        "# #         t_X (pandas.DataFrame): The feature set being built.\n",
        "# #     \"\"\"\n",
        "# #     X = pd.DataFrame()\n",
        "# #     X.loc[sensor_num, f'{sensor_id}_mean']      = signal.mean()\n",
        "# #     X.loc[sensor_num, f'{sensor_id}_std']       = signal.std()\n",
        "# #     X.loc[sensor_num, f'{sensor_id}_var']       = signal.var() \n",
        "# #     X.loc[sensor_num, f'{sensor_id}_max']       = signal.max()\n",
        "# #     X.loc[sensor_num, f'{sensor_id}_min']       = signal.min()\n",
        "\n",
        "# #     X.loc[s, f'{sensor}_sum{postfix}']       = x.sum()\n",
        "# #     t_X.loc[s, f'{sensor}_mean{postfix}']      = x.mean()\n",
        "# #     t_X.loc[s, f'{sensor}_std{postfix}']       = x.std()\n",
        "# #     t_X.loc[s, f'{sensor}_var{postfix}']       = x.var() \n",
        "# #     t_X.loc[s, f'{sensor}_max{postfix}']       = x.max()\n",
        "# #     t_X.loc[s, f'{sensor}_min{postfix}']       = x.min()\n",
        "# #     t_X.loc[s, f'{sensor}_median{postfix}']    = x.median()\n",
        "# #     t_X.loc[s, f'{sensor}_skew{postfix}']      = x.skew()\n",
        "# #     t_X.loc[s, f'{sensor}_mad{postfix}']       = x.mad()\n",
        "# #     t_X.loc[s, f'{sensor}_kurtosis{postfix}']  = x.kurtosis()\n",
        "\n",
        "# #     return t_X\n",
        "# for i, row in train[:1].iterrows():\n",
        "#   print(\"Segment ID: %d \\t Time to Eruption: %d\" %(row.segment_id, row.time_to_eruption) )\n",
        "#   sensor_data = pd.read_csv(\"train/\"+ str(row.segment_id) + \".csv\")\n",
        "#   print(calculate_stats(sensor_data))\n",
        "#   #sensor_data = sensor_data.fillna(0)\n",
        "#   #sensor_data = sensor_data.dropna(axis=1)\n",
        "#   # print(sensor_data.isna().sum())\n",
        "#   # with pd.option_context('display.max_rows', None, 'display.max_columns', None):\n",
        "#   #   print(sensor_data.describe())\n",
        "#   # print(sensor_data.info())\n",
        "#   print(\"--\"*30)\n",
        "# train\n",
        "# # train_379022420 = pd.read_csv(\"train/379022420.csv\")\n",
        "# # train_1002275321 = pd.read_csv(\"train/1002275321.csv\")\n",
        "# train.head()\n",
        "# train.info()\n",
        "\n",
        "# train_final = pd.DataFrame(columns={'segment_id', 'time_to_eruption', 'sensor_1', 'sensor_2', 'sensor_3',\n",
        "#        'sensor_4', 'sensor_5', 'sensor_6', 'sensor_7', 'sensor_8', 'sensor_9',\n",
        "#        'sensor_10'})\n",
        "# for i, row in train[0:20].iterrows():\n",
        "#   sensor_data = pd.read_csv(\"train/\"+ str(row.segment_id) + \".csv\")\n",
        "#   sensor_data['segment_id'] = row.segment_id\n",
        "#   train1 = train.merge(sensor_data, on='segment_id')\n",
        "#   # train_1_describe = pd.DataFrame(train1.describe()).reset_index()\n",
        "#   # train_1_describe['segment_id'] = row.segment_id\n",
        "#   train_final = pd.concat([train_final, train1], axis=0)\n",
        "# train_final = train_final.reset_index(drop=True)\n",
        "# train_final.groupby(['segment_id', 'time_to_eruption']).mean()\n",
        "# train_final.isna().sum()"
      ],
      "execution_count": 33,
      "outputs": []
    },
    {
      "cell_type": "code",
      "metadata": {
        "id": "Faa_8jbIO6hi",
        "outputId": "4b1b4f74-b412-4b1f-c417-1dcd5f29a8e9",
        "colab": {
          "base_uri": "https://localhost:8080/",
          "height": 34
        }
      },
      "source": [
        "for train_segment_csv in train_segment_csvs[0:1]:\n",
        "  train_csv = pd.read_csv(train_segment_csv)\n",
        "  display(train_csv.sensor_1.describe().keys())"
      ],
      "execution_count": 34,
      "outputs": [
        {
          "output_type": "display_data",
          "data": {
            "text/plain": [
              "Index(['count', 'mean', 'std', 'min', '25%', '50%', '75%', 'max'], dtype='object')"
            ]
          },
          "metadata": {
            "tags": []
          }
        }
      ]
    },
    {
      "cell_type": "code",
      "metadata": {
        "id": "JlUSCpgxpnsa"
      },
      "source": [
        ""
      ],
      "execution_count": 34,
      "outputs": []
    },
    {
      "cell_type": "code",
      "metadata": {
        "id": "YlP6vzQ9_CqN"
      },
      "source": [
        ""
      ],
      "execution_count": 34,
      "outputs": []
    },
    {
      "cell_type": "code",
      "metadata": {
        "id": "UScfIeu1_Lql"
      },
      "source": [
        ""
      ],
      "execution_count": 34,
      "outputs": []
    }
  ]
}