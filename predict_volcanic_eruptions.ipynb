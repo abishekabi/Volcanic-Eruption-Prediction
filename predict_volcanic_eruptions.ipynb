{
  "nbformat": 4,
  "nbformat_minor": 0,
  "metadata": {
    "colab": {
      "name": "predict-volcanic-eruptions.ipynb",
      "provenance": [],
      "collapsed_sections": [],
      "include_colab_link": true
    },
    "kernelspec": {
      "name": "python3",
      "display_name": "Python 3"
    }
  },
  "cells": [
    {
      "cell_type": "markdown",
      "metadata": {
        "id": "view-in-github",
        "colab_type": "text"
      },
      "source": [
        "<a href=\"https://colab.research.google.com/github/abishekabi/Volcanic-Eruption-Prediction/blob/main/predict_volcanic_eruptions.ipynb\" target=\"_parent\"><img src=\"https://colab.research.google.com/assets/colab-badge.svg\" alt=\"Open In Colab\"/></a>"
      ]
    },
    {
      "cell_type": "code",
      "metadata": {
        "id": "qvvpmOx0nrQU",
        "outputId": "97848519-eccd-47ed-8dc3-2775babf0689",
        "colab": {
          "base_uri": "https://localhost:8080/",
          "height": 34
        }
      },
      "source": [
        "from google.colab import drive\n",
        "\n",
        "drive.mount('/content/gdrive')\n",
        "root_path = 'gdrive/My Drive/Colab Notebooks/predict-volcanic-eruptions'"
      ],
      "execution_count": 1,
      "outputs": [
        {
          "output_type": "stream",
          "text": [
            "Mounted at /content/gdrive\n"
          ],
          "name": "stdout"
        }
      ]
    },
    {
      "cell_type": "code",
      "metadata": {
        "id": "CskWoxVcn7ed",
        "outputId": "f21d9379-cfb7-4158-f39b-e54b1a72f0ef",
        "colab": {
          "base_uri": "https://localhost:8080/",
          "height": 34
        }
      },
      "source": [
        "%cd 'gdrive/My Drive/Colab Notebooks/predict-volcanic-eruptions'"
      ],
      "execution_count": 2,
      "outputs": [
        {
          "output_type": "stream",
          "text": [
            "/content/gdrive/My Drive/Colab Notebooks/predict-volcanic-eruptions\n"
          ],
          "name": "stdout"
        }
      ]
    },
    {
      "cell_type": "code",
      "metadata": {
        "id": "FlTPh0xGuXBR"
      },
      "source": [
        "# !wget \"https://storage.googleapis.com/kaggle-competitions-data/kaggle-v2/19059/1581061/bundle/archive.zip?GoogleAccessId=web-data@kaggle-161607.iam.gserviceaccount.com&Expires=1603216878&Signature=Xcz3Ni8%2F7bb7rIyQlyeyfbeASoi78143MpaVMe3kyZXi3WKfxcW7kp%2F44CQYzgoE2FfwzGR343oh5QVkHTt9xTGjHufJZRxbiJ0allxJiMFJrdZaZLZP8UwcQGl4k7ZlyF%2Bc7lAcoYNI14LjW4GEUSTOYvWyIrJqWGsBPwYCcLaGLaHP4lKxF0W7M%2FIOlyIMASugpiRIVsuCkR8fNWT3k4vyRgSldLTlfI46fkNvOFIsOl8kU%2BeRVd8yuhBrA8EmY8QRR0%2FGl9wSCfyjQe8Or4nSWs5V5svpRrzbtl5gTeMcIi8emEAktsbg8lK3%2F%2BzpIMu4map2I1aXj1wAqMPnYA%3D%3D&response-content-disposition=attachment%3B+filename%3Dpredict-volcanic-eruptions-ingv-oe.zip\"\n",
        "# !unzip data.zip\n",
        "# from google.colab import files\n",
        "# files.upload() \n",
        "# !pip install -q kaggle\n",
        "# !mkdir -p ~/.kaggle\n",
        "# !cp kaggle.json ~/.kaggle/\n",
        "# !ls ~/.kaggle\n",
        "# !chmod 600 /root/.kaggle/kaggle.json  # set permission\n",
        "#!kaggle competitions download -c predict-volcanic-eruptions-ingv-oe "
      ],
      "execution_count": 8,
      "outputs": []
    },
    {
      "cell_type": "code",
      "metadata": {
        "id": "r7udp1gviq-n",
        "outputId": "c31d8fda-4a34-449e-9981-188a88dd506b",
        "colab": {
          "base_uri": "https://localhost:8080/",
          "height": 139
        }
      },
      "source": [
        "!ls -lh "
      ],
      "execution_count": 18,
      "outputs": [
        {
          "output_type": "stream",
          "text": [
            "total 9.5G\n",
            "-rw------- 1 root root 9.5G Oct 17 18:06 data.zip\n",
            "-rw------- 1 root root  36K Oct 19 16:01 predict-volcanic-eruptions.ipynb\n",
            "-rw------- 1 root root  56K Oct 17 18:08 sample_submission.csv\n",
            "drwx------ 2 root root 4.0K Oct 19 15:53 test\n",
            "drwx------ 2 root root 4.0K Oct 19 16:00 train\n",
            "-rw------- 1 root root  84K Oct  8 23:38 train.csv\n"
          ],
          "name": "stdout"
        }
      ]
    },
    {
      "cell_type": "code",
      "metadata": {
        "id": "VqVA3QdcsO9P",
        "outputId": "9825661b-7e82-40b7-9e5c-2f9184d6392d",
        "colab": {
          "base_uri": "https://localhost:8080/",
          "height": 191
        }
      },
      "source": [
        "!head train.csv"
      ],
      "execution_count": 19,
      "outputs": [
        {
          "output_type": "stream",
          "text": [
            "segment_id,time_to_eruption\n",
            "1136037770,12262005\n",
            "1969647810,32739612\n",
            "1895879680,14965999\n",
            "2068207140,26469720\n",
            "192955606,31072429\n",
            "1640671020,22264866\n",
            "288840453,34952168\n",
            "1162441568,9504818\n",
            "1791400073,11719563\n"
          ],
          "name": "stdout"
        }
      ]
    },
    {
      "cell_type": "code",
      "metadata": {
        "id": "mXEACismt6FN",
        "outputId": "9e9211a1-a2d4-4e21-dfc8-defaf91576db",
        "colab": {
          "base_uri": "https://localhost:8080/",
          "height": 191
        }
      },
      "source": [
        "!head train/1136037770.csv"
      ],
      "execution_count": 20,
      "outputs": [
        {
          "output_type": "stream",
          "text": [
            "sensor_1,sensor_2,sensor_3,sensor_4,sensor_5,sensor_6,sensor_7,sensor_8,sensor_9,sensor_10\n",
            "220.0,339.0,-336.0,364.0,,492.0,-796.0,-423.0,-582.0,-40.0\n",
            "178.0,221.0,-317.0,366.0,,525.0,-754.0,-415.0,-932.0,-305.0\n",
            "151.0,42.0,-280.0,250.0,,463.0,-772.0,-229.0,-257.0,-59.0\n",
            "162.0,-123.0,-243.0,288.0,,303.0,-899.0,212.0,-295.0,38.0\n",
            "158.0,-287.0,-300.0,372.0,,169.0,-769.0,755.0,169.0,-239.0\n",
            "136.0,-302.0,-308.0,242.0,,241.0,-510.0,888.0,282.0,-293.0\n",
            "124.0,-131.0,-292.0,132.0,,234.0,-494.0,970.0,-326.0,-203.0\n",
            "127.0,133.0,-208.0,14.0,,134.0,-748.0,700.0,237.0,-278.0\n",
            "142.0,374.0,-81.0,-177.0,,-200.0,-678.0,402.0,664.0,-460.0\n"
          ],
          "name": "stdout"
        }
      ]
    },
    {
      "cell_type": "code",
      "metadata": {
        "id": "D751U8TVoDkd",
        "outputId": "22babd21-7ad1-4eb5-cd65-0a3444ef6830",
        "colab": {
          "base_uri": "https://localhost:8080/",
          "height": 191
        }
      },
      "source": [
        "!head sample_submission.csv"
      ],
      "execution_count": 21,
      "outputs": [
        {
          "output_type": "stream",
          "text": [
            "segment_id,time_to_eruption\n",
            "1000213997,0\n",
            "100023368,0\n",
            "1000488999,0\n",
            "1001028887,0\n",
            "1001857862,0\n",
            "1003310246,0\n",
            "1003545497,0\n",
            "1004288653,0\n",
            "10044968,0\n"
          ],
          "name": "stdout"
        }
      ]
    },
    {
      "cell_type": "code",
      "metadata": {
        "id": "eh9T-qLKmlWm",
        "outputId": "1734b0e0-4cfb-45aa-a41b-67f98119cf32",
        "colab": {
          "base_uri": "https://localhost:8080/",
          "height": 191
        }
      },
      "source": [
        "!head test/1000213997.csv"
      ],
      "execution_count": 22,
      "outputs": [
        {
          "output_type": "stream",
          "text": [
            "sensor_1,sensor_2,sensor_3,sensor_4,sensor_5,sensor_6,sensor_7,sensor_8,sensor_9,sensor_10\n",
            "180.0,,295.0,-221.0,-81.0,379.0,240.0,-288.0,152.0,0.0\n",
            "200.0,,199.0,-99.0,32.0,-226.0,241.0,-114.0,36.0,0.0\n",
            "193.0,,113.0,17.0,164.0,52.0,294.0,27.0,-21.0,0.0\n",
            "188.0,,26.0,125.0,274.0,-278.0,324.0,338.0,-22.0,0.0\n",
            "177.0,,-48.0,183.0,355.0,-363.0,356.0,339.0,-32.0,0.0\n",
            "192.0,,-123.0,206.0,414.0,338.0,322.0,493.0,-59.0,0.0\n",
            "198.0,,-187.0,224.0,452.0,-3.0,257.0,360.0,-30.0,0.0\n",
            "202.0,,-227.0,221.0,450.0,845.0,208.0,212.0,2.0,0.0\n",
            "211.0,,-292.0,235.0,388.0,-422.0,158.0,92.0,-4.0,0.0\n"
          ],
          "name": "stdout"
        }
      ]
    },
    {
      "cell_type": "code",
      "metadata": {
        "id": "qTxSMUKupfvM",
        "outputId": "5f0576ef-3181-42ef-f31f-b6d0bc28e975",
        "colab": {
          "base_uri": "https://localhost:8080/",
          "height": 52
        }
      },
      "source": [
        "!ls"
      ],
      "execution_count": 23,
      "outputs": [
        {
          "output_type": "stream",
          "text": [
            "data.zip\t\t\t  sample_submission.csv  train\n",
            "predict-volcanic-eruptions.ipynb  test\t\t\t train.csv\n"
          ],
          "name": "stdout"
        }
      ]
    },
    {
      "cell_type": "code",
      "metadata": {
        "id": "Rk2wfQfEpLl-"
      },
      "source": [
        ""
      ],
      "execution_count": 7,
      "outputs": []
    },
    {
      "cell_type": "markdown",
      "metadata": {
        "id": "DjIckxH6vzeD"
      },
      "source": [
        "# Data"
      ]
    },
    {
      "cell_type": "code",
      "metadata": {
        "id": "K8z7kpHOpjiu"
      },
      "source": [
        "import gc\n",
        "import glob\n",
        "from itertools import chain\n",
        "\n",
        "import matplotlib.pyplot as plt\n",
        "import numpy as np\n",
        "import pandas as pd\n",
        "from plotly.subplots import make_subplots\n",
        "import plotly.graph_objects as go\n",
        "from tqdm import tqdm\n",
        "import seaborn as sns"
      ],
      "execution_count": 24,
      "outputs": []
    },
    {
      "cell_type": "code",
      "metadata": {
        "id": "L1WuRhdiv1kr"
      },
      "source": [
        "train = pd.read_csv(\"train.csv\")\n",
        "sample_submission = pd.read_csv(\"sample_submission.csv\")\n"
      ],
      "execution_count": 25,
      "outputs": []
    },
    {
      "cell_type": "code",
      "metadata": {
        "id": "f9pvfhl5v_X1"
      },
      "source": [
        "segment_csvs = glob.glob(\"train/*\")\n",
        "segment_csvs_test = glob.glob(\"test/*\")"
      ],
      "execution_count": 27,
      "outputs": []
    },
    {
      "cell_type": "code",
      "metadata": {
        "id": "huu3pZ38wJQz",
        "outputId": "de0b6f50-637a-45f1-c5e9-dab0ac3857a4",
        "colab": {
          "base_uri": "https://localhost:8080/",
          "height": 104
        }
      },
      "source": [
        "segment_csvs[0:5]"
      ],
      "execution_count": 29,
      "outputs": [
        {
          "output_type": "execute_result",
          "data": {
            "text/plain": [
              "['train/1000015382.csv',\n",
              " 'train/1000554676.csv',\n",
              " 'train/1000745424.csv',\n",
              " 'train/1001461087.csv',\n",
              " 'train/1001732002.csv']"
            ]
          },
          "metadata": {
            "tags": []
          },
          "execution_count": 29
        }
      ]
    },
    {
      "cell_type": "code",
      "metadata": {
        "id": "EvzMfieAwNZk",
        "outputId": "dd13ae49-d611-401f-dcbd-31d594776a17",
        "colab": {
          "base_uri": "https://localhost:8080/",
          "height": 69
        }
      },
      "source": [
        "print(\"Number of files under train/ is:\", len(segment_csvs))\n",
        "print(\"Number of files under test/ is:\", len(segment_csvs_test))\n",
        "\n",
        "duplicated_segment_id = [segment_id for segment_id in [ test_segment_id.split(\"/\")[-1] for test_segment_id in segment_csvs_test]\n",
        "                         if (segment_id in [ train_segment_id.split(\"/\")[-1] for train_segment_id in segment_csvs])]\n",
        "\n",
        "print(\"[Duplicates] Segment ids both in train and test are:\", duplicated_segment_id)"
      ],
      "execution_count": 32,
      "outputs": [
        {
          "output_type": "stream",
          "text": [
            "Number of files under train/ is: 4431\n",
            "Number of files under test/ is: 4520\n",
            "[Duplicates] Segment ids both in train and test are: []\n"
          ],
          "name": "stdout"
        }
      ]
    },
    {
      "cell_type": "markdown",
      "metadata": {
        "id": "17E1M77fwe64"
      },
      "source": [
        "## Load Data"
      ]
    },
    {
      "cell_type": "code",
      "metadata": {
        "id": "l2bfUPVBwjuu"
      },
      "source": [
        "train_379022420 = pd.read_csv(\"train/379022420.csv\")\n",
        "train_1002275321 = pd.read_csv(\"train/1002275321.csv\")"
      ],
      "execution_count": 33,
      "outputs": []
    },
    {
      "cell_type": "code",
      "metadata": {
        "id": "xOu0Bq9DwpZt",
        "outputId": "c758aec4-9291-43e6-869f-8659eedd9931",
        "colab": {
          "base_uri": "https://localhost:8080/",
          "height": 206
        }
      },
      "source": [
        "train.head()"
      ],
      "execution_count": 34,
      "outputs": [
        {
          "output_type": "execute_result",
          "data": {
            "text/html": [
              "<div>\n",
              "<style scoped>\n",
              "    .dataframe tbody tr th:only-of-type {\n",
              "        vertical-align: middle;\n",
              "    }\n",
              "\n",
              "    .dataframe tbody tr th {\n",
              "        vertical-align: top;\n",
              "    }\n",
              "\n",
              "    .dataframe thead th {\n",
              "        text-align: right;\n",
              "    }\n",
              "</style>\n",
              "<table border=\"1\" class=\"dataframe\">\n",
              "  <thead>\n",
              "    <tr style=\"text-align: right;\">\n",
              "      <th></th>\n",
              "      <th>segment_id</th>\n",
              "      <th>time_to_eruption</th>\n",
              "    </tr>\n",
              "  </thead>\n",
              "  <tbody>\n",
              "    <tr>\n",
              "      <th>0</th>\n",
              "      <td>1136037770</td>\n",
              "      <td>12262005</td>\n",
              "    </tr>\n",
              "    <tr>\n",
              "      <th>1</th>\n",
              "      <td>1969647810</td>\n",
              "      <td>32739612</td>\n",
              "    </tr>\n",
              "    <tr>\n",
              "      <th>2</th>\n",
              "      <td>1895879680</td>\n",
              "      <td>14965999</td>\n",
              "    </tr>\n",
              "    <tr>\n",
              "      <th>3</th>\n",
              "      <td>2068207140</td>\n",
              "      <td>26469720</td>\n",
              "    </tr>\n",
              "    <tr>\n",
              "      <th>4</th>\n",
              "      <td>192955606</td>\n",
              "      <td>31072429</td>\n",
              "    </tr>\n",
              "  </tbody>\n",
              "</table>\n",
              "</div>"
            ],
            "text/plain": [
              "   segment_id  time_to_eruption\n",
              "0  1136037770          12262005\n",
              "1  1969647810          32739612\n",
              "2  1895879680          14965999\n",
              "3  2068207140          26469720\n",
              "4   192955606          31072429"
            ]
          },
          "metadata": {
            "tags": []
          },
          "execution_count": 34
        }
      ]
    },
    {
      "cell_type": "code",
      "metadata": {
        "id": "iLRLlo9Kwtpw",
        "outputId": "bd143706-a6e0-4e1c-af7d-a2b00997d33d",
        "colab": {
          "base_uri": "https://localhost:8080/",
          "height": 173
        }
      },
      "source": [
        "train.info()"
      ],
      "execution_count": 35,
      "outputs": [
        {
          "output_type": "stream",
          "text": [
            "<class 'pandas.core.frame.DataFrame'>\n",
            "RangeIndex: 4431 entries, 0 to 4430\n",
            "Data columns (total 2 columns):\n",
            " #   Column            Non-Null Count  Dtype\n",
            "---  ------            --------------  -----\n",
            " 0   segment_id        4431 non-null   int64\n",
            " 1   time_to_eruption  4431 non-null   int64\n",
            "dtypes: int64(2)\n",
            "memory usage: 69.4 KB\n"
          ],
          "name": "stdout"
        }
      ]
    },
    {
      "cell_type": "code",
      "metadata": {
        "id": "TnMVRXiCw2gO"
      },
      "source": [
        ""
      ],
      "execution_count": null,
      "outputs": []
    }
  ]
}