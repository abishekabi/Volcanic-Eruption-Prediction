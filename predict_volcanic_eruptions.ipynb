{
  "nbformat": 4,
  "nbformat_minor": 0,
  "metadata": {
    "colab": {
      "name": "predict-volcanic-eruptions.ipynb",
      "provenance": [],
      "collapsed_sections": [],
      "authorship_tag": "ABX9TyMV3+GFOFyA3BXYUe4Ftq7Y",
      "include_colab_link": true
    },
    "kernelspec": {
      "name": "python3",
      "display_name": "Python 3"
    }
  },
  "cells": [
    {
      "cell_type": "markdown",
      "metadata": {
        "id": "view-in-github",
        "colab_type": "text"
      },
      "source": [
        "<a href=\"https://colab.research.google.com/github/abishekabi/Volcanic-Eruption-Prediction/blob/main/predict_volcanic_eruptions.ipynb\" target=\"_parent\"><img src=\"https://colab.research.google.com/assets/colab-badge.svg\" alt=\"Open In Colab\"/></a>"
      ]
    },
    {
      "cell_type": "code",
      "metadata": {
        "id": "qvvpmOx0nrQU",
        "outputId": "12e7b398-a239-4d68-ffdb-d1c796c59641",
        "colab": {
          "base_uri": "https://localhost:8080/",
          "height": 34
        }
      },
      "source": [
        "from google.colab import drive\n",
        "\n",
        "drive.mount('/content/gdrive')\n",
        "root_path = 'gdrive/My Drive/Colab Notebooks/predict-volcanic-eruptions'"
      ],
      "execution_count": null,
      "outputs": [
        {
          "output_type": "stream",
          "text": [
            "Drive already mounted at /content/gdrive; to attempt to forcibly remount, call drive.mount(\"/content/gdrive\", force_remount=True).\n"
          ],
          "name": "stdout"
        }
      ]
    },
    {
      "cell_type": "code",
      "metadata": {
        "id": "CskWoxVcn7ed",
        "outputId": "97bf25eb-6b8c-42ac-8d5b-16b60994d594",
        "colab": {
          "base_uri": "https://localhost:8080/",
          "height": 34
        }
      },
      "source": [
        "%cd 'gdrive/My Drive/Colab Notebooks/predict-volcanic-eruptions'"
      ],
      "execution_count": null,
      "outputs": [
        {
          "output_type": "stream",
          "text": [
            "/content/gdrive/My Drive/Colab Notebooks/predict-volcanic-eruptions\n"
          ],
          "name": "stdout"
        }
      ]
    },
    {
      "cell_type": "code",
      "metadata": {
        "id": "FlTPh0xGuXBR",
        "outputId": "f1ff3a0a-1977-4915-bced-54cae0c49ea9",
        "colab": {
          "base_uri": "https://localhost:8080/",
          "height": 280
        }
      },
      "source": [
        "!wget \"https://storage.googleapis.com/kaggle-competitions-data/kaggle-v2/19059/1581061/bundle/archive.zip?GoogleAccessId=web-data@kaggle-161607.iam.gserviceaccount.com&Expires=1603216878&Signature=Xcz3Ni8%2F7bb7rIyQlyeyfbeASoi78143MpaVMe3kyZXi3WKfxcW7kp%2F44CQYzgoE2FfwzGR343oh5QVkHTt9xTGjHufJZRxbiJ0allxJiMFJrdZaZLZP8UwcQGl4k7ZlyF%2Bc7lAcoYNI14LjW4GEUSTOYvWyIrJqWGsBPwYCcLaGLaHP4lKxF0W7M%2FIOlyIMASugpiRIVsuCkR8fNWT3k4vyRgSldLTlfI46fkNvOFIsOl8kU%2BeRVd8yuhBrA8EmY8QRR0%2FGl9wSCfyjQe8Or4nSWs5V5svpRrzbtl5gTeMcIi8emEAktsbg8lK3%2F%2BzpIMu4map2I1aXj1wAqMPnYA%3D%3D&response-content-disposition=attachment%3B+filename%3Dpredict-volcanic-eruptions-ingv-oe.zip\""
      ],
      "execution_count": null,
      "outputs": [
        {
          "output_type": "stream",
          "text": [
            "The name is too long, 546 chars total.\n",
            "Trying to shorten...\n",
            "New name is archive.zip?GoogleAccessId=web-data@kaggle-161607.iam.gserviceaccount.com&Expires=1603216878&Signature=Xcz3Ni8%2F7bb7rIyQlyeyfbeASoi78143MpaVMe3kyZXi3WKfxcW7kp%2F44CQYzgoE2FfwzGR343oh5QVkHTt9xTGjHufJZRxbiJ0allxJiMFJrdZaZLZP8UwcQGl4k7Zly.\n",
            "--2020-10-17 18:02:03--  https://storage.googleapis.com/kaggle-competitions-data/kaggle-v2/19059/1581061/bundle/archive.zip?GoogleAccessId=web-data@kaggle-161607.iam.gserviceaccount.com&Expires=1603216878&Signature=Xcz3Ni8%2F7bb7rIyQlyeyfbeASoi78143MpaVMe3kyZXi3WKfxcW7kp%2F44CQYzgoE2FfwzGR343oh5QVkHTt9xTGjHufJZRxbiJ0allxJiMFJrdZaZLZP8UwcQGl4k7ZlyF%2Bc7lAcoYNI14LjW4GEUSTOYvWyIrJqWGsBPwYCcLaGLaHP4lKxF0W7M%2FIOlyIMASugpiRIVsuCkR8fNWT3k4vyRgSldLTlfI46fkNvOFIsOl8kU%2BeRVd8yuhBrA8EmY8QRR0%2FGl9wSCfyjQe8Or4nSWs5V5svpRrzbtl5gTeMcIi8emEAktsbg8lK3%2F%2BzpIMu4map2I1aXj1wAqMPnYA%3D%3D&response-content-disposition=attachment%3B+filename%3Dpredict-volcanic-eruptions-ingv-oe.zip\n",
            "Resolving storage.googleapis.com (storage.googleapis.com)... 74.125.124.128, 172.217.212.128, 172.217.214.128, ...\n",
            "Connecting to storage.googleapis.com (storage.googleapis.com)|74.125.124.128|:443... connected.\n",
            "HTTP request sent, awaiting response... 200 OK\n",
            "Length: 10167647920 (9.5G) [application/zip]\n",
            "Saving to: ‘archive.zip?GoogleAccessId=web-data@kaggle-161607.iam.gserviceaccount.com&Expires=1603216878&Signature=Xcz3Ni8%2F7bb7rIyQlyeyfbeASoi78143MpaVMe3kyZXi3WKfxcW7kp%2F44CQYzgoE2FfwzGR343oh5QVkHTt9xTGjHufJZRxbiJ0allxJiMFJrdZaZLZP8UwcQGl4k7Zly’\n",
            "\n",
            "archive.zip?GoogleA 100%[===================>]   9.47G  59.5MB/s    in 3m 19s  \n",
            "\n",
            "2020-10-17 18:05:23 (48.7 MB/s) - ‘archive.zip?GoogleAccessId=web-data@kaggle-161607.iam.gserviceaccount.com&Expires=1603216878&Signature=Xcz3Ni8%2F7bb7rIyQlyeyfbeASoi78143MpaVMe3kyZXi3WKfxcW7kp%2F44CQYzgoE2FfwzGR343oh5QVkHTt9xTGjHufJZRxbiJ0allxJiMFJrdZaZLZP8UwcQGl4k7Zly’ saved [10167647920/10167647920]\n",
            "\n"
          ],
          "name": "stdout"
        }
      ]
    },
    {
      "cell_type": "code",
      "metadata": {
        "id": "g227YVekuePt",
        "outputId": "0cdb24f5-4476-437f-9164-b7ea6ae5f77e",
        "colab": {
          "base_uri": "https://localhost:8080/",
          "height": 1000
        }
      },
      "source": [
        "!unzip data.zip"
      ],
      "execution_count": null,
      "outputs": [
        {
          "output_type": "stream",
          "text": [
            "Archive:  data.zip\n",
            "replace sample_submission.csv? [y]es, [n]o, [A]ll, [N]one, [r]ename: y\n",
            "  inflating: sample_submission.csv   \n",
            "  inflating: test/1000213997.csv     \n",
            "  inflating: test/100023368.csv      \n",
            "  inflating: test/1000488999.csv     \n",
            "  inflating: test/1001028887.csv     \n",
            "  inflating: test/1001857862.csv     \n",
            "  inflating: test/1003310246.csv     \n",
            "  inflating: test/1003545497.csv     \n",
            "  inflating: test/1004288653.csv     \n",
            "  inflating: test/10044968.csv       \n",
            "  inflating: test/1005166812.csv     \n",
            "  inflating: test/1005502784.csv     \n",
            "  inflating: test/1005767712.csv     \n",
            "  inflating: test/1005985933.csv     \n",
            "  inflating: test/1006013726.csv     \n",
            "  inflating: test/1006026494.csv     \n",
            "  inflating: test/1006540019.csv     \n",
            "  inflating: test/1007067208.csv     \n",
            "  inflating: test/1007233480.csv     \n",
            "  inflating: test/100741545.csv      \n",
            "  inflating: test/100781580.csv      \n",
            "  inflating: test/1008031106.csv     \n",
            "  inflating: test/1008453141.csv     \n",
            "  inflating: test/1008467020.csv     \n",
            "  inflating: test/1008990702.csv     \n",
            "  inflating: test/100924436.csv      \n",
            "  inflating: test/1009570124.csv     \n",
            "  inflating: test/1010782837.csv     \n",
            "  inflating: test/101092507.csv      \n",
            "  inflating: test/1010943716.csv     \n",
            "  inflating: test/1011004896.csv     \n",
            "  inflating: test/101110196.csv      \n",
            "  inflating: test/1011275894.csv     \n",
            "  inflating: test/1013422575.csv     \n",
            "  inflating: test/1013765862.csv     \n",
            "  inflating: test/1014679633.csv     \n",
            "  inflating: test/1016115878.csv     \n",
            "  inflating: test/1016184206.csv     \n",
            "  inflating: test/1017230048.csv     \n",
            "  inflating: test/1017425206.csv     \n",
            "  inflating: test/101767110.csv      \n",
            "  inflating: test/1017793579.csv     \n",
            "  inflating: test/1018339787.csv     \n",
            "  inflating: test/1018415836.csv     \n",
            "  inflating: test/1018835959.csv     \n",
            "  inflating: test/1019822001.csv     \n",
            "  inflating: test/1020904533.csv     \n",
            "  inflating: test/1021766991.csv     \n",
            "  inflating: test/1022303057.csv     \n",
            "  inflating: test/1022564826.csv     \n",
            "  inflating: test/1022792201.csv     \n",
            "  inflating: test/1022920538.csv     \n",
            "  inflating: test/102293055.csv      \n",
            "  inflating: test/1023129837.csv     \n",
            "  inflating: test/1023178939.csv     \n",
            "  inflating: test/1024202315.csv     \n",
            "  inflating: test/1025034217.csv     \n",
            "  inflating: test/1025592404.csv     \n",
            "  inflating: test/1026104909.csv     \n",
            "  inflating: test/1026215164.csv     \n",
            "  inflating: test/1026330044.csv     \n",
            "  inflating: test/1026893635.csv     \n",
            "  inflating: test/1027015334.csv     \n",
            "  inflating: test/1027196270.csv     \n",
            "  inflating: test/1027492850.csv     \n",
            "  inflating: test/1028291376.csv     \n",
            "  inflating: test/1028734549.csv     \n",
            "  inflating: test/1028909050.csv     \n",
            "  inflating: test/1028936480.csv     \n",
            "  inflating: test/1030142029.csv     \n",
            "  inflating: test/1030502977.csv     \n",
            "  inflating: test/1031020617.csv     \n",
            "  inflating: test/1031159375.csv     \n",
            "  inflating: test/1031162177.csv     \n",
            "  inflating: test/103255324.csv      \n",
            "  inflating: test/1033010545.csv     \n",
            "  inflating: test/1033712814.csv     \n",
            "  inflating: test/1034145574.csv     \n",
            "  inflating: test/1034149150.csv     \n",
            "  inflating: test/1034495604.csv     \n",
            "  inflating: test/1034575439.csv     \n",
            "  inflating: test/1034661081.csv     \n",
            "  inflating: test/1036359163.csv     \n",
            "  inflating: test/1036419067.csv     \n",
            "  inflating: test/1037409111.csv     \n",
            "  inflating: test/1037457727.csv     \n",
            "  inflating: test/1037866071.csv     \n",
            "  inflating: test/1037870582.csv     \n",
            "  inflating: test/1038229705.csv     \n",
            "  inflating: test/1038561162.csv     \n",
            "  inflating: test/1038795212.csv     \n",
            "  inflating: test/1039022988.csv     \n",
            "  inflating: test/1039467390.csv     \n",
            "  inflating: test/1040926190.csv     \n",
            "  inflating: test/1041238096.csv     \n",
            "  inflating: test/1042404145.csv     \n",
            "  inflating: test/1042683102.csv     \n",
            "  inflating: test/1042872766.csv     \n",
            "  inflating: test/1042966293.csv     \n",
            "  inflating: test/1044132676.csv     \n",
            "  inflating: test/1044145499.csv     \n",
            "  inflating: test/1044572708.csv     \n",
            "  inflating: test/1044918875.csv     \n",
            "  inflating: test/1044919243.csv     \n",
            "  inflating: test/1045961446.csv     \n",
            "  inflating: test/1046125885.csv     \n",
            "  inflating: test/1046298092.csv     \n",
            "  inflating: test/1047440176.csv     \n",
            "  inflating: test/1047553323.csv     \n",
            "  inflating: test/1048071171.csv     \n",
            "  inflating: test/1049029417.csv     \n",
            "  inflating: test/1049179883.csv     \n",
            "  inflating: test/1049458669.csv     \n",
            "  inflating: test/1049490456.csv     \n",
            "  inflating: test/1049718151.csv     \n",
            "  inflating: test/10500324.csv       \n",
            "  inflating: test/1051297459.csv     \n",
            "  inflating: test/1051723909.csv     \n",
            "  inflating: test/1052096870.csv     \n",
            "  inflating: test/105231979.csv      \n",
            "  inflating: test/1052598935.csv     \n",
            "  inflating: test/1053288769.csv     \n",
            "  inflating: test/1053506000.csv     \n",
            "  inflating: test/1053709012.csv     \n",
            "  inflating: test/1054155456.csv     \n",
            "  inflating: test/1054183033.csv     \n",
            "  inflating: test/1055110288.csv     \n",
            "  inflating: test/1055280734.csv     \n",
            "  inflating: test/1055292020.csv     \n",
            "  inflating: test/105565188.csv      \n",
            "  inflating: test/1055715186.csv     \n",
            "  inflating: test/1056283823.csv     \n",
            "  inflating: test/1057143322.csv     \n",
            "  inflating: test/1057565195.csv     \n",
            "  inflating: test/1057891675.csv     \n",
            "  inflating: test/1058184184.csv     \n",
            "  inflating: test/1058754098.csv     \n",
            "  inflating: test/1058988926.csv     \n",
            "  inflating: test/1060658700.csv     \n",
            "  inflating: test/1060731119.csv     \n",
            "  inflating: test/1060942736.csv     \n",
            "  inflating: test/1060953646.csv     \n",
            "  inflating: test/1061777512.csv     \n",
            "  inflating: test/1063352576.csv     \n",
            "  inflating: test/1063492083.csv     \n",
            "  inflating: test/1064227773.csv     \n",
            "  inflating: test/1065071029.csv     \n",
            "  inflating: test/1065179054.csv     \n",
            "  inflating: test/106530242.csv      \n",
            "  inflating: test/106558646.csv      \n",
            "  inflating: test/106685184.csv      \n",
            "  inflating: test/1066858964.csv     \n",
            "  inflating: test/106705133.csv      \n",
            "  inflating: test/1067398856.csv     \n",
            "  inflating: test/1067885278.csv     \n",
            "  inflating: test/1067970.csv        \n",
            "  inflating: test/1068098496.csv     \n",
            "  inflating: test/1068298311.csv     \n",
            "  inflating: test/1068515581.csv     \n",
            "  inflating: test/1069211376.csv     \n",
            "  inflating: test/1071550768.csv     \n",
            "  inflating: test/1071673479.csv     \n",
            "  inflating: test/1071727846.csv     \n",
            "  inflating: test/1072278088.csv     \n",
            "  inflating: test/1072995306.csv     \n",
            "  inflating: test/1074297431.csv     \n",
            "  inflating: test/1074331622.csv     \n",
            "  inflating: test/107456883.csv      \n",
            "  inflating: test/1074855139.csv     \n",
            "  inflating: test/1075283470.csv     \n",
            "  inflating: test/1075411242.csv     \n",
            "  inflating: test/1075732342.csv     \n",
            "  inflating: test/1076096350.csv     \n",
            "  inflating: test/107666202.csv      \n",
            "  inflating: test/1077472023.csv     \n",
            "  inflating: test/1079683965.csv     \n",
            "  inflating: test/1079951835.csv     \n",
            "  inflating: test/1080323153.csv     \n",
            "  inflating: test/1080844241.csv     \n",
            "  inflating: test/108203668.csv      \n",
            "  inflating: test/108213146.csv      \n",
            "  inflating: test/1082262945.csv     \n",
            "  inflating: test/1082864378.csv     \n",
            "  inflating: test/1083707533.csv     \n",
            "  inflating: test/108403661.csv      \n",
            "  inflating: test/1084397983.csv     \n",
            "  inflating: test/1084431292.csv     \n",
            "  inflating: test/1084581069.csv     \n",
            "  inflating: test/1085038607.csv     \n",
            "  inflating: test/1085084497.csv     \n",
            "  inflating: test/1085229280.csv     \n",
            "  inflating: test/1085510648.csv     \n",
            "  inflating: test/1085881951.csv     \n",
            "  inflating: test/1085882007.csv     \n",
            "  inflating: test/1085910515.csv     \n",
            "  inflating: test/108610409.csv      \n",
            "  inflating: test/1086569026.csv     \n",
            "  inflating: test/1086820883.csv     \n",
            "  inflating: test/1086962283.csv     \n",
            "  inflating: test/1087163936.csv     \n",
            "  inflating: test/108734762.csv      \n",
            "  inflating: test/1087612350.csv     \n",
            "  inflating: test/1087681649.csv     \n",
            "  inflating: test/1088360907.csv     \n",
            "  inflating: test/108885370.csv      \n",
            "  inflating: test/1088867007.csv     \n",
            "  inflating: test/1089106361.csv     \n",
            "  inflating: test/1089622428.csv     \n",
            "  inflating: test/1089767427.csv     \n",
            "  inflating: test/108980580.csv      \n",
            "  inflating: test/1091470526.csv     \n",
            "  inflating: test/1091631666.csv     \n",
            "  inflating: test/1091745945.csv     \n",
            "  inflating: test/1092124990.csv     \n",
            "  inflating: test/1092555354.csv     \n",
            "  inflating: test/109341864.csv      \n",
            "  inflating: test/1094588886.csv     \n",
            "  inflating: test/1094824382.csv     \n",
            "  inflating: test/1095039261.csv     \n",
            "  inflating: test/1095263306.csv     \n",
            "  inflating: test/1096077505.csv     \n",
            "  inflating: test/1096565436.csv     \n",
            "  inflating: test/10968059.csv       \n",
            "  inflating: test/1097472544.csv     \n",
            "  inflating: test/109822679.csv      \n",
            "  inflating: test/1099056611.csv     \n",
            "  inflating: test/1099388776.csv     \n",
            "  inflating: test/1099472249.csv     \n",
            "  inflating: test/1099564840.csv     \n",
            "  inflating: test/1100048277.csv     \n",
            "  inflating: test/1100276687.csv     \n",
            "  inflating: test/1100541264.csv     \n",
            "  inflating: test/110077966.csv      \n",
            "  inflating: test/1101672261.csv     \n",
            "  inflating: test/1102273593.csv     \n",
            "  inflating: test/1102402906.csv     \n",
            "  inflating: test/1102541950.csv     \n",
            "  inflating: test/1102809614.csv     \n",
            "  inflating: test/1102814669.csv     \n",
            "  inflating: test/1103082804.csv     \n",
            "  inflating: test/1103286910.csv     \n",
            "  inflating: test/1103368940.csv     \n",
            "  inflating: test/110350278.csv      \n",
            "  inflating: test/1103540935.csv     \n",
            "  inflating: test/110368744.csv      \n",
            "  inflating: test/1104014396.csv     \n",
            "  inflating: test/110406323.csv      \n",
            "  inflating: test/1105331011.csv     \n",
            "  inflating: test/1105982863.csv     \n",
            "  inflating: test/1106241100.csv     \n",
            "  inflating: test/1106563471.csv     \n",
            "  inflating: test/1107289052.csv     \n",
            "  inflating: test/1107461160.csv     \n",
            "  inflating: test/110836519.csv      \n",
            "  inflating: test/1108430240.csv     \n",
            "  inflating: test/110897870.csv      \n",
            "  inflating: test/1110364836.csv     \n",
            "  inflating: test/1111519643.csv     \n",
            "  inflating: test/1112589641.csv     \n",
            "  inflating: test/1112725405.csv     \n",
            "  inflating: test/1114166998.csv     \n",
            "  inflating: test/1115292010.csv     \n",
            "  inflating: test/1116004069.csv     \n",
            "  inflating: test/1116487834.csv     \n",
            "  inflating: test/1117004656.csv     \n",
            "  inflating: test/1117136867.csv     \n",
            "  inflating: test/1117195616.csv     \n",
            "  inflating: test/1117947416.csv     \n",
            "  inflating: test/1118238925.csv     \n",
            "  inflating: test/111846917.csv      \n",
            "  inflating: test/1118482512.csv     \n",
            "  inflating: test/1118815295.csv     \n",
            "  inflating: test/1118878688.csv     \n",
            "  inflating: test/1119261733.csv     \n",
            "  inflating: test/1119530134.csv     \n",
            "  inflating: test/1119629515.csv     \n",
            "  inflating: test/1120000702.csv     \n",
            "  inflating: test/112044852.csv      \n",
            "  inflating: test/1121880142.csv     \n",
            "  inflating: test/1122235886.csv     \n",
            "  inflating: test/1122555066.csv     \n",
            "  inflating: test/1122574109.csv     \n",
            "  inflating: test/1123664964.csv     \n",
            "  inflating: test/1124294151.csv     \n",
            "  inflating: test/1125699550.csv     \n",
            "  inflating: test/1126221533.csv     \n",
            "  inflating: test/1126641381.csv     \n",
            "  inflating: test/1126757306.csv     \n",
            "  inflating: test/1126796520.csv     \n",
            "  inflating: test/1126811259.csv     \n",
            "  inflating: test/1127832368.csv     \n",
            "  inflating: test/1128226922.csv     \n",
            "  inflating: test/1128498225.csv     \n",
            "  inflating: test/1129027163.csv     \n",
            "  inflating: test/1129221340.csv     \n",
            "  inflating: test/1130257145.csv     \n",
            "  inflating: test/1130720014.csv     \n",
            "  inflating: test/1131027065.csv     \n",
            "  inflating: test/1131427620.csv     \n",
            "  inflating: test/1131523873.csv     \n",
            "  inflating: test/1132295917.csv     \n",
            "  inflating: test/1132486761.csv     \n",
            "  inflating: test/1133082361.csv     \n",
            "  inflating: test/1134509383.csv     \n",
            "  inflating: test/1134521236.csv     \n",
            "  inflating: test/1134779082.csv     \n",
            "  inflating: test/1134883832.csv     \n",
            "  inflating: test/1135419607.csv     \n",
            "  inflating: test/1136836722.csv     \n",
            "  inflating: test/1138013832.csv     \n",
            "  inflating: test/113804746.csv      "
          ],
          "name": "stdout"
        }
      ]
    },
    {
      "cell_type": "code",
      "metadata": {
        "id": "VqVA3QdcsO9P",
        "outputId": "ac557b44-975c-43d4-c529-78be73f5bff8",
        "colab": {
          "base_uri": "https://localhost:8080/",
          "height": 156
        }
      },
      "source": [
        "!ls data/"
      ],
      "execution_count": null,
      "outputs": [
        {
          "output_type": "stream",
          "text": [
            "1000015382.csv\t1001732002.csv\t1003154738.csv\t1004346803.csv\t1005985933.csv\n",
            "1000213997.csv\t1001857862.csv\t1003175827.csv\t10044968.csv\t1006013726.csv\n",
            "100023368.csv\t1002275321.csv\t1003310246.csv\t1004557332.csv\t1006026494.csv\n",
            "1000488999.csv\t1002575641.csv\t1003411703.csv\t1004561781.csv\t1006540019.csv\n",
            "1000554676.csv\t1002609771.csv\t1003520023.csv\t1004609129.csv\t1007067208.csv\n",
            "1000745424.csv\t1002624617.csv\t1003545497.csv\t1005166812.csv\t1007233480.csv\n",
            "1001028887.csv\t1002789083.csv\t10035828.csv\t1005502784.csv\t100741545.csv\n",
            "1001461087.csv\t1002825126.csv\t1004288653.csv\t1005767712.csv\t100781580.csv\n"
          ],
          "name": "stdout"
        }
      ]
    },
    {
      "cell_type": "code",
      "metadata": {
        "id": "mXEACismt6FN",
        "outputId": "4407cf0d-9a61-4c89-8494-03c0ae35f2d6",
        "colab": {
          "base_uri": "https://localhost:8080/",
          "height": 191
        }
      },
      "source": [
        "!head data/1000015382.csv"
      ],
      "execution_count": null,
      "outputs": [
        {
          "output_type": "stream",
          "text": [
            "sensor_1,sensor_2,sensor_3,sensor_4,sensor_5,sensor_6,sensor_7,sensor_8,sensor_9,sensor_10\n",
            "260.0,64.0,-232.0,-36.0,-2.0,-35.0,103.0,389.0,67.0,41.0\n",
            "233.0,175.0,146.0,160.0,-4.0,29.0,-120.0,498.0,59.0,63.0\n",
            "216.0,236.0,321.0,202.0,2.0,113.0,-230.0,554.0,97.0,90.0\n",
            "156.0,205.0,382.0,6.0,12.0,70.0,-228.0,580.0,141.0,122.0\n",
            "158.0,101.0,272.0,-154.0,16.0,45.0,-162.0,624.0,145.0,154.0\n",
            "202.0,38.0,37.0,-367.0,15.0,133.0,-15.0,291.0,127.0,166.0\n",
            "166.0,-41.0,-96.0,-396.0,10.0,214.0,104.0,129.0,52.0,179.0\n",
            "113.0,-124.0,96.0,-287.0,2.0,179.0,147.0,-49.0,59.0,187.0\n",
            "114.0,-118.0,88.0,-241.0,-5.0,67.0,44.0,-314.0,83.0,195.0\n"
          ],
          "name": "stdout"
        }
      ]
    },
    {
      "cell_type": "code",
      "metadata": {
        "id": "D751U8TVoDkd",
        "outputId": "e56cbc05-196f-411b-e341-af13cb49bff3",
        "colab": {
          "base_uri": "https://localhost:8080/",
          "height": 191
        }
      },
      "source": [
        "!head train.csv"
      ],
      "execution_count": null,
      "outputs": [
        {
          "output_type": "stream",
          "text": [
            "segment_id,time_to_eruption\n",
            "1136037770,12262005\n",
            "1969647810,32739612\n",
            "1895879680,14965999\n",
            "2068207140,26469720\n",
            "192955606,31072429\n",
            "1640671020,22264866\n",
            "288840453,34952168\n",
            "1162441568,9504818\n",
            "1791400073,11719563\n"
          ],
          "name": "stdout"
        }
      ]
    },
    {
      "cell_type": "code",
      "metadata": {
        "id": "qTxSMUKupfvM"
      },
      "source": [
        "# from google.colab import files\n",
        "# files.upload() \n",
        "# !pip install -q kaggle\n",
        "# !mkdir -p ~/.kaggle\n",
        "# !cp kaggle.json ~/.kaggle/\n",
        "# !ls ~/.kaggle\n",
        "# !chmod 600 /root/.kaggle/kaggle.json  # set permission\n",
        "#!kaggle competitions download -c predict-volcanic-eruptions-ingv-oe "
      ],
      "execution_count": null,
      "outputs": []
    },
    {
      "cell_type": "code",
      "metadata": {
        "id": "Rk2wfQfEpLl-"
      },
      "source": [
        ""
      ],
      "execution_count": null,
      "outputs": []
    },
    {
      "cell_type": "code",
      "metadata": {
        "id": "K8z7kpHOpjiu"
      },
      "source": [
        ""
      ],
      "execution_count": null,
      "outputs": []
    }
  ]
}