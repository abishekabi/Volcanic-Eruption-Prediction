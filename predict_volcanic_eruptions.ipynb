{
  "nbformat": 4,
  "nbformat_minor": 0,
  "metadata": {
    "colab": {
      "name": "predict-volcanic-eruptions.ipynb",
      "provenance": [],
      "collapsed_sections": [],
      "include_colab_link": true
    },
    "kernelspec": {
      "name": "python3",
      "display_name": "Python 3"
    }
  },
  "cells": [
    {
      "cell_type": "markdown",
      "metadata": {
        "id": "view-in-github",
        "colab_type": "text"
      },
      "source": [
        "<a href=\"https://colab.research.google.com/github/abishekabi/Volcanic-Eruption-Prediction/blob/main/predict_volcanic_eruptions.ipynb\" target=\"_parent\"><img src=\"https://colab.research.google.com/assets/colab-badge.svg\" alt=\"Open In Colab\"/></a>"
      ]
    },
    {
      "cell_type": "code",
      "metadata": {
        "id": "qvvpmOx0nrQU",
        "outputId": "81f80f77-44d8-4da7-ab15-540d906fde49",
        "colab": {
          "base_uri": "https://localhost:8080/",
          "height": 34
        }
      },
      "source": [
        "from google.colab import drive\n",
        "\n",
        "drive.mount('/content/gdrive')\n",
        "root_path = 'gdrive/My Drive/Colab Notebooks/predict-volcanic-eruptions'"
      ],
      "execution_count": 1,
      "outputs": [
        {
          "output_type": "stream",
          "text": [
            "Drive already mounted at /content/gdrive; to attempt to forcibly remount, call drive.mount(\"/content/gdrive\", force_remount=True).\n"
          ],
          "name": "stdout"
        }
      ]
    },
    {
      "cell_type": "code",
      "metadata": {
        "id": "CskWoxVcn7ed",
        "outputId": "76b2c0c4-29f4-41f4-aadf-502ab3dda5e3",
        "colab": {
          "base_uri": "https://localhost:8080/",
          "height": 34
        }
      },
      "source": [
        "%cd 'gdrive/My Drive/Colab Notebooks/predict-volcanic-eruptions'"
      ],
      "execution_count": 2,
      "outputs": [
        {
          "output_type": "stream",
          "text": [
            "/content/gdrive/My Drive/Colab Notebooks/predict-volcanic-eruptions\n"
          ],
          "name": "stdout"
        }
      ]
    },
    {
      "cell_type": "code",
      "metadata": {
        "id": "FlTPh0xGuXBR"
      },
      "source": [
        "# !wget \"https://storage.googleapis.com/kaggle-competitions-data/kaggle-v2/19059/1581061/bundle/archive.zip?GoogleAccessId=web-data@kaggle-161607.iam.gserviceaccount.com&Expires=1603216878&Signature=Xcz3Ni8%2F7bb7rIyQlyeyfbeASoi78143MpaVMe3kyZXi3WKfxcW7kp%2F44CQYzgoE2FfwzGR343oh5QVkHTt9xTGjHufJZRxbiJ0allxJiMFJrdZaZLZP8UwcQGl4k7ZlyF%2Bc7lAcoYNI14LjW4GEUSTOYvWyIrJqWGsBPwYCcLaGLaHP4lKxF0W7M%2FIOlyIMASugpiRIVsuCkR8fNWT3k4vyRgSldLTlfI46fkNvOFIsOl8kU%2BeRVd8yuhBrA8EmY8QRR0%2FGl9wSCfyjQe8Or4nSWs5V5svpRrzbtl5gTeMcIi8emEAktsbg8lK3%2F%2BzpIMu4map2I1aXj1wAqMPnYA%3D%3D&response-content-disposition=attachment%3B+filename%3Dpredict-volcanic-eruptions-ingv-oe.zip\"\n",
        "# !unzip data.zip\n",
        "# from google.colab import files\n",
        "# files.upload() \n",
        "# !pip install -q kaggle\n",
        "# !mkdir -p ~/.kaggle\n",
        "# !cp kaggle.json ~/.kaggle/\n",
        "# !ls ~/.kaggle\n",
        "# !chmod 600 /root/.kaggle/kaggle.json  # set permission\n",
        "#!kaggle competitions download -c predict-volcanic-eruptions-ingv-oe "
      ],
      "execution_count": 3,
      "outputs": []
    },
    {
      "cell_type": "code",
      "metadata": {
        "id": "r7udp1gviq-n",
        "outputId": "db042251-8064-4775-e007-a2bac1ce7c88",
        "colab": {
          "base_uri": "https://localhost:8080/",
          "height": 139
        }
      },
      "source": [
        "!ls -lh "
      ],
      "execution_count": 4,
      "outputs": [
        {
          "output_type": "stream",
          "text": [
            "total 9.5G\n",
            "-rw------- 1 root root 9.5G Oct 17 18:06 data.zip\n",
            "-rw------- 1 root root  22K Oct 26 20:37 predict-volcanic-eruptions.ipynb\n",
            "-rw------- 1 root root  56K Oct 17 18:08 sample_submission.csv\n",
            "drwx------ 2 root root 4.0K Oct 17 18:06 test\n",
            "drwx------ 2 root root 4.0K Oct 19 15:53 train\n",
            "-rw------- 1 root root  84K Oct 19 16:30 train.csv\n"
          ],
          "name": "stdout"
        }
      ]
    },
    {
      "cell_type": "code",
      "metadata": {
        "id": "VqVA3QdcsO9P",
        "outputId": "c16b4ba5-ef49-450f-8624-53646437860b",
        "colab": {
          "base_uri": "https://localhost:8080/",
          "height": 191
        }
      },
      "source": [
        "!head train.csv"
      ],
      "execution_count": 5,
      "outputs": [
        {
          "output_type": "stream",
          "text": [
            "segment_id,time_to_eruption\n",
            "1136037770,12262005\n",
            "1969647810,32739612\n",
            "1895879680,14965999\n",
            "2068207140,26469720\n",
            "192955606,31072429\n",
            "1640671020,22264866\n",
            "288840453,34952168\n",
            "1162441568,9504818\n",
            "1791400073,11719563\n"
          ],
          "name": "stdout"
        }
      ]
    },
    {
      "cell_type": "code",
      "metadata": {
        "id": "mXEACismt6FN",
        "outputId": "d300c2ba-5811-4aaf-92e1-5d1b193480b5",
        "colab": {
          "base_uri": "https://localhost:8080/",
          "height": 191
        }
      },
      "source": [
        "!head train/1136037770.csv"
      ],
      "execution_count": 6,
      "outputs": [
        {
          "output_type": "stream",
          "text": [
            "sensor_1,sensor_2,sensor_3,sensor_4,sensor_5,sensor_6,sensor_7,sensor_8,sensor_9,sensor_10\n",
            "220.0,339.0,-336.0,364.0,,492.0,-796.0,-423.0,-582.0,-40.0\n",
            "178.0,221.0,-317.0,366.0,,525.0,-754.0,-415.0,-932.0,-305.0\n",
            "151.0,42.0,-280.0,250.0,,463.0,-772.0,-229.0,-257.0,-59.0\n",
            "162.0,-123.0,-243.0,288.0,,303.0,-899.0,212.0,-295.0,38.0\n",
            "158.0,-287.0,-300.0,372.0,,169.0,-769.0,755.0,169.0,-239.0\n",
            "136.0,-302.0,-308.0,242.0,,241.0,-510.0,888.0,282.0,-293.0\n",
            "124.0,-131.0,-292.0,132.0,,234.0,-494.0,970.0,-326.0,-203.0\n",
            "127.0,133.0,-208.0,14.0,,134.0,-748.0,700.0,237.0,-278.0\n",
            "142.0,374.0,-81.0,-177.0,,-200.0,-678.0,402.0,664.0,-460.0\n"
          ],
          "name": "stdout"
        }
      ]
    },
    {
      "cell_type": "code",
      "metadata": {
        "id": "D751U8TVoDkd",
        "outputId": "22bf1e1d-21aa-4cac-90ee-e6a049bedd74",
        "colab": {
          "base_uri": "https://localhost:8080/",
          "height": 191
        }
      },
      "source": [
        "!head sample_submission.csv"
      ],
      "execution_count": 7,
      "outputs": [
        {
          "output_type": "stream",
          "text": [
            "segment_id,time_to_eruption\n",
            "1000213997,0\n",
            "100023368,0\n",
            "1000488999,0\n",
            "1001028887,0\n",
            "1001857862,0\n",
            "1003310246,0\n",
            "1003545497,0\n",
            "1004288653,0\n",
            "10044968,0\n"
          ],
          "name": "stdout"
        }
      ]
    },
    {
      "cell_type": "code",
      "metadata": {
        "id": "eh9T-qLKmlWm",
        "outputId": "3a9bb9a7-f84b-45b0-9d86-3d9e57b74e2a",
        "colab": {
          "base_uri": "https://localhost:8080/",
          "height": 191
        }
      },
      "source": [
        "!head test/1000213997.csv"
      ],
      "execution_count": 8,
      "outputs": [
        {
          "output_type": "stream",
          "text": [
            "sensor_1,sensor_2,sensor_3,sensor_4,sensor_5,sensor_6,sensor_7,sensor_8,sensor_9,sensor_10\n",
            "180.0,,295.0,-221.0,-81.0,379.0,240.0,-288.0,152.0,0.0\n",
            "200.0,,199.0,-99.0,32.0,-226.0,241.0,-114.0,36.0,0.0\n",
            "193.0,,113.0,17.0,164.0,52.0,294.0,27.0,-21.0,0.0\n",
            "188.0,,26.0,125.0,274.0,-278.0,324.0,338.0,-22.0,0.0\n",
            "177.0,,-48.0,183.0,355.0,-363.0,356.0,339.0,-32.0,0.0\n",
            "192.0,,-123.0,206.0,414.0,338.0,322.0,493.0,-59.0,0.0\n",
            "198.0,,-187.0,224.0,452.0,-3.0,257.0,360.0,-30.0,0.0\n",
            "202.0,,-227.0,221.0,450.0,845.0,208.0,212.0,2.0,0.0\n",
            "211.0,,-292.0,235.0,388.0,-422.0,158.0,92.0,-4.0,0.0\n"
          ],
          "name": "stdout"
        }
      ]
    },
    {
      "cell_type": "code",
      "metadata": {
        "id": "qTxSMUKupfvM",
        "outputId": "c576ad31-1387-4ec0-8afd-bb06826c1553",
        "colab": {
          "base_uri": "https://localhost:8080/",
          "height": 52
        }
      },
      "source": [
        "!ls"
      ],
      "execution_count": 9,
      "outputs": [
        {
          "output_type": "stream",
          "text": [
            "data.zip\t\t\t  sample_submission.csv  train\n",
            "predict-volcanic-eruptions.ipynb  test\t\t\t train.csv\n"
          ],
          "name": "stdout"
        }
      ]
    },
    {
      "cell_type": "code",
      "metadata": {
        "id": "Rk2wfQfEpLl-"
      },
      "source": [
        ""
      ],
      "execution_count": 9,
      "outputs": []
    },
    {
      "cell_type": "markdown",
      "metadata": {
        "id": "DjIckxH6vzeD"
      },
      "source": [
        "# Data"
      ]
    },
    {
      "cell_type": "code",
      "metadata": {
        "id": "K8z7kpHOpjiu"
      },
      "source": [
        "import gc\n",
        "import glob\n",
        "from itertools import chain\n",
        "\n",
        "import matplotlib.pyplot as plt\n",
        "import numpy as np\n",
        "import pandas as pd\n",
        "from plotly.subplots import make_subplots\n",
        "import plotly.graph_objects as go\n",
        "from tqdm import tqdm\n",
        "import seaborn as sns"
      ],
      "execution_count": 10,
      "outputs": []
    },
    {
      "cell_type": "code",
      "metadata": {
        "id": "L1WuRhdiv1kr"
      },
      "source": [
        "train = pd.read_csv(\"train.csv\")\n",
        "sample_submission = pd.read_csv(\"sample_submission.csv\")\n"
      ],
      "execution_count": 11,
      "outputs": []
    },
    {
      "cell_type": "code",
      "metadata": {
        "id": "f9pvfhl5v_X1"
      },
      "source": [
        "train_segment_csvs = glob.glob(\"train/*\")\n",
        "test_segment_csvs = glob.glob(\"test/*\")"
      ],
      "execution_count": 12,
      "outputs": []
    },
    {
      "cell_type": "code",
      "metadata": {
        "id": "huu3pZ38wJQz",
        "outputId": "2e5c0b8b-baa3-42a0-9948-6c293d3132f7",
        "colab": {
          "base_uri": "https://localhost:8080/",
          "height": 104
        }
      },
      "source": [
        "train_segment_csvs[0:5]"
      ],
      "execution_count": 13,
      "outputs": [
        {
          "output_type": "execute_result",
          "data": {
            "text/plain": [
              "['train/579307667.csv',\n",
              " 'train/579908624.csv',\n",
              " 'train/579683001.csv',\n",
              " 'train/580262567.csv',\n",
              " 'train/581069262.csv']"
            ]
          },
          "metadata": {
            "tags": []
          },
          "execution_count": 13
        }
      ]
    },
    {
      "cell_type": "code",
      "metadata": {
        "id": "EvzMfieAwNZk",
        "outputId": "b183d818-0740-4e6e-ac82-ea2e16b3bcd0",
        "colab": {
          "base_uri": "https://localhost:8080/",
          "height": 69
        }
      },
      "source": [
        "print(\"Number of files under train/ is:\", len(train_segment_csvs))\n",
        "print(\"Number of files under test/ is:\", len(test_segment_csvs))\n",
        "\n",
        "duplicated_segment_id = [segment_id for segment_id in [ test_segment_id.split(\"/\")[-1] for test_segment_id in test_segment_csvs]\n",
        "                         if (segment_id in [ train_segment_id.split(\"/\")[-1] for train_segment_id in train_segment_csvs])]\n",
        "\n",
        "print(\"[Duplicates] Segment ids both in train and test are:\", duplicated_segment_id)"
      ],
      "execution_count": 14,
      "outputs": [
        {
          "output_type": "stream",
          "text": [
            "Number of files under train/ is: 4431\n",
            "Number of files under test/ is: 4520\n",
            "[Duplicates] Segment ids both in train and test are: []\n"
          ],
          "name": "stdout"
        }
      ]
    },
    {
      "cell_type": "markdown",
      "metadata": {
        "id": "17E1M77fwe64"
      },
      "source": [
        "## Load Data"
      ]
    },
    {
      "cell_type": "code",
      "metadata": {
        "id": "xUL5OODRKbFz",
        "outputId": "8d09d572-7c32-4b89-a5b5-d3a15c8033ce",
        "colab": {
          "base_uri": "https://localhost:8080/",
          "height": 226
        }
      },
      "source": [
        "column_names = [\"sensor_1\", \t\"sensor_2\", \t\"sensor_3\", \t\"sensor_4\", \t\"sensor_5\", \t\"sensor_6\", \t\"sensor_7\", \t\"sensor_8\", \t\"sensor_9\", \t\"sensor_10\"]\n",
        "column_stats = ['count', 'mean', 'std', 'min', '25%', '50%', '75%', 'max']\n",
        "columns = [ i+\"_\"+j for i in column_names for j in column_stats]\n",
        "train_data= pd.DataFrame(columns=columns)\n",
        "# display(train_data.columns)\n",
        "for train_segment_csv in train_segment_csvs[:100]:\n",
        "  train_csv = pd.read_csv(train_segment_csv)\n",
        "  row = []\n",
        "  for feature in train_csv.columns:\n",
        "    row.extend(train_csv[feature].describe().values)\n",
        "  train_data.loc[len(train_data), :] = row\n",
        "display(train_data.head())\n"
      ],
      "execution_count": 39,
      "outputs": [
        {
          "output_type": "display_data",
          "data": {
            "text/html": [
              "<div>\n",
              "<style scoped>\n",
              "    .dataframe tbody tr th:only-of-type {\n",
              "        vertical-align: middle;\n",
              "    }\n",
              "\n",
              "    .dataframe tbody tr th {\n",
              "        vertical-align: top;\n",
              "    }\n",
              "\n",
              "    .dataframe thead th {\n",
              "        text-align: right;\n",
              "    }\n",
              "</style>\n",
              "<table border=\"1\" class=\"dataframe\">\n",
              "  <thead>\n",
              "    <tr style=\"text-align: right;\">\n",
              "      <th></th>\n",
              "      <th>sensor_1_count</th>\n",
              "      <th>sensor_1_mean</th>\n",
              "      <th>sensor_1_std</th>\n",
              "      <th>sensor_1_min</th>\n",
              "      <th>sensor_1_25%</th>\n",
              "      <th>sensor_1_50%</th>\n",
              "      <th>sensor_1_75%</th>\n",
              "      <th>sensor_1_max</th>\n",
              "      <th>sensor_2_count</th>\n",
              "      <th>sensor_2_mean</th>\n",
              "      <th>sensor_2_std</th>\n",
              "      <th>sensor_2_min</th>\n",
              "      <th>sensor_2_25%</th>\n",
              "      <th>sensor_2_50%</th>\n",
              "      <th>sensor_2_75%</th>\n",
              "      <th>sensor_2_max</th>\n",
              "      <th>sensor_3_count</th>\n",
              "      <th>sensor_3_mean</th>\n",
              "      <th>sensor_3_std</th>\n",
              "      <th>sensor_3_min</th>\n",
              "      <th>sensor_3_25%</th>\n",
              "      <th>sensor_3_50%</th>\n",
              "      <th>sensor_3_75%</th>\n",
              "      <th>sensor_3_max</th>\n",
              "      <th>sensor_4_count</th>\n",
              "      <th>sensor_4_mean</th>\n",
              "      <th>sensor_4_std</th>\n",
              "      <th>sensor_4_min</th>\n",
              "      <th>sensor_4_25%</th>\n",
              "      <th>sensor_4_50%</th>\n",
              "      <th>sensor_4_75%</th>\n",
              "      <th>sensor_4_max</th>\n",
              "      <th>sensor_5_count</th>\n",
              "      <th>sensor_5_mean</th>\n",
              "      <th>sensor_5_std</th>\n",
              "      <th>sensor_5_min</th>\n",
              "      <th>sensor_5_25%</th>\n",
              "      <th>sensor_5_50%</th>\n",
              "      <th>sensor_5_75%</th>\n",
              "      <th>sensor_5_max</th>\n",
              "      <th>sensor_6_count</th>\n",
              "      <th>sensor_6_mean</th>\n",
              "      <th>sensor_6_std</th>\n",
              "      <th>sensor_6_min</th>\n",
              "      <th>sensor_6_25%</th>\n",
              "      <th>sensor_6_50%</th>\n",
              "      <th>sensor_6_75%</th>\n",
              "      <th>sensor_6_max</th>\n",
              "      <th>sensor_7_count</th>\n",
              "      <th>sensor_7_mean</th>\n",
              "      <th>sensor_7_std</th>\n",
              "      <th>sensor_7_min</th>\n",
              "      <th>sensor_7_25%</th>\n",
              "      <th>sensor_7_50%</th>\n",
              "      <th>sensor_7_75%</th>\n",
              "      <th>sensor_7_max</th>\n",
              "      <th>sensor_8_count</th>\n",
              "      <th>sensor_8_mean</th>\n",
              "      <th>sensor_8_std</th>\n",
              "      <th>sensor_8_min</th>\n",
              "      <th>sensor_8_25%</th>\n",
              "      <th>sensor_8_50%</th>\n",
              "      <th>sensor_8_75%</th>\n",
              "      <th>sensor_8_max</th>\n",
              "      <th>sensor_9_count</th>\n",
              "      <th>sensor_9_mean</th>\n",
              "      <th>sensor_9_std</th>\n",
              "      <th>sensor_9_min</th>\n",
              "      <th>sensor_9_25%</th>\n",
              "      <th>sensor_9_50%</th>\n",
              "      <th>sensor_9_75%</th>\n",
              "      <th>sensor_9_max</th>\n",
              "      <th>sensor_10_count</th>\n",
              "      <th>sensor_10_mean</th>\n",
              "      <th>sensor_10_std</th>\n",
              "      <th>sensor_10_min</th>\n",
              "      <th>sensor_10_25%</th>\n",
              "      <th>sensor_10_50%</th>\n",
              "      <th>sensor_10_75%</th>\n",
              "      <th>sensor_10_max</th>\n",
              "    </tr>\n",
              "  </thead>\n",
              "  <tbody>\n",
              "    <tr>\n",
              "      <th>0</th>\n",
              "      <td>60001</td>\n",
              "      <td>-1.72699</td>\n",
              "      <td>480.405</td>\n",
              "      <td>-3785</td>\n",
              "      <td>-275</td>\n",
              "      <td>0</td>\n",
              "      <td>274</td>\n",
              "      <td>5152</td>\n",
              "      <td>0</td>\n",
              "      <td>NaN</td>\n",
              "      <td>NaN</td>\n",
              "      <td>NaN</td>\n",
              "      <td>NaN</td>\n",
              "      <td>NaN</td>\n",
              "      <td>NaN</td>\n",
              "      <td>NaN</td>\n",
              "      <td>60001</td>\n",
              "      <td>1.37093</td>\n",
              "      <td>261.397</td>\n",
              "      <td>-1227</td>\n",
              "      <td>-173</td>\n",
              "      <td>0</td>\n",
              "      <td>174</td>\n",
              "      <td>1080</td>\n",
              "      <td>60001</td>\n",
              "      <td>-0.892818</td>\n",
              "      <td>359.476</td>\n",
              "      <td>-1791</td>\n",
              "      <td>-231</td>\n",
              "      <td>0</td>\n",
              "      <td>235</td>\n",
              "      <td>1685</td>\n",
              "      <td>60001</td>\n",
              "      <td>-0.157064</td>\n",
              "      <td>259.3</td>\n",
              "      <td>-1774</td>\n",
              "      <td>-161</td>\n",
              "      <td>0</td>\n",
              "      <td>159</td>\n",
              "      <td>1467</td>\n",
              "      <td>60001</td>\n",
              "      <td>-0.428393</td>\n",
              "      <td>472.857</td>\n",
              "      <td>-2353</td>\n",
              "      <td>-311</td>\n",
              "      <td>0</td>\n",
              "      <td>318</td>\n",
              "      <td>2008</td>\n",
              "      <td>60001</td>\n",
              "      <td>3.40016</td>\n",
              "      <td>478.71</td>\n",
              "      <td>-2605</td>\n",
              "      <td>-313</td>\n",
              "      <td>0</td>\n",
              "      <td>319</td>\n",
              "      <td>3298</td>\n",
              "      <td>60001</td>\n",
              "      <td>-0.603707</td>\n",
              "      <td>612.779</td>\n",
              "      <td>-9700</td>\n",
              "      <td>-373</td>\n",
              "      <td>0</td>\n",
              "      <td>367</td>\n",
              "      <td>8299</td>\n",
              "      <td>60001</td>\n",
              "      <td>0.0389494</td>\n",
              "      <td>326.952</td>\n",
              "      <td>-1409</td>\n",
              "      <td>-210</td>\n",
              "      <td>0</td>\n",
              "      <td>211</td>\n",
              "      <td>1781</td>\n",
              "      <td>60001</td>\n",
              "      <td>-7.8496</td>\n",
              "      <td>713.272</td>\n",
              "      <td>-3184</td>\n",
              "      <td>-463</td>\n",
              "      <td>0</td>\n",
              "      <td>455</td>\n",
              "      <td>3206</td>\n",
              "    </tr>\n",
              "    <tr>\n",
              "      <th>1</th>\n",
              "      <td>60001</td>\n",
              "      <td>0.964634</td>\n",
              "      <td>238.391</td>\n",
              "      <td>-1971</td>\n",
              "      <td>-133</td>\n",
              "      <td>0</td>\n",
              "      <td>133</td>\n",
              "      <td>2318</td>\n",
              "      <td>0</td>\n",
              "      <td>NaN</td>\n",
              "      <td>NaN</td>\n",
              "      <td>NaN</td>\n",
              "      <td>NaN</td>\n",
              "      <td>NaN</td>\n",
              "      <td>NaN</td>\n",
              "      <td>NaN</td>\n",
              "      <td>60001</td>\n",
              "      <td>4.58317</td>\n",
              "      <td>220.134</td>\n",
              "      <td>-1787</td>\n",
              "      <td>-129</td>\n",
              "      <td>0</td>\n",
              "      <td>130</td>\n",
              "      <td>1918</td>\n",
              "      <td>60001</td>\n",
              "      <td>1.00725</td>\n",
              "      <td>295.605</td>\n",
              "      <td>-2584</td>\n",
              "      <td>-166</td>\n",
              "      <td>0</td>\n",
              "      <td>169</td>\n",
              "      <td>2906</td>\n",
              "      <td>60001</td>\n",
              "      <td>-0.686572</td>\n",
              "      <td>182.987</td>\n",
              "      <td>-3160</td>\n",
              "      <td>-94</td>\n",
              "      <td>0</td>\n",
              "      <td>92</td>\n",
              "      <td>3109</td>\n",
              "      <td>60001</td>\n",
              "      <td>-2.16925</td>\n",
              "      <td>469.562</td>\n",
              "      <td>-3057</td>\n",
              "      <td>-273</td>\n",
              "      <td>0</td>\n",
              "      <td>266</td>\n",
              "      <td>4177</td>\n",
              "      <td>60001</td>\n",
              "      <td>-0.366927</td>\n",
              "      <td>378.552</td>\n",
              "      <td>-2299</td>\n",
              "      <td>-244</td>\n",
              "      <td>0</td>\n",
              "      <td>240</td>\n",
              "      <td>2019</td>\n",
              "      <td>0</td>\n",
              "      <td>NaN</td>\n",
              "      <td>NaN</td>\n",
              "      <td>NaN</td>\n",
              "      <td>NaN</td>\n",
              "      <td>NaN</td>\n",
              "      <td>NaN</td>\n",
              "      <td>NaN</td>\n",
              "      <td>60001</td>\n",
              "      <td>-0.224813</td>\n",
              "      <td>284.49</td>\n",
              "      <td>-2613</td>\n",
              "      <td>-150</td>\n",
              "      <td>0</td>\n",
              "      <td>148</td>\n",
              "      <td>2893</td>\n",
              "      <td>60001</td>\n",
              "      <td>1.35939</td>\n",
              "      <td>524.9</td>\n",
              "      <td>-5348</td>\n",
              "      <td>-285</td>\n",
              "      <td>0</td>\n",
              "      <td>291</td>\n",
              "      <td>5346</td>\n",
              "    </tr>\n",
              "    <tr>\n",
              "      <th>2</th>\n",
              "      <td>60001</td>\n",
              "      <td>10.2972</td>\n",
              "      <td>1080.66</td>\n",
              "      <td>-4329</td>\n",
              "      <td>-699</td>\n",
              "      <td>0</td>\n",
              "      <td>723</td>\n",
              "      <td>4866</td>\n",
              "      <td>60001</td>\n",
              "      <td>0.40256</td>\n",
              "      <td>1388.57</td>\n",
              "      <td>-6228</td>\n",
              "      <td>-909</td>\n",
              "      <td>0</td>\n",
              "      <td>908</td>\n",
              "      <td>9097</td>\n",
              "      <td>60001</td>\n",
              "      <td>-1.32971</td>\n",
              "      <td>1097.42</td>\n",
              "      <td>-4042</td>\n",
              "      <td>-742</td>\n",
              "      <td>0</td>\n",
              "      <td>746</td>\n",
              "      <td>3833</td>\n",
              "      <td>60001</td>\n",
              "      <td>-2.89852</td>\n",
              "      <td>1076.6</td>\n",
              "      <td>-4643</td>\n",
              "      <td>-723</td>\n",
              "      <td>0</td>\n",
              "      <td>723</td>\n",
              "      <td>4805</td>\n",
              "      <td>60001</td>\n",
              "      <td>0.705788</td>\n",
              "      <td>374.756</td>\n",
              "      <td>-1511</td>\n",
              "      <td>-251</td>\n",
              "      <td>0</td>\n",
              "      <td>255</td>\n",
              "      <td>1487</td>\n",
              "      <td>60001</td>\n",
              "      <td>15.376</td>\n",
              "      <td>623.507</td>\n",
              "      <td>-2458</td>\n",
              "      <td>-401</td>\n",
              "      <td>0</td>\n",
              "      <td>431</td>\n",
              "      <td>2340</td>\n",
              "      <td>60001</td>\n",
              "      <td>-16.563</td>\n",
              "      <td>583.054</td>\n",
              "      <td>-3453</td>\n",
              "      <td>-404</td>\n",
              "      <td>0</td>\n",
              "      <td>373</td>\n",
              "      <td>3027</td>\n",
              "      <td>60001</td>\n",
              "      <td>-2.8999</td>\n",
              "      <td>717.68</td>\n",
              "      <td>-6437</td>\n",
              "      <td>-471</td>\n",
              "      <td>0</td>\n",
              "      <td>480</td>\n",
              "      <td>5009</td>\n",
              "      <td>58229</td>\n",
              "      <td>-10.2763</td>\n",
              "      <td>1321.37</td>\n",
              "      <td>-4868</td>\n",
              "      <td>-919</td>\n",
              "      <td>0</td>\n",
              "      <td>883</td>\n",
              "      <td>4572</td>\n",
              "      <td>60001</td>\n",
              "      <td>2.2167</td>\n",
              "      <td>1697.78</td>\n",
              "      <td>-6801</td>\n",
              "      <td>-1159</td>\n",
              "      <td>0</td>\n",
              "      <td>1149</td>\n",
              "      <td>7266</td>\n",
              "    </tr>\n",
              "    <tr>\n",
              "      <th>3</th>\n",
              "      <td>60001</td>\n",
              "      <td>4.46966</td>\n",
              "      <td>804.239</td>\n",
              "      <td>-3498</td>\n",
              "      <td>-532</td>\n",
              "      <td>0</td>\n",
              "      <td>552</td>\n",
              "      <td>3402</td>\n",
              "      <td>60001</td>\n",
              "      <td>-7.14606</td>\n",
              "      <td>1081.02</td>\n",
              "      <td>-5292</td>\n",
              "      <td>-697</td>\n",
              "      <td>0</td>\n",
              "      <td>685</td>\n",
              "      <td>5635</td>\n",
              "      <td>60001</td>\n",
              "      <td>1.8943</td>\n",
              "      <td>860.557</td>\n",
              "      <td>-4885</td>\n",
              "      <td>-572</td>\n",
              "      <td>0</td>\n",
              "      <td>578</td>\n",
              "      <td>4286</td>\n",
              "      <td>60001</td>\n",
              "      <td>-5.70147</td>\n",
              "      <td>823.602</td>\n",
              "      <td>-3312</td>\n",
              "      <td>-543</td>\n",
              "      <td>0</td>\n",
              "      <td>546</td>\n",
              "      <td>3010</td>\n",
              "      <td>60001</td>\n",
              "      <td>-1.74022</td>\n",
              "      <td>311.187</td>\n",
              "      <td>-1609</td>\n",
              "      <td>-206</td>\n",
              "      <td>0</td>\n",
              "      <td>198</td>\n",
              "      <td>1515</td>\n",
              "      <td>60001</td>\n",
              "      <td>1.65434</td>\n",
              "      <td>570.719</td>\n",
              "      <td>-2594</td>\n",
              "      <td>-378</td>\n",
              "      <td>0</td>\n",
              "      <td>387</td>\n",
              "      <td>2865</td>\n",
              "      <td>60001</td>\n",
              "      <td>-6.57572</td>\n",
              "      <td>583.402</td>\n",
              "      <td>-2749</td>\n",
              "      <td>-398</td>\n",
              "      <td>0</td>\n",
              "      <td>383</td>\n",
              "      <td>2469</td>\n",
              "      <td>60001</td>\n",
              "      <td>1.54757</td>\n",
              "      <td>676.529</td>\n",
              "      <td>-4059</td>\n",
              "      <td>-445</td>\n",
              "      <td>0</td>\n",
              "      <td>448</td>\n",
              "      <td>4983</td>\n",
              "      <td>58793</td>\n",
              "      <td>-9.01376</td>\n",
              "      <td>939.495</td>\n",
              "      <td>-3722</td>\n",
              "      <td>-630</td>\n",
              "      <td>0</td>\n",
              "      <td>619</td>\n",
              "      <td>3845</td>\n",
              "      <td>60001</td>\n",
              "      <td>38.7179</td>\n",
              "      <td>1407.58</td>\n",
              "      <td>-5006</td>\n",
              "      <td>-911</td>\n",
              "      <td>0</td>\n",
              "      <td>935</td>\n",
              "      <td>6596</td>\n",
              "    </tr>\n",
              "    <tr>\n",
              "      <th>4</th>\n",
              "      <td>60001</td>\n",
              "      <td>-40.0521</td>\n",
              "      <td>13089.2</td>\n",
              "      <td>-32767</td>\n",
              "      <td>-4362</td>\n",
              "      <td>0</td>\n",
              "      <td>4338</td>\n",
              "      <td>32767</td>\n",
              "      <td>60001</td>\n",
              "      <td>11.3117</td>\n",
              "      <td>10403</td>\n",
              "      <td>-32767</td>\n",
              "      <td>-3486</td>\n",
              "      <td>0</td>\n",
              "      <td>3450</td>\n",
              "      <td>32767</td>\n",
              "      <td>60001</td>\n",
              "      <td>-54.9712</td>\n",
              "      <td>11277.6</td>\n",
              "      <td>-32767</td>\n",
              "      <td>-3122</td>\n",
              "      <td>0</td>\n",
              "      <td>3013</td>\n",
              "      <td>32767</td>\n",
              "      <td>60001</td>\n",
              "      <td>70.9546</td>\n",
              "      <td>11144.7</td>\n",
              "      <td>-32767</td>\n",
              "      <td>-3442</td>\n",
              "      <td>0</td>\n",
              "      <td>3537</td>\n",
              "      <td>32767</td>\n",
              "      <td>50723</td>\n",
              "      <td>1345.22</td>\n",
              "      <td>10786.8</td>\n",
              "      <td>-32767</td>\n",
              "      <td>-1678.5</td>\n",
              "      <td>0</td>\n",
              "      <td>1965</td>\n",
              "      <td>32767</td>\n",
              "      <td>58966</td>\n",
              "      <td>105.126</td>\n",
              "      <td>7889.61</td>\n",
              "      <td>-32767</td>\n",
              "      <td>-1483</td>\n",
              "      <td>0</td>\n",
              "      <td>1554</td>\n",
              "      <td>32767</td>\n",
              "      <td>60001</td>\n",
              "      <td>1.97365</td>\n",
              "      <td>556.857</td>\n",
              "      <td>-6300</td>\n",
              "      <td>-90</td>\n",
              "      <td>0</td>\n",
              "      <td>94</td>\n",
              "      <td>7504</td>\n",
              "      <td>60001</td>\n",
              "      <td>5.58841</td>\n",
              "      <td>1458.51</td>\n",
              "      <td>-15071</td>\n",
              "      <td>-210</td>\n",
              "      <td>0</td>\n",
              "      <td>216</td>\n",
              "      <td>15069</td>\n",
              "      <td>60001</td>\n",
              "      <td>4.68217</td>\n",
              "      <td>12856.2</td>\n",
              "      <td>-32767</td>\n",
              "      <td>-4232</td>\n",
              "      <td>0</td>\n",
              "      <td>4192</td>\n",
              "      <td>32767</td>\n",
              "      <td>60001</td>\n",
              "      <td>-191.754</td>\n",
              "      <td>16626.4</td>\n",
              "      <td>-32767</td>\n",
              "      <td>-7891</td>\n",
              "      <td>0</td>\n",
              "      <td>7624</td>\n",
              "      <td>32767</td>\n",
              "    </tr>\n",
              "  </tbody>\n",
              "</table>\n",
              "</div>"
            ],
            "text/plain": [
              "  sensor_1_count sensor_1_mean  ... sensor_10_75% sensor_10_max\n",
              "0          60001      -1.72699  ...           455          3206\n",
              "1          60001      0.964634  ...           291          5346\n",
              "2          60001       10.2972  ...          1149          7266\n",
              "3          60001       4.46966  ...           935          6596\n",
              "4          60001      -40.0521  ...          7624         32767\n",
              "\n",
              "[5 rows x 80 columns]"
            ]
          },
          "metadata": {
            "tags": []
          }
        }
      ]
    },
    {
      "cell_type": "code",
      "metadata": {
        "id": "vfubj3VovxIU",
        "outputId": "ad6fb202-86bb-4f0e-fe0f-26f409641088",
        "colab": {
          "base_uri": "https://localhost:8080/",
          "height": 34
        }
      },
      "source": [
        "train_data.fillna()"
      ],
      "execution_count": 43,
      "outputs": [
        {
          "output_type": "execute_result",
          "data": {
            "text/plain": [
              "25"
            ]
          },
          "metadata": {
            "tags": []
          },
          "execution_count": 43
        }
      ]
    },
    {
      "cell_type": "code",
      "metadata": {
        "id": "IJ0sPckHVMWQ"
      },
      "source": [
        "# train_csv = pd.read_csv(train_segment_csvs[0])\n",
        "# display(train_csv.sensor_1.describe())\n",
        "# for i, row in train[:2].iterrows():\n",
        "#   print(\"Segment ID: %d \\t Time to Eruption: %d\" %(row.segment_id, row.time_to_eruption) )\n",
        "#   sensor_data = pd.read_csv(\"train/\"+ str(row.segment_id) + \".csv\")\n",
        "#   #sensor_data = sensor_data.fillna(0)\n",
        "#   #sensor_data = sensor_data.dropna(axis=1)\n",
        "#   print(sensor_data.isna().sum())\n",
        "#   with pd.option_context('display.max_rows', None, 'display.max_columns', None):\n",
        "#     print(sensor_data.describe())\n",
        "#   print(sensor_data.info())\n",
        "#   print(\"--\"*30)\n",
        "# sensor_data.describe().unstack()\n",
        "# def calculate_stats(sensor_row):\n",
        "#   X = pd.DataFrame()\n",
        "#   for row in sensor_row:\n",
        "#     out = sensor_row[row].describe().values\n",
        "#     print(out) \n",
        "          \n",
        "# # display(train_csv.sensor_1.describe().values)\n",
        "# #   print(sensor_row.describe())\n",
        "#   #X = pd.DataFrame()\n",
        "#   # sensor_row.mean()\n",
        "#   # input_data.sum()\n",
        "#   # X.loc[ts, f'{sensor_id}_mean']      = signal.mean()\n",
        "#   # X.loc[ts, f'{sensor_id}_std']       = signal.std()\n",
        "#   # X.loc[ts, f'{sensor_id}_var']       = signal.var() \n",
        "#   # X.loc[ts, f'{sensor_id}_max']       = signal.max()\n",
        "#   # X.loc[ts, f'{sensor_id}_min']       = signal.min()\n",
        "\n",
        "# # def basic_statistics(, sensor_id, s):\n",
        "# #     \"\"\"Computes basic statistics for the training feature set.\n",
        "    \n",
        "# #     Args:\n",
        "# #         t_X (pandas.DataFrame): The feature set being built.\n",
        "# #         x (pandas.Series): The signal values.\n",
        "# #         s (int): The integer number of the segment.\n",
        "# #         postfix (str): The postfix string value.\n",
        "# #     Return:\n",
        "# #         t_X (pandas.DataFrame): The feature set being built.\n",
        "# #     \"\"\"\n",
        "# #     X = pd.DataFrame()\n",
        "# #     X.loc[sensor_num, f'{sensor_id}_mean']      = signal.mean()\n",
        "# #     X.loc[sensor_num, f'{sensor_id}_std']       = signal.std()\n",
        "# #     X.loc[sensor_num, f'{sensor_id}_var']       = signal.var() \n",
        "# #     X.loc[sensor_num, f'{sensor_id}_max']       = signal.max()\n",
        "# #     X.loc[sensor_num, f'{sensor_id}_min']       = signal.min()\n",
        "\n",
        "# #     X.loc[s, f'{sensor}_sum{postfix}']       = x.sum()\n",
        "# #     t_X.loc[s, f'{sensor}_mean{postfix}']      = x.mean()\n",
        "# #     t_X.loc[s, f'{sensor}_std{postfix}']       = x.std()\n",
        "# #     t_X.loc[s, f'{sensor}_var{postfix}']       = x.var() \n",
        "# #     t_X.loc[s, f'{sensor}_max{postfix}']       = x.max()\n",
        "# #     t_X.loc[s, f'{sensor}_min{postfix}']       = x.min()\n",
        "# #     t_X.loc[s, f'{sensor}_median{postfix}']    = x.median()\n",
        "# #     t_X.loc[s, f'{sensor}_skew{postfix}']      = x.skew()\n",
        "# #     t_X.loc[s, f'{sensor}_mad{postfix}']       = x.mad()\n",
        "# #     t_X.loc[s, f'{sensor}_kurtosis{postfix}']  = x.kurtosis()\n",
        "\n",
        "# #     return t_X\n",
        "# for i, row in train[:1].iterrows():\n",
        "#   print(\"Segment ID: %d \\t Time to Eruption: %d\" %(row.segment_id, row.time_to_eruption) )\n",
        "#   sensor_data = pd.read_csv(\"train/\"+ str(row.segment_id) + \".csv\")\n",
        "#   print(calculate_stats(sensor_data))\n",
        "#   #sensor_data = sensor_data.fillna(0)\n",
        "#   #sensor_data = sensor_data.dropna(axis=1)\n",
        "#   # print(sensor_data.isna().sum())\n",
        "#   # with pd.option_context('display.max_rows', None, 'display.max_columns', None):\n",
        "#   #   print(sensor_data.describe())\n",
        "#   # print(sensor_data.info())\n",
        "#   print(\"--\"*30)\n",
        "# train\n",
        "# # train_379022420 = pd.read_csv(\"train/379022420.csv\")\n",
        "# # train_1002275321 = pd.read_csv(\"train/1002275321.csv\")\n",
        "# train.head()\n",
        "# train.info()\n",
        "\n",
        "# train_final = pd.DataFrame(columns={'segment_id', 'time_to_eruption', 'sensor_1', 'sensor_2', 'sensor_3',\n",
        "#        'sensor_4', 'sensor_5', 'sensor_6', 'sensor_7', 'sensor_8', 'sensor_9',\n",
        "#        'sensor_10'})\n",
        "# for i, row in train[0:20].iterrows():\n",
        "#   sensor_data = pd.read_csv(\"train/\"+ str(row.segment_id) + \".csv\")\n",
        "#   sensor_data['segment_id'] = row.segment_id\n",
        "#   train1 = train.merge(sensor_data, on='segment_id')\n",
        "#   # train_1_describe = pd.DataFrame(train1.describe()).reset_index()\n",
        "#   # train_1_describe['segment_id'] = row.segment_id\n",
        "#   train_final = pd.concat([train_final, train1], axis=0)\n",
        "# train_final = train_final.reset_index(drop=True)\n",
        "# train_final.groupby(['segment_id', 'time_to_eruption']).mean()\n",
        "# train_final.isna().sum()"
      ],
      "execution_count": 16,
      "outputs": []
    },
    {
      "cell_type": "code",
      "metadata": {
        "id": "Faa_8jbIO6hi",
        "outputId": "5b37ad81-d110-441a-aba7-b7acdcf94578",
        "colab": {
          "base_uri": "https://localhost:8080/",
          "height": 34
        }
      },
      "source": [
        "for train_segment_csv in train_segment_csvs[0:1]:\n",
        "  train_csv = pd.read_csv(train_segment_csv)\n",
        "  display(train_csv.sensor_1.describe().keys())"
      ],
      "execution_count": 23,
      "outputs": [
        {
          "output_type": "display_data",
          "data": {
            "text/plain": [
              "Index(['count', 'mean', 'std', 'min', '25%', '50%', '75%', 'max'], dtype='object')"
            ]
          },
          "metadata": {
            "tags": []
          }
        }
      ]
    },
    {
      "cell_type": "code",
      "metadata": {
        "id": "JlUSCpgxpnsa"
      },
      "source": [
        ""
      ],
      "execution_count": null,
      "outputs": []
    }
  ]
}