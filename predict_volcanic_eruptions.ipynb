{
  "nbformat": 4,
  "nbformat_minor": 0,
  "metadata": {
    "colab": {
      "name": "predict-volcanic-eruptions.ipynb",
      "provenance": [],
      "collapsed_sections": [],
      "include_colab_link": true
    },
    "kernelspec": {
      "name": "python3",
      "display_name": "Python 3"
    }
  },
  "cells": [
    {
      "cell_type": "markdown",
      "metadata": {
        "id": "view-in-github",
        "colab_type": "text"
      },
      "source": [
        "<a href=\"https://colab.research.google.com/github/abishekabi/Volcanic-Eruption-Prediction/blob/main/predict_volcanic_eruptions.ipynb\" target=\"_parent\"><img src=\"https://colab.research.google.com/assets/colab-badge.svg\" alt=\"Open In Colab\"/></a>"
      ]
    },
    {
      "cell_type": "code",
      "metadata": {
        "id": "qvvpmOx0nrQU",
        "outputId": "97848519-eccd-47ed-8dc3-2775babf0689",
        "colab": {
          "base_uri": "https://localhost:8080/",
          "height": 34
        }
      },
      "source": [
        "from google.colab import drive\n",
        "\n",
        "drive.mount('/content/gdrive')\n",
        "root_path = 'gdrive/My Drive/Colab Notebooks/predict-volcanic-eruptions'"
      ],
      "execution_count": 1,
      "outputs": [
        {
          "output_type": "stream",
          "text": [
            "Mounted at /content/gdrive\n"
          ],
          "name": "stdout"
        }
      ]
    },
    {
      "cell_type": "code",
      "metadata": {
        "id": "CskWoxVcn7ed",
        "outputId": "f21d9379-cfb7-4158-f39b-e54b1a72f0ef",
        "colab": {
          "base_uri": "https://localhost:8080/",
          "height": 34
        }
      },
      "source": [
        "%cd 'gdrive/My Drive/Colab Notebooks/predict-volcanic-eruptions'"
      ],
      "execution_count": 2,
      "outputs": [
        {
          "output_type": "stream",
          "text": [
            "/content/gdrive/My Drive/Colab Notebooks/predict-volcanic-eruptions\n"
          ],
          "name": "stdout"
        }
      ]
    },
    {
      "cell_type": "code",
      "metadata": {
        "id": "FlTPh0xGuXBR"
      },
      "source": [
        "# !wget \"https://storage.googleapis.com/kaggle-competitions-data/kaggle-v2/19059/1581061/bundle/archive.zip?GoogleAccessId=web-data@kaggle-161607.iam.gserviceaccount.com&Expires=1603216878&Signature=Xcz3Ni8%2F7bb7rIyQlyeyfbeASoi78143MpaVMe3kyZXi3WKfxcW7kp%2F44CQYzgoE2FfwzGR343oh5QVkHTt9xTGjHufJZRxbiJ0allxJiMFJrdZaZLZP8UwcQGl4k7ZlyF%2Bc7lAcoYNI14LjW4GEUSTOYvWyIrJqWGsBPwYCcLaGLaHP4lKxF0W7M%2FIOlyIMASugpiRIVsuCkR8fNWT3k4vyRgSldLTlfI46fkNvOFIsOl8kU%2BeRVd8yuhBrA8EmY8QRR0%2FGl9wSCfyjQe8Or4nSWs5V5svpRrzbtl5gTeMcIi8emEAktsbg8lK3%2F%2BzpIMu4map2I1aXj1wAqMPnYA%3D%3D&response-content-disposition=attachment%3B+filename%3Dpredict-volcanic-eruptions-ingv-oe.zip\"\n",
        "# !unzip data.zip\n",
        "# from google.colab import files\n",
        "# files.upload() \n",
        "# !pip install -q kaggle\n",
        "# !mkdir -p ~/.kaggle\n",
        "# !cp kaggle.json ~/.kaggle/\n",
        "# !ls ~/.kaggle\n",
        "# !chmod 600 /root/.kaggle/kaggle.json  # set permission\n",
        "#!kaggle competitions download -c predict-volcanic-eruptions-ingv-oe "
      ],
      "execution_count": 8,
      "outputs": []
    },
    {
      "cell_type": "code",
      "metadata": {
        "id": "r7udp1gviq-n",
        "outputId": "c31d8fda-4a34-449e-9981-188a88dd506b",
        "colab": {
          "base_uri": "https://localhost:8080/",
          "height": 139
        }
      },
      "source": [
        "!ls -lh "
      ],
      "execution_count": 18,
      "outputs": [
        {
          "output_type": "stream",
          "text": [
            "total 9.5G\n",
            "-rw------- 1 root root 9.5G Oct 17 18:06 data.zip\n",
            "-rw------- 1 root root  36K Oct 19 16:01 predict-volcanic-eruptions.ipynb\n",
            "-rw------- 1 root root  56K Oct 17 18:08 sample_submission.csv\n",
            "drwx------ 2 root root 4.0K Oct 19 15:53 test\n",
            "drwx------ 2 root root 4.0K Oct 19 16:00 train\n",
            "-rw------- 1 root root  84K Oct  8 23:38 train.csv\n"
          ],
          "name": "stdout"
        }
      ]
    },
    {
      "cell_type": "code",
      "metadata": {
        "id": "VqVA3QdcsO9P",
        "outputId": "9825661b-7e82-40b7-9e5c-2f9184d6392d",
        "colab": {
          "base_uri": "https://localhost:8080/",
          "height": 191
        }
      },
      "source": [
        "!head train.csv"
      ],
      "execution_count": 19,
      "outputs": [
        {
          "output_type": "stream",
          "text": [
            "segment_id,time_to_eruption\n",
            "1136037770,12262005\n",
            "1969647810,32739612\n",
            "1895879680,14965999\n",
            "2068207140,26469720\n",
            "192955606,31072429\n",
            "1640671020,22264866\n",
            "288840453,34952168\n",
            "1162441568,9504818\n",
            "1791400073,11719563\n"
          ],
          "name": "stdout"
        }
      ]
    },
    {
      "cell_type": "code",
      "metadata": {
        "id": "mXEACismt6FN",
        "outputId": "9e9211a1-a2d4-4e21-dfc8-defaf91576db",
        "colab": {
          "base_uri": "https://localhost:8080/",
          "height": 191
        }
      },
      "source": [
        "!head train/1136037770.csv"
      ],
      "execution_count": 20,
      "outputs": [
        {
          "output_type": "stream",
          "text": [
            "sensor_1,sensor_2,sensor_3,sensor_4,sensor_5,sensor_6,sensor_7,sensor_8,sensor_9,sensor_10\n",
            "220.0,339.0,-336.0,364.0,,492.0,-796.0,-423.0,-582.0,-40.0\n",
            "178.0,221.0,-317.0,366.0,,525.0,-754.0,-415.0,-932.0,-305.0\n",
            "151.0,42.0,-280.0,250.0,,463.0,-772.0,-229.0,-257.0,-59.0\n",
            "162.0,-123.0,-243.0,288.0,,303.0,-899.0,212.0,-295.0,38.0\n",
            "158.0,-287.0,-300.0,372.0,,169.0,-769.0,755.0,169.0,-239.0\n",
            "136.0,-302.0,-308.0,242.0,,241.0,-510.0,888.0,282.0,-293.0\n",
            "124.0,-131.0,-292.0,132.0,,234.0,-494.0,970.0,-326.0,-203.0\n",
            "127.0,133.0,-208.0,14.0,,134.0,-748.0,700.0,237.0,-278.0\n",
            "142.0,374.0,-81.0,-177.0,,-200.0,-678.0,402.0,664.0,-460.0\n"
          ],
          "name": "stdout"
        }
      ]
    },
    {
      "cell_type": "code",
      "metadata": {
        "id": "D751U8TVoDkd",
        "outputId": "22babd21-7ad1-4eb5-cd65-0a3444ef6830",
        "colab": {
          "base_uri": "https://localhost:8080/",
          "height": 191
        }
      },
      "source": [
        "!head sample_submission.csv"
      ],
      "execution_count": 21,
      "outputs": [
        {
          "output_type": "stream",
          "text": [
            "segment_id,time_to_eruption\n",
            "1000213997,0\n",
            "100023368,0\n",
            "1000488999,0\n",
            "1001028887,0\n",
            "1001857862,0\n",
            "1003310246,0\n",
            "1003545497,0\n",
            "1004288653,0\n",
            "10044968,0\n"
          ],
          "name": "stdout"
        }
      ]
    },
    {
      "cell_type": "code",
      "metadata": {
        "id": "eh9T-qLKmlWm",
        "outputId": "1734b0e0-4cfb-45aa-a41b-67f98119cf32",
        "colab": {
          "base_uri": "https://localhost:8080/",
          "height": 191
        }
      },
      "source": [
        "!head test/1000213997.csv"
      ],
      "execution_count": 22,
      "outputs": [
        {
          "output_type": "stream",
          "text": [
            "sensor_1,sensor_2,sensor_3,sensor_4,sensor_5,sensor_6,sensor_7,sensor_8,sensor_9,sensor_10\n",
            "180.0,,295.0,-221.0,-81.0,379.0,240.0,-288.0,152.0,0.0\n",
            "200.0,,199.0,-99.0,32.0,-226.0,241.0,-114.0,36.0,0.0\n",
            "193.0,,113.0,17.0,164.0,52.0,294.0,27.0,-21.0,0.0\n",
            "188.0,,26.0,125.0,274.0,-278.0,324.0,338.0,-22.0,0.0\n",
            "177.0,,-48.0,183.0,355.0,-363.0,356.0,339.0,-32.0,0.0\n",
            "192.0,,-123.0,206.0,414.0,338.0,322.0,493.0,-59.0,0.0\n",
            "198.0,,-187.0,224.0,452.0,-3.0,257.0,360.0,-30.0,0.0\n",
            "202.0,,-227.0,221.0,450.0,845.0,208.0,212.0,2.0,0.0\n",
            "211.0,,-292.0,235.0,388.0,-422.0,158.0,92.0,-4.0,0.0\n"
          ],
          "name": "stdout"
        }
      ]
    },
    {
      "cell_type": "code",
      "metadata": {
        "id": "qTxSMUKupfvM"
      },
      "source": [
        ""
      ],
      "execution_count": 22,
      "outputs": []
    },
    {
      "cell_type": "code",
      "metadata": {
        "id": "Rk2wfQfEpLl-"
      },
      "source": [
        ""
      ],
      "execution_count": 7,
      "outputs": []
    },
    {
      "cell_type": "code",
      "metadata": {
        "id": "K8z7kpHOpjiu"
      },
      "source": [
        ""
      ],
      "execution_count": 7,
      "outputs": []
    }
  ]
}