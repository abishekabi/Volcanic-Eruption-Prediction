{
  "nbformat": 4,
  "nbformat_minor": 0,
  "metadata": {
    "colab": {
      "name": "predict-volcanic-eruptions.ipynb",
      "provenance": [],
      "collapsed_sections": [],
      "include_colab_link": true
    },
    "kernelspec": {
      "name": "python3",
      "display_name": "Python 3"
    }
  },
  "cells": [
    {
      "cell_type": "markdown",
      "metadata": {
        "id": "view-in-github",
        "colab_type": "text"
      },
      "source": [
        "<a href=\"https://colab.research.google.com/github/abishekabi/Volcanic-Eruption-Prediction/blob/main/predict_volcanic_eruptions.ipynb\" target=\"_parent\"><img src=\"https://colab.research.google.com/assets/colab-badge.svg\" alt=\"Open In Colab\"/></a>"
      ]
    },
    {
      "cell_type": "code",
      "metadata": {
        "id": "qvvpmOx0nrQU",
        "outputId": "1f1f3d5e-c79d-4e3d-bb1f-5c7e416ad24b",
        "colab": {
          "base_uri": "https://localhost:8080/",
          "height": 34
        }
      },
      "source": [
        "from google.colab import drive\n",
        "\n",
        "drive.mount('/content/gdrive')\n",
        "root_path = 'gdrive/My Drive/Colab Notebooks/predict-volcanic-eruptions'"
      ],
      "execution_count": 1,
      "outputs": [
        {
          "output_type": "stream",
          "text": [
            "Drive already mounted at /content/gdrive; to attempt to forcibly remount, call drive.mount(\"/content/gdrive\", force_remount=True).\n"
          ],
          "name": "stdout"
        }
      ]
    },
    {
      "cell_type": "code",
      "metadata": {
        "id": "CskWoxVcn7ed",
        "outputId": "046f9e79-589d-498c-dde7-92d490ffdca9",
        "colab": {
          "base_uri": "https://localhost:8080/",
          "height": 34
        }
      },
      "source": [
        "%cd 'gdrive/My Drive/Colab Notebooks/predict-volcanic-eruptions'"
      ],
      "execution_count": 2,
      "outputs": [
        {
          "output_type": "stream",
          "text": [
            "/content/gdrive/My Drive/Colab Notebooks/predict-volcanic-eruptions\n"
          ],
          "name": "stdout"
        }
      ]
    },
    {
      "cell_type": "code",
      "metadata": {
        "id": "FlTPh0xGuXBR"
      },
      "source": [
        "# !wget \"https://storage.googleapis.com/kaggle-competitions-data/kaggle-v2/19059/1581061/bundle/archive.zip?GoogleAccessId=web-data@kaggle-161607.iam.gserviceaccount.com&Expires=1603216878&Signature=Xcz3Ni8%2F7bb7rIyQlyeyfbeASoi78143MpaVMe3kyZXi3WKfxcW7kp%2F44CQYzgoE2FfwzGR343oh5QVkHTt9xTGjHufJZRxbiJ0allxJiMFJrdZaZLZP8UwcQGl4k7ZlyF%2Bc7lAcoYNI14LjW4GEUSTOYvWyIrJqWGsBPwYCcLaGLaHP4lKxF0W7M%2FIOlyIMASugpiRIVsuCkR8fNWT3k4vyRgSldLTlfI46fkNvOFIsOl8kU%2BeRVd8yuhBrA8EmY8QRR0%2FGl9wSCfyjQe8Or4nSWs5V5svpRrzbtl5gTeMcIi8emEAktsbg8lK3%2F%2BzpIMu4map2I1aXj1wAqMPnYA%3D%3D&response-content-disposition=attachment%3B+filename%3Dpredict-volcanic-eruptions-ingv-oe.zip\"\n",
        "# !unzip data.zip\n",
        "# from google.colab import files\n",
        "# files.upload() \n",
        "# !pip install -q kaggle\n",
        "# !mkdir -p ~/.kaggle\n",
        "# !cp kaggle.json ~/.kaggle/\n",
        "# !ls ~/.kaggle\n",
        "# !chmod 600 /root/.kaggle/kaggle.json  # set permission\n",
        "#!kaggle competitions download -c predict-volcanic-eruptions-ingv-oe "
      ],
      "execution_count": 3,
      "outputs": []
    },
    {
      "cell_type": "code",
      "metadata": {
        "id": "r7udp1gviq-n",
        "outputId": "84b2152b-3e41-4eb0-86e1-6f7ea21a4ef6",
        "colab": {
          "base_uri": "https://localhost:8080/",
          "height": 139
        }
      },
      "source": [
        "!ls -lh "
      ],
      "execution_count": 4,
      "outputs": [
        {
          "output_type": "stream",
          "text": [
            "total 9.5G\n",
            "-rw------- 1 root root 9.5G Oct 17 18:06 data.zip\n",
            "-rw------- 1 root root  14K Oct 21 17:15 predict-volcanic-eruptions.ipynb\n",
            "-rw------- 1 root root  56K Oct 17 18:08 sample_submission.csv\n",
            "drwx------ 2 root root 4.0K Oct 17 18:06 test\n",
            "drwx------ 2 root root 4.0K Oct 19 15:53 train\n",
            "-rw------- 1 root root  84K Oct 19 16:30 train.csv\n"
          ],
          "name": "stdout"
        }
      ]
    },
    {
      "cell_type": "code",
      "metadata": {
        "id": "VqVA3QdcsO9P",
        "outputId": "161de773-3ccb-4fa7-d388-541c27dfdbb5",
        "colab": {
          "base_uri": "https://localhost:8080/",
          "height": 191
        }
      },
      "source": [
        "!head train.csv"
      ],
      "execution_count": 5,
      "outputs": [
        {
          "output_type": "stream",
          "text": [
            "segment_id,time_to_eruption\n",
            "1136037770,12262005\n",
            "1969647810,32739612\n",
            "1895879680,14965999\n",
            "2068207140,26469720\n",
            "192955606,31072429\n",
            "1640671020,22264866\n",
            "288840453,34952168\n",
            "1162441568,9504818\n",
            "1791400073,11719563\n"
          ],
          "name": "stdout"
        }
      ]
    },
    {
      "cell_type": "code",
      "metadata": {
        "id": "mXEACismt6FN",
        "outputId": "ce4abd2c-f7fe-4f2d-c244-a159cfdcd48e",
        "colab": {
          "base_uri": "https://localhost:8080/",
          "height": 191
        }
      },
      "source": [
        "!head train/1136037770.csv"
      ],
      "execution_count": 6,
      "outputs": [
        {
          "output_type": "stream",
          "text": [
            "sensor_1,sensor_2,sensor_3,sensor_4,sensor_5,sensor_6,sensor_7,sensor_8,sensor_9,sensor_10\n",
            "220.0,339.0,-336.0,364.0,,492.0,-796.0,-423.0,-582.0,-40.0\n",
            "178.0,221.0,-317.0,366.0,,525.0,-754.0,-415.0,-932.0,-305.0\n",
            "151.0,42.0,-280.0,250.0,,463.0,-772.0,-229.0,-257.0,-59.0\n",
            "162.0,-123.0,-243.0,288.0,,303.0,-899.0,212.0,-295.0,38.0\n",
            "158.0,-287.0,-300.0,372.0,,169.0,-769.0,755.0,169.0,-239.0\n",
            "136.0,-302.0,-308.0,242.0,,241.0,-510.0,888.0,282.0,-293.0\n",
            "124.0,-131.0,-292.0,132.0,,234.0,-494.0,970.0,-326.0,-203.0\n",
            "127.0,133.0,-208.0,14.0,,134.0,-748.0,700.0,237.0,-278.0\n",
            "142.0,374.0,-81.0,-177.0,,-200.0,-678.0,402.0,664.0,-460.0\n"
          ],
          "name": "stdout"
        }
      ]
    },
    {
      "cell_type": "code",
      "metadata": {
        "id": "D751U8TVoDkd",
        "outputId": "bd43cc27-d2eb-420f-aa94-98f9767b15a1",
        "colab": {
          "base_uri": "https://localhost:8080/",
          "height": 191
        }
      },
      "source": [
        "!head sample_submission.csv"
      ],
      "execution_count": 7,
      "outputs": [
        {
          "output_type": "stream",
          "text": [
            "segment_id,time_to_eruption\n",
            "1000213997,0\n",
            "100023368,0\n",
            "1000488999,0\n",
            "1001028887,0\n",
            "1001857862,0\n",
            "1003310246,0\n",
            "1003545497,0\n",
            "1004288653,0\n",
            "10044968,0\n"
          ],
          "name": "stdout"
        }
      ]
    },
    {
      "cell_type": "code",
      "metadata": {
        "id": "eh9T-qLKmlWm",
        "outputId": "9941ee5a-6285-41f5-f11b-5fb70e8622a2",
        "colab": {
          "base_uri": "https://localhost:8080/",
          "height": 191
        }
      },
      "source": [
        "!head test/1000213997.csv"
      ],
      "execution_count": 8,
      "outputs": [
        {
          "output_type": "stream",
          "text": [
            "sensor_1,sensor_2,sensor_3,sensor_4,sensor_5,sensor_6,sensor_7,sensor_8,sensor_9,sensor_10\n",
            "180.0,,295.0,-221.0,-81.0,379.0,240.0,-288.0,152.0,0.0\n",
            "200.0,,199.0,-99.0,32.0,-226.0,241.0,-114.0,36.0,0.0\n",
            "193.0,,113.0,17.0,164.0,52.0,294.0,27.0,-21.0,0.0\n",
            "188.0,,26.0,125.0,274.0,-278.0,324.0,338.0,-22.0,0.0\n",
            "177.0,,-48.0,183.0,355.0,-363.0,356.0,339.0,-32.0,0.0\n",
            "192.0,,-123.0,206.0,414.0,338.0,322.0,493.0,-59.0,0.0\n",
            "198.0,,-187.0,224.0,452.0,-3.0,257.0,360.0,-30.0,0.0\n",
            "202.0,,-227.0,221.0,450.0,845.0,208.0,212.0,2.0,0.0\n",
            "211.0,,-292.0,235.0,388.0,-422.0,158.0,92.0,-4.0,0.0\n"
          ],
          "name": "stdout"
        }
      ]
    },
    {
      "cell_type": "code",
      "metadata": {
        "id": "qTxSMUKupfvM",
        "outputId": "5c71c64c-f759-4e22-ab9b-4dc5929d3e82",
        "colab": {
          "base_uri": "https://localhost:8080/",
          "height": 52
        }
      },
      "source": [
        "!ls"
      ],
      "execution_count": 9,
      "outputs": [
        {
          "output_type": "stream",
          "text": [
            "data.zip\t\t\t  sample_submission.csv  train\n",
            "predict-volcanic-eruptions.ipynb  test\t\t\t train.csv\n"
          ],
          "name": "stdout"
        }
      ]
    },
    {
      "cell_type": "code",
      "metadata": {
        "id": "Rk2wfQfEpLl-"
      },
      "source": [
        ""
      ],
      "execution_count": 9,
      "outputs": []
    },
    {
      "cell_type": "markdown",
      "metadata": {
        "id": "DjIckxH6vzeD"
      },
      "source": [
        "# Data"
      ]
    },
    {
      "cell_type": "code",
      "metadata": {
        "id": "K8z7kpHOpjiu"
      },
      "source": [
        "import gc\n",
        "import glob\n",
        "from itertools import chain\n",
        "\n",
        "import matplotlib.pyplot as plt\n",
        "import numpy as np\n",
        "import pandas as pd\n",
        "from plotly.subplots import make_subplots\n",
        "import plotly.graph_objects as go\n",
        "from tqdm import tqdm\n",
        "import seaborn as sns"
      ],
      "execution_count": 10,
      "outputs": []
    },
    {
      "cell_type": "code",
      "metadata": {
        "id": "L1WuRhdiv1kr"
      },
      "source": [
        "train = pd.read_csv(\"train.csv\")\n",
        "sample_submission = pd.read_csv(\"sample_submission.csv\")\n"
      ],
      "execution_count": 11,
      "outputs": []
    },
    {
      "cell_type": "code",
      "metadata": {
        "id": "f9pvfhl5v_X1"
      },
      "source": [
        "train_segment_csvs = glob.glob(\"train/*\")\n",
        "test_segment_csvs = glob.glob(\"test/*\")"
      ],
      "execution_count": 12,
      "outputs": []
    },
    {
      "cell_type": "code",
      "metadata": {
        "id": "huu3pZ38wJQz",
        "outputId": "d50e0b3f-9b34-494f-8ff9-397fc64d272e",
        "colab": {
          "base_uri": "https://localhost:8080/",
          "height": 104
        }
      },
      "source": [
        "train_segment_csvs[0:5]"
      ],
      "execution_count": 13,
      "outputs": [
        {
          "output_type": "execute_result",
          "data": {
            "text/plain": [
              "['train/579307667.csv',\n",
              " 'train/579908624.csv',\n",
              " 'train/579683001.csv',\n",
              " 'train/580262567.csv',\n",
              " 'train/581069262.csv']"
            ]
          },
          "metadata": {
            "tags": []
          },
          "execution_count": 13
        }
      ]
    },
    {
      "cell_type": "code",
      "metadata": {
        "id": "EvzMfieAwNZk",
        "outputId": "bdec39a7-430e-43e9-8d08-d382d8b8d705",
        "colab": {
          "base_uri": "https://localhost:8080/",
          "height": 69
        }
      },
      "source": [
        "print(\"Number of files under train/ is:\", len(train_segment_csvs))\n",
        "print(\"Number of files under test/ is:\", len(test_segment_csvs))\n",
        "\n",
        "duplicated_segment_id = [segment_id for segment_id in [ test_segment_id.split(\"/\")[-1] for test_segment_id in test_segment_csvs]\n",
        "                         if (segment_id in [ train_segment_id.split(\"/\")[-1] for train_segment_id in train_segment_csvs])]\n",
        "\n",
        "print(\"[Duplicates] Segment ids both in train and test are:\", duplicated_segment_id)"
      ],
      "execution_count": 14,
      "outputs": [
        {
          "output_type": "stream",
          "text": [
            "Number of files under train/ is: 4431\n",
            "Number of files under test/ is: 4520\n",
            "[Duplicates] Segment ids both in train and test are: []\n"
          ],
          "name": "stdout"
        }
      ]
    },
    {
      "cell_type": "markdown",
      "metadata": {
        "id": "17E1M77fwe64"
      },
      "source": [
        "## Load Data"
      ]
    },
    {
      "cell_type": "code",
      "metadata": {
        "id": "xUL5OODRKbFz",
        "outputId": "16ce5e95-fb87-4209-f55a-20bd50e47e2a",
        "colab": {
          "base_uri": "https://localhost:8080/",
          "height": 260
        }
      },
      "source": [
        "for train_segment_csv in train_segment_csvs[0:1]:\n",
        "  train_csv = pd.read_csv(train_segment_csv)\n",
        "  print(train_csv)"
      ],
      "execution_count": 35,
      "outputs": [
        {
          "output_type": "stream",
          "text": [
            "       sensor_1  sensor_2  sensor_3  ...  sensor_8  sensor_9  sensor_10\n",
            "0          64.0       NaN    -171.0  ...    -522.0     526.0     -239.0\n",
            "1           0.0       NaN    -165.0  ...    -110.0     411.0        2.0\n",
            "2         399.0       NaN    -172.0  ...    -131.0     283.0      265.0\n",
            "3         361.0       NaN    -185.0  ...      29.0     143.0      526.0\n",
            "4         -27.0       NaN    -153.0  ...     267.0     -14.0      742.0\n",
            "...         ...       ...       ...  ...       ...       ...        ...\n",
            "59996      26.0       NaN    -424.0  ...     363.0     344.0      115.0\n",
            "59997   -1243.0       NaN    -438.0  ...     382.0     333.0     -101.0\n",
            "59998    -865.0       NaN    -491.0  ...     136.0     352.0     -210.0\n",
            "59999     -21.0       NaN    -591.0  ...     214.0     343.0     -228.0\n",
            "60000     911.0       NaN    -592.0  ...    -267.0     313.0     -397.0\n",
            "\n",
            "[60001 rows x 10 columns]\n"
          ],
          "name": "stdout"
        }
      ]
    },
    {
      "cell_type": "code",
      "metadata": {
        "id": "HR72HHRwLBg9",
        "outputId": "6be8792b-2e14-4df7-9baa-9fc013c964c0",
        "colab": {
          "base_uri": "https://localhost:8080/",
          "height": 469
        }
      },
      "source": [
        "for i, row in train.iterrows():\n",
        "  print(\"Segment ID: %d \\t Time to Eruption: %d\" %(row.segment_id, row.time_to_eruption) )\n",
        "  sensor_data = pd.read_csv(\"train/\"+ str(row.segment_id) + \".csv\")\n",
        "  print(sensor_data)\n",
        "  print(sensor_data.describe())\n",
        "  print()\n",
        "  break"
      ],
      "execution_count": 42,
      "outputs": [
        {
          "output_type": "stream",
          "text": [
            "Segment ID: 1136037770 \t Time to Eruption: 12262005\n",
            "       sensor_1  sensor_2  sensor_3  ...  sensor_8  sensor_9  sensor_10\n",
            "0         220.0     339.0    -336.0  ...    -423.0    -582.0      -40.0\n",
            "1         178.0     221.0    -317.0  ...    -415.0    -932.0     -305.0\n",
            "2         151.0      42.0    -280.0  ...    -229.0    -257.0      -59.0\n",
            "3         162.0    -123.0    -243.0  ...     212.0    -295.0       38.0\n",
            "4         158.0    -287.0    -300.0  ...     755.0     169.0     -239.0\n",
            "...         ...       ...       ...  ...       ...       ...        ...\n",
            "59996    -152.0     188.0    -229.0  ...    1363.0     -24.0     -916.0\n",
            "59997     -97.0     268.0    -258.0  ...    1537.0     -54.0     -799.0\n",
            "59998     -34.0     592.0    -177.0  ...    1321.0    -219.0     -757.0\n",
            "59999       8.0     708.0     -53.0  ...     988.0      49.0     -821.0\n",
            "60000     -34.0     450.0     -30.0  ...    1304.0     578.0     -733.0\n",
            "\n",
            "[60001 rows x 10 columns]\n",
            "           sensor_1      sensor_2  ...      sensor_9     sensor_10\n",
            "count  60001.000000  60001.000000  ...  60001.000000  60001.000000\n",
            "mean      -1.610323      4.613823  ...      1.465042      2.599440\n",
            "std      303.096099    678.330828  ...    372.386746    596.865818\n",
            "min    -1421.000000  -5199.000000  ...  -1747.000000  -3527.000000\n",
            "25%     -199.000000   -391.000000  ...   -242.000000   -406.000000\n",
            "50%        0.000000      0.000000  ...      0.000000      0.000000\n",
            "75%      199.000000    403.000000  ...    245.000000    410.000000\n",
            "max     1353.000000   5572.000000  ...   2021.000000   2187.000000\n",
            "\n",
            "[8 rows x 10 columns]\n"
          ],
          "name": "stdout"
        }
      ]
    },
    {
      "cell_type": "code",
      "metadata": {
        "id": "24U5X3nPLt_W",
        "outputId": "f6cccbda-c1ac-4721-e4a4-242b733e697a",
        "colab": {
          "base_uri": "https://localhost:8080/",
          "height": 424
        }
      },
      "source": [
        "train"
      ],
      "execution_count": 25,
      "outputs": [
        {
          "output_type": "execute_result",
          "data": {
            "text/html": [
              "<div>\n",
              "<style scoped>\n",
              "    .dataframe tbody tr th:only-of-type {\n",
              "        vertical-align: middle;\n",
              "    }\n",
              "\n",
              "    .dataframe tbody tr th {\n",
              "        vertical-align: top;\n",
              "    }\n",
              "\n",
              "    .dataframe thead th {\n",
              "        text-align: right;\n",
              "    }\n",
              "</style>\n",
              "<table border=\"1\" class=\"dataframe\">\n",
              "  <thead>\n",
              "    <tr style=\"text-align: right;\">\n",
              "      <th></th>\n",
              "      <th>segment_id</th>\n",
              "      <th>time_to_eruption</th>\n",
              "    </tr>\n",
              "  </thead>\n",
              "  <tbody>\n",
              "    <tr>\n",
              "      <th>0</th>\n",
              "      <td>1136037770</td>\n",
              "      <td>12262005</td>\n",
              "    </tr>\n",
              "    <tr>\n",
              "      <th>1</th>\n",
              "      <td>1969647810</td>\n",
              "      <td>32739612</td>\n",
              "    </tr>\n",
              "    <tr>\n",
              "      <th>2</th>\n",
              "      <td>1895879680</td>\n",
              "      <td>14965999</td>\n",
              "    </tr>\n",
              "    <tr>\n",
              "      <th>3</th>\n",
              "      <td>2068207140</td>\n",
              "      <td>26469720</td>\n",
              "    </tr>\n",
              "    <tr>\n",
              "      <th>4</th>\n",
              "      <td>192955606</td>\n",
              "      <td>31072429</td>\n",
              "    </tr>\n",
              "    <tr>\n",
              "      <th>...</th>\n",
              "      <td>...</td>\n",
              "      <td>...</td>\n",
              "    </tr>\n",
              "    <tr>\n",
              "      <th>4426</th>\n",
              "      <td>873340274</td>\n",
              "      <td>15695097</td>\n",
              "    </tr>\n",
              "    <tr>\n",
              "      <th>4427</th>\n",
              "      <td>1297437712</td>\n",
              "      <td>35659379</td>\n",
              "    </tr>\n",
              "    <tr>\n",
              "      <th>4428</th>\n",
              "      <td>694853998</td>\n",
              "      <td>31206935</td>\n",
              "    </tr>\n",
              "    <tr>\n",
              "      <th>4429</th>\n",
              "      <td>1886987043</td>\n",
              "      <td>9598270</td>\n",
              "    </tr>\n",
              "    <tr>\n",
              "      <th>4430</th>\n",
              "      <td>1100632800</td>\n",
              "      <td>20128938</td>\n",
              "    </tr>\n",
              "  </tbody>\n",
              "</table>\n",
              "<p>4431 rows × 2 columns</p>\n",
              "</div>"
            ],
            "text/plain": [
              "      segment_id  time_to_eruption\n",
              "0     1136037770          12262005\n",
              "1     1969647810          32739612\n",
              "2     1895879680          14965999\n",
              "3     2068207140          26469720\n",
              "4      192955606          31072429\n",
              "...          ...               ...\n",
              "4426   873340274          15695097\n",
              "4427  1297437712          35659379\n",
              "4428   694853998          31206935\n",
              "4429  1886987043           9598270\n",
              "4430  1100632800          20128938\n",
              "\n",
              "[4431 rows x 2 columns]"
            ]
          },
          "metadata": {
            "tags": []
          },
          "execution_count": 25
        }
      ]
    },
    {
      "cell_type": "code",
      "metadata": {
        "id": "l2bfUPVBwjuu"
      },
      "source": [
        "train_379022420 = pd.read_csv(\"train/379022420.csv\")\n",
        "train_1002275321 = pd.read_csv(\"train/1002275321.csv\")"
      ],
      "execution_count": 15,
      "outputs": []
    },
    {
      "cell_type": "code",
      "metadata": {
        "id": "xOu0Bq9DwpZt",
        "outputId": "056925f5-36b5-470a-bb08-e0a0dc59a3c7",
        "colab": {
          "base_uri": "https://localhost:8080/",
          "height": 206
        }
      },
      "source": [
        "train.head()"
      ],
      "execution_count": 16,
      "outputs": [
        {
          "output_type": "execute_result",
          "data": {
            "text/html": [
              "<div>\n",
              "<style scoped>\n",
              "    .dataframe tbody tr th:only-of-type {\n",
              "        vertical-align: middle;\n",
              "    }\n",
              "\n",
              "    .dataframe tbody tr th {\n",
              "        vertical-align: top;\n",
              "    }\n",
              "\n",
              "    .dataframe thead th {\n",
              "        text-align: right;\n",
              "    }\n",
              "</style>\n",
              "<table border=\"1\" class=\"dataframe\">\n",
              "  <thead>\n",
              "    <tr style=\"text-align: right;\">\n",
              "      <th></th>\n",
              "      <th>segment_id</th>\n",
              "      <th>time_to_eruption</th>\n",
              "    </tr>\n",
              "  </thead>\n",
              "  <tbody>\n",
              "    <tr>\n",
              "      <th>0</th>\n",
              "      <td>1136037770</td>\n",
              "      <td>12262005</td>\n",
              "    </tr>\n",
              "    <tr>\n",
              "      <th>1</th>\n",
              "      <td>1969647810</td>\n",
              "      <td>32739612</td>\n",
              "    </tr>\n",
              "    <tr>\n",
              "      <th>2</th>\n",
              "      <td>1895879680</td>\n",
              "      <td>14965999</td>\n",
              "    </tr>\n",
              "    <tr>\n",
              "      <th>3</th>\n",
              "      <td>2068207140</td>\n",
              "      <td>26469720</td>\n",
              "    </tr>\n",
              "    <tr>\n",
              "      <th>4</th>\n",
              "      <td>192955606</td>\n",
              "      <td>31072429</td>\n",
              "    </tr>\n",
              "  </tbody>\n",
              "</table>\n",
              "</div>"
            ],
            "text/plain": [
              "   segment_id  time_to_eruption\n",
              "0  1136037770          12262005\n",
              "1  1969647810          32739612\n",
              "2  1895879680          14965999\n",
              "3  2068207140          26469720\n",
              "4   192955606          31072429"
            ]
          },
          "metadata": {
            "tags": []
          },
          "execution_count": 16
        }
      ]
    },
    {
      "cell_type": "code",
      "metadata": {
        "id": "iLRLlo9Kwtpw",
        "outputId": "cb2cb8b6-de8c-4069-8505-cc2a4a4cd256",
        "colab": {
          "base_uri": "https://localhost:8080/",
          "height": 173
        }
      },
      "source": [
        "train.info()"
      ],
      "execution_count": 17,
      "outputs": [
        {
          "output_type": "stream",
          "text": [
            "<class 'pandas.core.frame.DataFrame'>\n",
            "RangeIndex: 4431 entries, 0 to 4430\n",
            "Data columns (total 2 columns):\n",
            " #   Column            Non-Null Count  Dtype\n",
            "---  ------            --------------  -----\n",
            " 0   segment_id        4431 non-null   int64\n",
            " 1   time_to_eruption  4431 non-null   int64\n",
            "dtypes: int64(2)\n",
            "memory usage: 69.4 KB\n"
          ],
          "name": "stdout"
        }
      ]
    },
    {
      "cell_type": "code",
      "metadata": {
        "id": "TnMVRXiCw2gO"
      },
      "source": [
        ""
      ],
      "execution_count": 17,
      "outputs": []
    }
  ]
}